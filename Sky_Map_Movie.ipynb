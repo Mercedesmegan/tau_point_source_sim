{
 "cells": [
  {
   "cell_type": "code",
   "execution_count": null,
   "metadata": {},
   "outputs": [],
   "source": [
    "# Importing Packages and Set Up\n",
    "\n",
    "%matplotlib inline\n",
    "from mpl_toolkits.axes_grid1 import make_axes_locatable\n",
    "import matplotlib.colors as colors\n",
    "from matplotlib.mlab import bivariate_normal\n",
    "from pylab import *\n",
    "import numpy as np\n",
    "\n",
    "import astropy.units as u\n",
    "from astropy.time import Time, TimeDelta\n",
    "from astropy.coordinates import SkyCoord, EarthLocation, Angle\n",
    "from astropy.coordinates import FK5\n",
    "\n",
    "import detectorgeometry as geom"
   ]
  },
  {
   "cell_type": "code",
   "execution_count": null,
   "metadata": {},
   "outputs": [],
   "source": [
    "# Input ANITA Flight Path Data\n",
    "\n",
    "N_sim =25\n",
    "A_lat = np.asarray([]) # Earth latitude in degrees\n",
    "A_long = np.asarray([])# Earth longitude in degrees\n",
    "A_alt = np.asarray([])\n",
    "A_ice = np.asarray([])\n",
    "A_time = np.asarray([])\n",
    "\n",
    "orbit = Time('2013-12-10T00:00:00.0') - Time('2013-12-01T00:00:00.0')\n",
    "t_sim = orbit/N_sim\n",
    "    \n",
    "for i in range(0,N_sim):\n",
    "    inc = 360/N_sim\n",
    "    A_lat = np.append(A_lat, float(-75.0))\n",
    "    A_long = np.append(A_long,float(i)*inc)\n",
    "    A_alt = np.append(A_alt,35.0)\n",
    "    A_ice = np.append(A_ice,3.0)\n",
    "    A_sim = Time('2013-12-10T00:00:00.0')+i*t_sim\n",
    "    A_time = np.append(A_time, A_sim.value)\n",
    "\n",
    "h = A_alt \n",
    "lat_loc = Angle(A_lat *u.deg)\n",
    "lon_loc = Angle(A_long * u.deg)\n",
    "A_loc = EarthLocation(lat = lat_loc,lon = lon_loc, height = h *u.km )\n",
    "\n",
    "radius = lambda x: np.sqrt(A_loc.geocentric[0][x]**2+A_loc.geocentric[1][x]**2+A_loc.geocentric[2][x]**2)\n",
    "A_R = radius(range(0,len(A_loc)))\n"
   ]
  },
  {
   "cell_type": "code",
   "execution_count": null,
   "metadata": {},
   "outputs": [],
   "source": [
    "# Map Creation Parameters\n",
    "sky_bin_dec = np.linspace(-90,90,181)\n",
    "sky_bins = np.tile(sky_bin_dec,(360,1))\n",
    "\n",
    "print sky_bins.shape\n"
   ]
  },
  {
   "cell_type": "code",
   "execution_count": null,
   "metadata": {},
   "outputs": [],
   "source": [
    "# Movie Creation Parameters\n",
    "\n",
    "N_bins = 25 # number of bins dividing flight time\n",
    "\n",
    "t = Time(A_time, format='isot', scale='utc')\n",
    "t_start = min(t)# start JD of flight\n",
    "t_end = max(t) # end JD of flight\n",
    "t_width = (t_end - t_start)/N_bins # some interval of time that is the width of the bins"
   ]
  },
  {
   "cell_type": "code",
   "execution_count": null,
   "metadata": {},
   "outputs": [],
   "source": [
    "# Importing Effective Areas for Various Source Angles\n",
    "import csv\n",
    "with open(\"eff_area.csv\", 'rb') as csvfile:\n",
    "    areas_ref = csv.reader(csvfile)\n",
    "\n",
    "    eff_areas=[]\n",
    "    for row in areas_ref:\n",
    "        eff_areas.append(row[0])\n",
    "    \n",
    "eff_areas=np.asarray(eff_areas,dtype=float64)"
   ]
  },
  {
   "cell_type": "code",
   "execution_count": null,
   "metadata": {
    "scrolled": true
   },
   "outputs": [],
   "source": [
    "# determining effective area for each bin of the sky map\n",
    "sky_maps_frames_sep=[]\n",
    "sky_maps_frames_total=[]\n",
    "\n",
    "sky_map_total = np.asarray([[0 for x in range(181)] for y in range(360)],dtype=float64)\n",
    "for k in range(0,N_bins):\n",
    "    print k\n",
    "    sky_map_b = np.asarray([[0 for x in range(181)] for y in range(360)],dtype=float64 )\n",
    "    # determine observations that fall into the bin\n",
    "    N_obs = len(A_time)\n",
    "    start_index = int(k*N_obs/N_bins)\n",
    "    end_index = start_index + int(N_obs/N_bins)\n",
    "    \n",
    "    t_bin = Time(A_time[start_index:end_index], format='isot', scale='utc')\n",
    "    t_mean = min(t_bin)+t_width\n",
    "\n",
    "    # determine ANITA approximate position for that time bin\n",
    "    A_lat_bin = np.mean(A_lat[start_index:end_index])\n",
    "    A_lon_bin = np.mean(A_long[start_index:end_index])\n",
    "    A_alt_bin = np.mean(A_alt[start_index:end_index])\n",
    "    A_ice_bin = np.mean(A_ice[start_index:end_index])\n",
    "    A_R_bin = np.mean(A_R[start_index:end_index])\n",
    "\n",
    "    h_bin = A_alt_bin\n",
    "    lat_loc_bin = Angle(A_lat_bin *u.deg)\n",
    "    lon_loc_bin = Angle(A_lon_bin * u.deg)\n",
    "    A_loc_bin = EarthLocation(lat = lat_loc_bin,lon = lon_loc_bin, height = h_bin *u.km )\n",
    "            \n",
    "    for i in range(0,360):\n",
    "        # print i\n",
    "        bin_ra = Angle(i * u.deg)\n",
    "        bin_dec = Angle(sky_bins[i] * u.deg)\n",
    "    \n",
    "        # determine the altitude and azimuth of the sky map bin from ANITA's point of view\n",
    "        sky_bin_loc = SkyCoord(ra = bin_ra, dec = bin_dec, frame = 'icrs', obstime = t_mean, location = A_loc_bin)\n",
    "        sky_bin_alt_az = sky_bin_loc.transform_to('altaz')\n",
    "        sky_bin_alt = sky_bin_alt_az.alt\n",
    "\n",
    "        # convert from sky bin altitude to source angle\n",
    "        bin_elev = sky_bin_alt.value\n",
    "        theta_src = 180+bin_elev - 90\n",
    "        # print bin_dec,theta_src\n",
    "\n",
    "        A = np.interp(theta_src,np.linspace(0,89,90),eff_areas,0.0,0.0)\n",
    "\n",
    "        #sky_map_ra=np.asarray(A)\n",
    "        # print i, len(theta_src),len(A),sky_map_ra.shape\n",
    "        sky_map_b[i] = np.asarray(A,dtype=float64)\n",
    "        #print min(A[90:]), min(sky_map_b[i][90:])\n",
    "    \n",
    "    \n",
    "    sky_map_total = sky_map_total+sky_map_b\n",
    "    sky_maps_frames_sep.append(sky_map_b)\n",
    "    \n",
    "    sky_map_mean = sky_map_total/float(k+1)\n",
    "    sky_maps_frames_total.append(sky_map_mean)"
   ]
  },
  {
   "cell_type": "code",
   "execution_count": 1,
   "metadata": {
    "scrolled": true
   },
   "outputs": [
    {
     "ename": "NameError",
     "evalue": "name 'N_bins' is not defined",
     "output_type": "error",
     "traceback": [
      "\u001b[0;31m---------------------------------------------------------------------------\u001b[0m",
      "\u001b[0;31mNameError\u001b[0m                                 Traceback (most recent call last)",
      "\u001b[0;32m<ipython-input-1-06eb16511075>\u001b[0m in \u001b[0;36m<module>\u001b[0;34m()\u001b[0m\n\u001b[1;32m      1\u001b[0m \u001b[0;31m# Making Sky Map for each Bin\u001b[0m\u001b[0;34m\u001b[0m\u001b[0;34m\u001b[0m\u001b[0m\n\u001b[0;32m----> 2\u001b[0;31m \u001b[0;32mfor\u001b[0m \u001b[0mk\u001b[0m \u001b[0;32min\u001b[0m \u001b[0mrange\u001b[0m\u001b[0;34m(\u001b[0m\u001b[0;36m0\u001b[0m\u001b[0;34m,\u001b[0m\u001b[0mN_bins\u001b[0m\u001b[0;34m)\u001b[0m\u001b[0;34m:\u001b[0m\u001b[0;34m\u001b[0m\u001b[0m\n\u001b[0m\u001b[1;32m      3\u001b[0m     \u001b[0mfig\u001b[0m \u001b[0;34m=\u001b[0m \u001b[0mplt\u001b[0m\u001b[0;34m.\u001b[0m\u001b[0mfigure\u001b[0m\u001b[0;34m(\u001b[0m\u001b[0mfigsize\u001b[0m\u001b[0;34m=\u001b[0m\u001b[0;34m(\u001b[0m\u001b[0;36m10\u001b[0m\u001b[0;34m,\u001b[0m\u001b[0;36m10\u001b[0m\u001b[0;34m)\u001b[0m\u001b[0;34m)\u001b[0m\u001b[0;34m\u001b[0m\u001b[0m\n\u001b[1;32m      4\u001b[0m \u001b[0;34m\u001b[0m\u001b[0m\n\u001b[1;32m      5\u001b[0m     \u001b[0mleft\u001b[0m \u001b[0;34m=\u001b[0m \u001b[0;36m360\u001b[0m\u001b[0;34m\u001b[0m\u001b[0m\n",
      "\u001b[0;31mNameError\u001b[0m: name 'N_bins' is not defined"
     ]
    }
   ],
   "source": [
    "# Making Sky Map for each Bin\n",
    "for k in range(0,N_bins):\n",
    "    fig = plt.figure(figsize=(10,10))\n",
    "\n",
    "    left = 0\n",
    "    right = 360\n",
    "    bottom = -90\n",
    "    top = 90\n",
    "    extent = [left, right, bottom, top]\n",
    "    \n",
    "#     plt.imshow(np.flip(np.transpose(sky_maps_frames_sep[k])), extent = extent)\n",
    "#     plt.text(370,20,'Linear Color Scale',rotation=90,fontsize=12)\n",
    "    \n",
    "    plt.imshow(np.flip(np.transpose(sky_maps_frames_sep[k]),0), extent = extent, norm=matplotlib.colors.LogNorm())\n",
    "    plt.text(370,20,'Log Color Scale',rotation=90,fontsize=12)\n",
    "    plt.colorbar(shrink=0.5)\n",
    "\n",
    "    plt.ylabel(\"Declination (degrees)\", fontsize=18)\n",
    "    plt.xlabel(\"Right Ascension (degrees)\", fontsize=18)\n",
    "    plt.title(\"ANITA Geometric Effective Area Sky Projection\", fontsize=20)\n",
    "    \n",
    "    filename = \"bin_sep\"+str(k)+\".png\"\n",
    "    plt.savefig(filename)\n",
    "    plt.show()"
   ]
  },
  {
   "cell_type": "code",
   "execution_count": null,
   "metadata": {},
   "outputs": [],
   "source": [
    "print sky_maps_frames_sep[0][150][90:]"
   ]
  },
  {
   "cell_type": "code",
   "execution_count": null,
   "metadata": {
    "scrolled": true
   },
   "outputs": [],
   "source": [
    "# Making Cumulative Sky Map\n",
    "for k in range(0,N_bins):\n",
    "    fig = plt.figure(figsize=(10,10))\n",
    "\n",
    "    left = 0\n",
    "    right = 360\n",
    "    bottom = -90\n",
    "    top = 90\n",
    "    extent = [left, right, bottom, top]\n",
    "    \n",
    "#     plt.imshow(np.flip(np.transpose(sky_maps_frames_total[k])), extent = extent)\n",
    "#     plt.text(370,20,'Linear Color Scale',rotation=90,fontsize=12)\n",
    "    \n",
    "    plt.imshow(np.flip(np.transpose(sky_maps_frames_total[k]),0), extent = extent, norm=matplotlib.colors.LogNorm())\n",
    "    plt.text(370,20,'Log Color Scale',rotation=90,fontsize=12)\n",
    "    plt.colorbar(shrink=0.5)\n",
    "\n",
    "    plt.ylabel(\"Declination (degrees)\", fontsize=18)\n",
    "    plt.xlabel(\"Right Ascension (degrees)\", fontsize=18)\n",
    "    plt.title(\"ANITA Geometric Effective Area Sky Projection\", fontsize=20)\n",
    "    filename = \"bin_tot\"+str(k)+\".png\"\n",
    "    plt.savefig(filename)\n",
    "    plt.show()\n"
   ]
  },
  {
   "cell_type": "code",
   "execution_count": null,
   "metadata": {},
   "outputs": [],
   "source": [
    "# Making Movie\n",
    "import imageio\n",
    "images = []\n",
    "for k in range(0,N_bins):\n",
    "    filename = \"bin_sep\"+str(k)+\".png\"\n",
    "    images.append(imageio.imread(filename))\n",
    "imageio.mimsave('dec25_movie_sep_log.gif', images)\n",
    "\n",
    "images = []\n",
    "for k in range(0,N_bins):\n",
    "    filename = \"bin_tot\"+str(k)+\".png\"\n",
    "    images.append(imageio.imread(filename))\n",
    "imageio.mimsave('dec25_movie_tot_log.gif', images)"
   ]
  },
  {
   "cell_type": "code",
   "execution_count": null,
   "metadata": {},
   "outputs": [],
   "source": []
  }
 ],
 "metadata": {
  "kernelspec": {
   "display_name": "Python 2",
   "language": "python",
   "name": "python2"
  },
  "language_info": {
   "codemirror_mode": {
    "name": "ipython",
    "version": 2
   },
   "file_extension": ".py",
   "mimetype": "text/x-python",
   "name": "python",
   "nbconvert_exporter": "python",
   "pygments_lexer": "ipython2",
   "version": "2.7.16"
  }
 },
 "nbformat": 4,
 "nbformat_minor": 2
}
