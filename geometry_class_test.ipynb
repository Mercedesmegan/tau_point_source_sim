{
 "cells": [
  {
   "cell_type": "code",
   "execution_count": 5,
   "metadata": {},
   "outputs": [
    {
     "data": {
      "text/plain": [
       "<module 'detectorgeometry_trap' from 'detectorgeometry_trap.pyc'>"
      ]
     },
     "execution_count": 5,
     "metadata": {},
     "output_type": "execute_result"
    }
   ],
   "source": [
    "# setting up the notebook \n",
    "\n",
    "%matplotlib inline\n",
    "from pylab import *\n",
    "\n",
    "# importing the class stored in the same directory as this file\n",
    "import detectorgeometry as geom\n",
    "import detectorgeometry_trap as geom_trap\n",
    "\n",
    "# including command to reload the class in case it is modified\n",
    "reload(geom)\n",
    "reload(geom_trap)"
   ]
  },
  {
   "cell_type": "code",
   "execution_count": 2,
   "metadata": {},
   "outputs": [
    {
     "name": "stdout",
     "output_type": "stream",
     "text": [
      "181.8719945055286\n"
     ]
    }
   ],
   "source": [
    "# example data input to class to determin effective area\n",
    "\n",
    "theta_src = radians(83) #radians\n",
    "h = 35.5 #km\n",
    "R = 6356. # km\n",
    "theta_view = radians(1) #degrees\n",
    "N = 1000000 # number of samples\n",
    "\n",
    "# using the class\n",
    "area = geom.Area(theta_src,h,R,theta_view, N)\n",
    "\n",
    "print area.degree_eff_area()"
   ]
  },
  {
   "cell_type": "code",
   "execution_count": null,
   "metadata": {},
   "outputs": [],
   "source": [
    "# check that the effective area calculated using Monte Carlo matches \n",
    "# the effective area integral\n",
    "\n",
    "# writing necessary geometry functions\n",
    "def rho_tau(t): # distance from observatory to Earth based on nadir angle\n",
    "    rho = (2*(R+h)*np.cos(t) -  np.sqrt(4*((R+h)**2)*np.cos(t)**2 - 4*(2*R*h+h**2))) / 2\n",
    "    return rho \n",
    "\n",
    "def rho_theta(t): # distance from observatory to Earth based on source angle\n",
    "    rho = (2*R*np.cos(pi-t) +  np.sqrt(4*(R**2)*(np.cos(pi-t))**2 - 4*(-2*R*h-h**2))) / 2\n",
    "    return rho \n",
    "\n",
    "def tau_theta(t): # nadir angle based on source angle\n",
    "    tau = np.arcsin(R * np.sin(pi - t) / (R+h))\n",
    "    return tau\n",
    "\n",
    "def thetaE_tau(tau): # earth angle based on nadir angle\n",
    "    earth_t = np.arcsin(rho_tau(tau) * np.sin(tau) / R)\n",
    "    return earth_t"
   ]
  },
  {
   "cell_type": "code",
   "execution_count": null,
   "metadata": {},
   "outputs": [],
   "source": [
    "# function evaluating integral for particular source theta\n",
    "def integral_eff_area(phi_src,theta_src,h,R,theta_view):\n",
    "        \n",
    "    # this approximation of the integral is appropriate only for small source declinations\n",
    "    rho = rho_theta(theta)\n",
    "    A_1 = rho**2 * 2*pi*(1- np.cos(theta_view))\n",
    "    \n",
    "    # appropriate for all angles\n",
    "    earth_t = thetaE_tau(theta)\n",
    "    earth_t_min = thetaE_tau(theta - theta_view)\n",
    "    arg = 4*((R+h)**2)*np.cos(theta + theta_view)**2 - 4*(2*R*h+h**2)\n",
    "    if arg >=0:\n",
    "        earth_t_max = thetaE_tau(theta + theta_view)\n",
    "    elif arg < 0:\n",
    "        earth_t_max = np.arccos(R/(R+h))\n",
    "    earth_angle = 0.5 * (earth_t_max - earth_t_min)\n",
    "            \n",
    "    # this calculation of the integral chooses the incidence factor of the source angle\n",
    "    # Earth angle where it intersects the observatory\n",
    "    A_2 = R**2 * 2*pi * (1- np.cos(earth_angle)) * np.cos(earth_t+theta)\n",
    "    \n",
    "    # this calculation of the integral chooses the incidence factor of the \n",
    "    # effective area's unweighted average Earth angle \n",
    "    A_3 = R**2 * 2*pi * (1- np.cos(earth_angle)) * np.cos(0.5* (earth_t_min+earth_t_max)+theta)\n",
    "    return A_2"
   ]
  },
  {
   "cell_type": "code",
   "execution_count": null,
   "metadata": {},
   "outputs": [],
   "source": [
    "# Checking the class output with the calculations\n",
    "\n",
    "start = 0 # minimum source declination in degrees\n",
    "end = 9 # maximum source declination in degrees\n",
    "steps=9 # divisions indeclination used to check class\n",
    "\n",
    "phi_src = 0\n",
    "\n",
    "for i in range(1,4):\n",
    "    print \"Acceptance Angle (degrees): \", i\n",
    "    theta_view = radians(i)\n",
    "    for j in range(0,steps):\n",
    "        theta = radians(start+(end-start)*float(j)/steps)\n",
    "        area = geom.Area(theta,h,R,theta_view, N)\n",
    "        A_class = area.degree_eff_area()\n",
    "        A_calc = integral_eff_area(phi_src,theta,h,R,theta_view)\n",
    "        print \"Source Theta: \"+str(round(degrees(theta),3))+\" MC: \"+str(round(A_class,3))+\" Calculated: \"+str(round(A_calc,3))\n",
    "    print \"   \""
   ]
  },
  {
   "cell_type": "code",
   "execution_count": 3,
   "metadata": {},
   "outputs": [
    {
     "name": "stdout",
     "output_type": "stream",
     "text": [
      "0\n",
      "1\n",
      "2\n"
     ]
    },
    {
     "ename": "KeyboardInterrupt",
     "evalue": "",
     "output_type": "error",
     "traceback": [
      "\u001b[0;31m---------------------------------------------------------------------------\u001b[0m",
      "\u001b[0;31mKeyboardInterrupt\u001b[0m                         Traceback (most recent call last)",
      "\u001b[0;32m<ipython-input-3-49a34856b61d>\u001b[0m in \u001b[0;36m<module>\u001b[0;34m()\u001b[0m\n\u001b[1;32m     20\u001b[0m     \u001b[0mtheta\u001b[0m \u001b[0;34m=\u001b[0m \u001b[0mradians\u001b[0m\u001b[0;34m(\u001b[0m\u001b[0mstart\u001b[0m\u001b[0;34m+\u001b[0m\u001b[0;34m(\u001b[0m\u001b[0mend\u001b[0m\u001b[0;34m-\u001b[0m\u001b[0mstart\u001b[0m\u001b[0;34m)\u001b[0m\u001b[0;34m*\u001b[0m\u001b[0mfloat\u001b[0m\u001b[0;34m(\u001b[0m\u001b[0mj\u001b[0m\u001b[0;34m)\u001b[0m\u001b[0;34m/\u001b[0m\u001b[0msteps\u001b[0m\u001b[0;34m)\u001b[0m\u001b[0;34m\u001b[0m\u001b[0m\n\u001b[1;32m     21\u001b[0m     \u001b[0marea\u001b[0m \u001b[0;34m=\u001b[0m \u001b[0mgeom\u001b[0m\u001b[0;34m.\u001b[0m\u001b[0mArea\u001b[0m\u001b[0;34m(\u001b[0m\u001b[0mtheta\u001b[0m\u001b[0;34m,\u001b[0m\u001b[0mh\u001b[0m\u001b[0;34m,\u001b[0m\u001b[0mR\u001b[0m\u001b[0;34m,\u001b[0m\u001b[0mtheta_view\u001b[0m\u001b[0;34m,\u001b[0m \u001b[0mN\u001b[0m\u001b[0;34m)\u001b[0m\u001b[0;34m\u001b[0m\u001b[0m\n\u001b[0;32m---> 22\u001b[0;31m     \u001b[0mA\u001b[0m \u001b[0;34m=\u001b[0m \u001b[0marea\u001b[0m\u001b[0;34m.\u001b[0m\u001b[0mdegree_eff_area\u001b[0m\u001b[0;34m(\u001b[0m\u001b[0;34m)\u001b[0m\u001b[0;34m\u001b[0m\u001b[0m\n\u001b[0m\u001b[1;32m     23\u001b[0m     \u001b[0msky_map\u001b[0m\u001b[0;34m.\u001b[0m\u001b[0mappend\u001b[0m\u001b[0;34m(\u001b[0m\u001b[0mA\u001b[0m\u001b[0;34m)\u001b[0m\u001b[0;34m\u001b[0m\u001b[0m\n\u001b[1;32m     24\u001b[0m \u001b[0;34m\u001b[0m\u001b[0m\n",
      "\u001b[0;32m/Users/cburch/tau_point_source_sim/detectorgeometry.pyc\u001b[0m in \u001b[0;36mdegree_eff_area\u001b[0;34m(self)\u001b[0m\n\u001b[1;32m     64\u001b[0m \u001b[0;34m\u001b[0m\u001b[0m\n\u001b[1;32m     65\u001b[0m     \u001b[0;32mdef\u001b[0m \u001b[0mdegree_eff_area\u001b[0m\u001b[0;34m(\u001b[0m\u001b[0mself\u001b[0m\u001b[0;34m)\u001b[0m\u001b[0;34m:\u001b[0m\u001b[0;34m\u001b[0m\u001b[0m\n\u001b[0;32m---> 66\u001b[0;31m         \u001b[0mdot\u001b[0m \u001b[0;34m=\u001b[0m \u001b[0mself\u001b[0m\u001b[0;34m.\u001b[0m\u001b[0mdot_prod\u001b[0m\u001b[0;34m(\u001b[0m\u001b[0;34m)\u001b[0m\u001b[0;34m\u001b[0m\u001b[0m\n\u001b[0m\u001b[1;32m     67\u001b[0m         \u001b[0mangle\u001b[0m \u001b[0;34m=\u001b[0m \u001b[0mself\u001b[0m\u001b[0;34m.\u001b[0m\u001b[0mview_angle_det\u001b[0m\u001b[0;34m(\u001b[0m\u001b[0;34m)\u001b[0m\u001b[0;34m\u001b[0m\u001b[0m\n\u001b[1;32m     68\u001b[0m         \u001b[0mself\u001b[0m\u001b[0;34m.\u001b[0m\u001b[0mA_deg\u001b[0m \u001b[0;34m=\u001b[0m \u001b[0mself\u001b[0m\u001b[0;34m.\u001b[0m\u001b[0mA0\u001b[0m \u001b[0;34m*\u001b[0m \u001b[0;36m1.\u001b[0m\u001b[0;34m/\u001b[0m\u001b[0mfloat\u001b[0m\u001b[0;34m(\u001b[0m\u001b[0mself\u001b[0m\u001b[0;34m.\u001b[0m\u001b[0mn\u001b[0m\u001b[0;34m)\u001b[0m \u001b[0;34m*\u001b[0m \u001b[0mnp\u001b[0m\u001b[0;34m.\u001b[0m\u001b[0msum\u001b[0m\u001b[0;34m(\u001b[0m\u001b[0mdot\u001b[0m \u001b[0;34m*\u001b[0m \u001b[0;34m(\u001b[0m\u001b[0mangle\u001b[0m \u001b[0;34m<\u001b[0m \u001b[0mself\u001b[0m\u001b[0;34m.\u001b[0m\u001b[0mt_v\u001b[0m\u001b[0;34m)\u001b[0m \u001b[0;34m*\u001b[0m \u001b[0;34m(\u001b[0m\u001b[0mdot\u001b[0m\u001b[0;34m>\u001b[0m\u001b[0;36m0.\u001b[0m\u001b[0;34m)\u001b[0m \u001b[0;34m)\u001b[0m\u001b[0;34m\u001b[0m\u001b[0m\n",
      "\u001b[0;32m/Users/cburch/tau_point_source_sim/detectorgeometry.pyc\u001b[0m in \u001b[0;36mdot_prod\u001b[0;34m(self)\u001b[0m\n\u001b[1;32m     25\u001b[0m \u001b[0;34m\u001b[0m\u001b[0m\n\u001b[1;32m     26\u001b[0m     \u001b[0;32mdef\u001b[0m \u001b[0mdot_prod\u001b[0m\u001b[0;34m(\u001b[0m\u001b[0mself\u001b[0m\u001b[0;34m)\u001b[0m\u001b[0;34m:\u001b[0m\u001b[0;34m\u001b[0m\u001b[0m\n\u001b[0;32m---> 27\u001b[0;31m         \u001b[0mself\u001b[0m\u001b[0;34m.\u001b[0m\u001b[0me_x\u001b[0m\u001b[0;34m,\u001b[0m \u001b[0mself\u001b[0m\u001b[0;34m.\u001b[0m\u001b[0me_y\u001b[0m\u001b[0;34m,\u001b[0m \u001b[0mself\u001b[0m\u001b[0;34m.\u001b[0m\u001b[0me_z\u001b[0m \u001b[0;34m=\u001b[0m \u001b[0mself\u001b[0m\u001b[0;34m.\u001b[0m\u001b[0mearth_coords\u001b[0m\u001b[0;34m(\u001b[0m\u001b[0;34m)\u001b[0m\u001b[0;34m\u001b[0m\u001b[0m\n\u001b[0m\u001b[1;32m     28\u001b[0m         \u001b[0mself\u001b[0m\u001b[0;34m.\u001b[0m\u001b[0mr_x\u001b[0m\u001b[0;34m,\u001b[0m \u001b[0mself\u001b[0m\u001b[0;34m.\u001b[0m\u001b[0mr_y\u001b[0m\u001b[0;34m,\u001b[0m \u001b[0mself\u001b[0m\u001b[0;34m.\u001b[0m\u001b[0mr_z\u001b[0m \u001b[0;34m=\u001b[0m \u001b[0mself\u001b[0m\u001b[0;34m.\u001b[0m\u001b[0msource_coords\u001b[0m\u001b[0;34m(\u001b[0m\u001b[0;34m)\u001b[0m\u001b[0;34m\u001b[0m\u001b[0m\n\u001b[1;32m     29\u001b[0m         \u001b[0mself\u001b[0m\u001b[0;34m.\u001b[0m\u001b[0mdot\u001b[0m \u001b[0;34m=\u001b[0m \u001b[0mself\u001b[0m\u001b[0;34m.\u001b[0m\u001b[0me_x\u001b[0m\u001b[0;34m*\u001b[0m\u001b[0mself\u001b[0m\u001b[0;34m.\u001b[0m\u001b[0mr_x\u001b[0m \u001b[0;34m+\u001b[0m\u001b[0mself\u001b[0m\u001b[0;34m.\u001b[0m\u001b[0mr_y\u001b[0m\u001b[0;34m*\u001b[0m\u001b[0mself\u001b[0m\u001b[0;34m.\u001b[0m\u001b[0me_y\u001b[0m \u001b[0;34m+\u001b[0m \u001b[0mself\u001b[0m\u001b[0;34m.\u001b[0m\u001b[0me_z\u001b[0m\u001b[0;34m*\u001b[0m\u001b[0mself\u001b[0m\u001b[0;34m.\u001b[0m\u001b[0mr_z\u001b[0m\u001b[0;34m\u001b[0m\u001b[0m\n",
      "\u001b[0;32m/Users/cburch/tau_point_source_sim/detectorgeometry.pyc\u001b[0m in \u001b[0;36mearth_coords\u001b[0;34m(self)\u001b[0m\n\u001b[1;32m     37\u001b[0m \u001b[0;34m\u001b[0m\u001b[0m\n\u001b[1;32m     38\u001b[0m     \u001b[0;32mdef\u001b[0m \u001b[0mearth_coords\u001b[0m\u001b[0;34m(\u001b[0m\u001b[0mself\u001b[0m\u001b[0;34m)\u001b[0m\u001b[0;34m:\u001b[0m\u001b[0;34m\u001b[0m\u001b[0m\n\u001b[0;32m---> 39\u001b[0;31m         \u001b[0mself\u001b[0m\u001b[0;34m.\u001b[0m\u001b[0mphi_e\u001b[0m\u001b[0;34m,\u001b[0m \u001b[0mself\u001b[0m\u001b[0;34m.\u001b[0m\u001b[0mt_e\u001b[0m \u001b[0;34m=\u001b[0m \u001b[0mself\u001b[0m\u001b[0;34m.\u001b[0m\u001b[0mearth_locs\u001b[0m\u001b[0;34m(\u001b[0m\u001b[0;34m)\u001b[0m\u001b[0;34m\u001b[0m\u001b[0m\n\u001b[0m\u001b[1;32m     40\u001b[0m         \u001b[0mself\u001b[0m\u001b[0;34m.\u001b[0m\u001b[0me_x\u001b[0m \u001b[0;34m=\u001b[0m \u001b[0mnp\u001b[0m\u001b[0;34m.\u001b[0m\u001b[0msin\u001b[0m\u001b[0;34m(\u001b[0m\u001b[0mself\u001b[0m\u001b[0;34m.\u001b[0m\u001b[0mt_e\u001b[0m\u001b[0;34m)\u001b[0m \u001b[0;34m*\u001b[0m \u001b[0mnp\u001b[0m\u001b[0;34m.\u001b[0m\u001b[0mcos\u001b[0m\u001b[0;34m(\u001b[0m\u001b[0mself\u001b[0m\u001b[0;34m.\u001b[0m\u001b[0mphi_e\u001b[0m\u001b[0;34m)\u001b[0m\u001b[0;34m\u001b[0m\u001b[0m\n\u001b[1;32m     41\u001b[0m         \u001b[0mself\u001b[0m\u001b[0;34m.\u001b[0m\u001b[0me_y\u001b[0m \u001b[0;34m=\u001b[0m \u001b[0mnp\u001b[0m\u001b[0;34m.\u001b[0m\u001b[0msin\u001b[0m\u001b[0;34m(\u001b[0m\u001b[0mself\u001b[0m\u001b[0;34m.\u001b[0m\u001b[0mt_e\u001b[0m\u001b[0;34m)\u001b[0m \u001b[0;34m*\u001b[0m \u001b[0mnp\u001b[0m\u001b[0;34m.\u001b[0m\u001b[0msin\u001b[0m\u001b[0;34m(\u001b[0m\u001b[0mself\u001b[0m\u001b[0;34m.\u001b[0m\u001b[0mphi_e\u001b[0m\u001b[0;34m)\u001b[0m\u001b[0;34m\u001b[0m\u001b[0m\n",
      "\u001b[0;32m/Users/cburch/tau_point_source_sim/detectorgeometry.pyc\u001b[0m in \u001b[0;36mearth_locs\u001b[0;34m(self)\u001b[0m\n\u001b[1;32m     32\u001b[0m     \u001b[0;32mdef\u001b[0m \u001b[0mearth_locs\u001b[0m\u001b[0;34m(\u001b[0m\u001b[0mself\u001b[0m\u001b[0;34m)\u001b[0m\u001b[0;34m:\u001b[0m\u001b[0;34m\u001b[0m\u001b[0m\n\u001b[1;32m     33\u001b[0m         \u001b[0mself\u001b[0m\u001b[0;34m.\u001b[0m\u001b[0mphi_e\u001b[0m \u001b[0;34m=\u001b[0m \u001b[0mnp\u001b[0m\u001b[0;34m.\u001b[0m\u001b[0mrandom\u001b[0m\u001b[0;34m.\u001b[0m\u001b[0muniform\u001b[0m\u001b[0;34m(\u001b[0m\u001b[0;36m0.\u001b[0m\u001b[0;34m,\u001b[0m \u001b[0;36m2.\u001b[0m\u001b[0;34m*\u001b[0m\u001b[0mnp\u001b[0m\u001b[0;34m.\u001b[0m\u001b[0mpi\u001b[0m\u001b[0;34m,\u001b[0m \u001b[0mself\u001b[0m\u001b[0;34m.\u001b[0m\u001b[0mn\u001b[0m\u001b[0;34m)\u001b[0m\u001b[0;34m\u001b[0m\u001b[0m\n\u001b[0;32m---> 34\u001b[0;31m         \u001b[0mself\u001b[0m\u001b[0;34m.\u001b[0m\u001b[0mcos_theta_e\u001b[0m \u001b[0;34m=\u001b[0m \u001b[0mnp\u001b[0m\u001b[0;34m.\u001b[0m\u001b[0mrandom\u001b[0m\u001b[0;34m.\u001b[0m\u001b[0muniform\u001b[0m\u001b[0;34m(\u001b[0m\u001b[0mself\u001b[0m\u001b[0;34m.\u001b[0m\u001b[0mcos_theta_e_hor\u001b[0m\u001b[0;34m,\u001b[0m \u001b[0;36m1\u001b[0m\u001b[0;34m,\u001b[0m \u001b[0mself\u001b[0m\u001b[0;34m.\u001b[0m\u001b[0mn\u001b[0m\u001b[0;34m)\u001b[0m\u001b[0;34m\u001b[0m\u001b[0m\n\u001b[0m\u001b[1;32m     35\u001b[0m         \u001b[0mself\u001b[0m\u001b[0;34m.\u001b[0m\u001b[0mt_e\u001b[0m \u001b[0;34m=\u001b[0m \u001b[0mnp\u001b[0m\u001b[0;34m.\u001b[0m\u001b[0marccos\u001b[0m\u001b[0;34m(\u001b[0m\u001b[0mself\u001b[0m\u001b[0;34m.\u001b[0m\u001b[0mcos_theta_e\u001b[0m\u001b[0;34m)\u001b[0m\u001b[0;34m\u001b[0m\u001b[0m\n\u001b[1;32m     36\u001b[0m         \u001b[0;32mreturn\u001b[0m \u001b[0mself\u001b[0m\u001b[0;34m.\u001b[0m\u001b[0mphi_e\u001b[0m\u001b[0;34m,\u001b[0m \u001b[0mself\u001b[0m\u001b[0;34m.\u001b[0m\u001b[0mt_e\u001b[0m\u001b[0;34m\u001b[0m\u001b[0m\n",
      "\u001b[0;31mKeyboardInterrupt\u001b[0m: "
     ]
    },
    {
     "data": {
      "image/png": "[encoded data removed]",
      "text/plain": [
       "<Figure size 504x504 with 1 Axes>"
      ]
     },
     "metadata": {
      "needs_background": "light"
     },
     "output_type": "display_data"
    }
   ],
   "source": [
    "# Running the class for various acceptance angles and \n",
    "# source declinations to create a sensitivity plot\n",
    "h = 3 #km\n",
    "R = 6356. # km\n",
    "theta_view = radians(1) #degrees\n",
    "N = 100000000 # number of samples\n",
    "\n",
    "# Creating a plot for the full range of possible source declinations \n",
    "fig = plt.figure(figsize=(7,7))\n",
    "ax = plt.axes()\n",
    "start = 0 # minimum source declination in degrees\n",
    "end = 80 # maximum source declination in degrees\n",
    "steps=160 # divisions indeclination used to generate plot\n",
    "x1 = np.linspace(-end,-start,steps)\n",
    "\n",
    "sky_map = []\n",
    "theta_view = radians(2)\n",
    "for j in range(0,steps):\n",
    "    print j\n",
    "    theta = radians(start+(end-start)*float(j)/steps)\n",
    "    area = geom.Area(theta,h,R,theta_view, N)\n",
    "    A = area.degree_eff_area()\n",
    "    sky_map.append(A)\n",
    "    \n",
    "start = 80 # minimum source declination in degrees\n",
    "end = 90 # maximum source declination in degrees\n",
    "steps=100 # divisions indeclination used to generate plot\n",
    "x2 = np.linspace(-end,-start,steps)\n",
    "\n",
    "for j in range(0,steps):\n",
    "    print j\n",
    "    theta = radians(start+(end-start)*float(j)/steps)\n",
    "    area = geom.Area(theta,h,R,theta_view, N)\n",
    "    A = area.degree_eff_area()\n",
    "    sky_map.append(A)\n",
    "\n",
    "x = x1+x2\n",
    "    \n",
    "ax.plot(x, sky_map)\n",
    "sky_maps.append(sky_map)\n",
    "    \n",
    "    \n",
    "#plt.fill_between(x2, sky_maps[0],sky_maps[1],color='tab:gray')\n",
    "horizon = degrees(np.arcsin(R / (R+h)))-90\n",
    "plt.xlim(-90,0)  \n",
    "legend = ax.legend([1],title=r'$\\theta_{view}$', fontsize=14)\n",
    "plt.xlabel(\"Payload Elevation Angle of Source \"+r'$\\theta_{ele}$'+\" (degrees)\", fontsize=18)\n",
    "plt.ylabel(r'$\\langle A \\rangle_g$'+\" \"+r'$[km^2]$', fontsize=18)\n",
    "plt.title(\"BEACON Geometric Effective Area\", fontsize=20)\n",
    "plt.setp(legend.get_title(),fontsize='x-large')\n",
    "ax.tick_params(axis = 'both', which = 'major', labelsize = 16)\n",
    "plt.grid(True,which='both')\n",
    "plt.semilogy()"
   ]
  },
  {
   "cell_type": "code",
   "execution_count": 3,
   "metadata": {},
   "outputs": [
    {
     "name": "stdout",
     "output_type": "stream",
     "text": [
      "0\n"
     ]
    },
    {
     "name": "stderr",
     "output_type": "stream",
     "text": [
      "detectorgeometry_trap.py:54: RuntimeWarning: invalid value encountered in double_scalars\n",
      "  arg2 = (self.h * np.tan(theta_src)) /(4*np.pi*np.sin(earth_t)*self.R)\n"
     ]
    },
    {
     "name": "stdout",
     "output_type": "stream",
     "text": [
      "1\n"
     ]
    },
    {
     "ename": "KeyboardInterrupt",
     "evalue": "",
     "output_type": "error",
     "traceback": [
      "\u001b[0;31m---------------------------------------------------------------------------\u001b[0m",
      "\u001b[0;31mKeyboardInterrupt\u001b[0m                         Traceback (most recent call last)",
      "\u001b[0;32m<ipython-input-3-d5e0977118cd>\u001b[0m in \u001b[0;36m<module>\u001b[0;34m()\u001b[0m\n\u001b[1;32m     20\u001b[0m     \u001b[0mtheta\u001b[0m \u001b[0;34m=\u001b[0m \u001b[0mradians\u001b[0m\u001b[0;34m(\u001b[0m\u001b[0mstart\u001b[0m\u001b[0;34m+\u001b[0m\u001b[0;34m(\u001b[0m\u001b[0mend\u001b[0m\u001b[0;34m-\u001b[0m\u001b[0mstart\u001b[0m\u001b[0;34m)\u001b[0m\u001b[0;34m*\u001b[0m\u001b[0mfloat\u001b[0m\u001b[0;34m(\u001b[0m\u001b[0mj\u001b[0m\u001b[0;34m)\u001b[0m\u001b[0;34m/\u001b[0m\u001b[0msteps\u001b[0m\u001b[0;34m)\u001b[0m\u001b[0;34m\u001b[0m\u001b[0m\n\u001b[1;32m     21\u001b[0m     \u001b[0marea\u001b[0m \u001b[0;34m=\u001b[0m \u001b[0mgeom_trap\u001b[0m\u001b[0;34m.\u001b[0m\u001b[0mArea\u001b[0m\u001b[0;34m(\u001b[0m\u001b[0mtheta\u001b[0m\u001b[0;34m,\u001b[0m\u001b[0mh\u001b[0m\u001b[0;34m,\u001b[0m\u001b[0mR\u001b[0m\u001b[0;34m,\u001b[0m\u001b[0mtheta_view\u001b[0m\u001b[0;34m,\u001b[0m \u001b[0mN\u001b[0m\u001b[0;34m)\u001b[0m\u001b[0;34m\u001b[0m\u001b[0m\n\u001b[0;32m---> 22\u001b[0;31m     \u001b[0mA\u001b[0m\u001b[0;34m=\u001b[0m \u001b[0marea\u001b[0m\u001b[0;34m.\u001b[0m\u001b[0mevent_retention\u001b[0m\u001b[0;34m(\u001b[0m\u001b[0;34m)\u001b[0m\u001b[0;34m[\u001b[0m\u001b[0;36m0\u001b[0m\u001b[0;34m]\u001b[0m\u001b[0;34m\u001b[0m\u001b[0m\n\u001b[0m\u001b[1;32m     23\u001b[0m     \u001b[0msky_map\u001b[0m\u001b[0;34m.\u001b[0m\u001b[0mappend\u001b[0m\u001b[0;34m(\u001b[0m\u001b[0mA\u001b[0m\u001b[0;34m)\u001b[0m\u001b[0;34m\u001b[0m\u001b[0m\n\u001b[1;32m     24\u001b[0m \u001b[0;34m\u001b[0m\u001b[0m\n",
      "\u001b[0;32m/Users/cburch/tau_point_source_sim/detectorgeometry_trap.pyc\u001b[0m in \u001b[0;36mevent_retention\u001b[0;34m(self)\u001b[0m\n\u001b[1;32m    127\u001b[0m         \u001b[0mret_t_e\u001b[0m\u001b[0;34m=\u001b[0m\u001b[0mret_t_e\u001b[0m\u001b[0;34m[\u001b[0m\u001b[0mnp\u001b[0m\u001b[0;34m.\u001b[0m\u001b[0mnonzero\u001b[0m\u001b[0;34m(\u001b[0m\u001b[0mret_t_e\u001b[0m\u001b[0;34m)\u001b[0m\u001b[0;34m]\u001b[0m\u001b[0;34m\u001b[0m\u001b[0m\n\u001b[1;32m    128\u001b[0m \u001b[0;34m\u001b[0m\u001b[0m\n\u001b[0;32m--> 129\u001b[0;31m         \u001b[0mA0\u001b[0m\u001b[0;34m=\u001b[0m \u001b[0mself\u001b[0m\u001b[0;34m.\u001b[0m\u001b[0mA_theta_patch\u001b[0m\u001b[0;34m(\u001b[0m\u001b[0mt_e\u001b[0m\u001b[0;34m,\u001b[0m\u001b[0mphi_e\u001b[0m\u001b[0;34m)\u001b[0m\u001b[0;34m\u001b[0m\u001b[0m\n\u001b[0m\u001b[1;32m    130\u001b[0m         \u001b[0mA_deg\u001b[0m \u001b[0;34m=\u001b[0m \u001b[0mA0\u001b[0m \u001b[0;34m*\u001b[0m\u001b[0;36m1.\u001b[0m\u001b[0;34m/\u001b[0m\u001b[0mfloat\u001b[0m\u001b[0;34m(\u001b[0m\u001b[0mself\u001b[0m\u001b[0;34m.\u001b[0m\u001b[0mn\u001b[0m\u001b[0;34m)\u001b[0m \u001b[0;34m*\u001b[0m  \u001b[0mnp\u001b[0m\u001b[0;34m.\u001b[0m\u001b[0msum\u001b[0m\u001b[0;34m(\u001b[0m\u001b[0mdot\u001b[0m \u001b[0;34m*\u001b[0m \u001b[0;34m(\u001b[0m\u001b[0mview_angle\u001b[0m \u001b[0;34m<\u001b[0m \u001b[0mself\u001b[0m\u001b[0;34m.\u001b[0m\u001b[0mth_v\u001b[0m\u001b[0;34m)\u001b[0m \u001b[0;34m*\u001b[0m \u001b[0;34m(\u001b[0m\u001b[0mdot\u001b[0m\u001b[0;34m>\u001b[0m\u001b[0;36m0.\u001b[0m\u001b[0;34m)\u001b[0m \u001b[0;34m)\u001b[0m\u001b[0;34m\u001b[0m\u001b[0m\n\u001b[1;32m    131\u001b[0m \u001b[0;34m\u001b[0m\u001b[0m\n",
      "\u001b[0;32m/Users/cburch/tau_point_source_sim/detectorgeometry_trap.pyc\u001b[0m in \u001b[0;36mA_theta_patch\u001b[0;34m(self, e_theta, e_phi)\u001b[0m\n\u001b[1;32m     21\u001b[0m         \u001b[0;32mif\u001b[0m \u001b[0mnp\u001b[0m\u001b[0;34m.\u001b[0m\u001b[0mdegrees\u001b[0m\u001b[0;34m(\u001b[0m\u001b[0mself\u001b[0m\u001b[0;34m.\u001b[0m\u001b[0mt_src\u001b[0m\u001b[0;34m)\u001b[0m\u001b[0;34m<\u001b[0m\u001b[0;36m2\u001b[0m\u001b[0;34m:\u001b[0m\u001b[0;34m\u001b[0m\u001b[0m\n\u001b[1;32m     22\u001b[0m             \u001b[0mindicator\u001b[0m \u001b[0;34m=\u001b[0m\u001b[0;36m0\u001b[0m\u001b[0;34m\u001b[0m\u001b[0m\n\u001b[0;32m---> 23\u001b[0;31m             \u001b[0mt_max\u001b[0m \u001b[0;34m=\u001b[0m \u001b[0mmax\u001b[0m\u001b[0;34m(\u001b[0m\u001b[0me_theta\u001b[0m\u001b[0;34m)\u001b[0m\u001b[0;34m\u001b[0m\u001b[0m\n\u001b[0m\u001b[1;32m     24\u001b[0m             \u001b[0;31m# Area = np.pi * (np.sin(t_max)*self.R)**2\u001b[0m\u001b[0;34m\u001b[0m\u001b[0;34m\u001b[0m\u001b[0m\n\u001b[1;32m     25\u001b[0m             \u001b[0mArea\u001b[0m \u001b[0;34m=\u001b[0m \u001b[0;34m(\u001b[0m\u001b[0;36m2\u001b[0m\u001b[0;34m*\u001b[0m\u001b[0mnp\u001b[0m\u001b[0;34m.\u001b[0m\u001b[0mpi\u001b[0m\u001b[0;34m*\u001b[0m\u001b[0mself\u001b[0m\u001b[0;34m.\u001b[0m\u001b[0mR\u001b[0m\u001b[0;34m**\u001b[0m\u001b[0;36m2\u001b[0m\u001b[0;34m)\u001b[0m\u001b[0;34m*\u001b[0m\u001b[0;34m(\u001b[0m\u001b[0;36m1\u001b[0m\u001b[0;34m-\u001b[0m\u001b[0mnp\u001b[0m\u001b[0;34m.\u001b[0m\u001b[0mcos\u001b[0m\u001b[0;34m(\u001b[0m\u001b[0mt_max\u001b[0m\u001b[0;34m)\u001b[0m\u001b[0;34m)\u001b[0m \u001b[0;31m#t_max\u001b[0m\u001b[0;34m\u001b[0m\u001b[0m\n",
      "\u001b[0;31mKeyboardInterrupt\u001b[0m: "
     ]
    }
   ],
   "source": [
    "# DEMO TESTING DOT PRODUCT WEIGHT\n",
    "# Running the class for various acceptance angles and \n",
    "# source declinations to create a sensitivity plot \n",
    "h = 3 #km\n",
    "R = 6356. # km\n",
    "theta_view = radians(1) #degrees\n",
    "N = 50000000 # number of samples\n",
    "\n",
    "# Creating a plot for the full range of possible source declinations \n",
    "start = 0 # minimum source declination in degrees\n",
    "end = 90 # maximum source declination in degrees\n",
    "steps=90 # divisions indeclination used to generate plot\n",
    "x1 = np.linspace(-end,-start,steps)\n",
    "\n",
    "sky_map = []\n",
    "sky_map_nodot = []\n",
    "theta_view = radians(2)\n",
    "for j in range(0,steps):\n",
    "    print j\n",
    "    theta = radians(start+(end-start)*float(j)/steps)\n",
    "    area = geom_trap.Area(theta,h,R,theta_view, N)\n",
    "    A= area.event_retention()[0]\n",
    "    sky_map.append(A)\n",
    "\n",
    "\n"
   ]
  },
  {
   "cell_type": "code",
   "execution_count": 12,
   "metadata": {},
   "outputs": [
    {
     "data": {
      "text/plain": [
       "[]"
      ]
     },
     "execution_count": 12,
     "metadata": {},
     "output_type": "execute_result"
    },
    {
     "data": {
      "image/png": "[encoded data removed]",
      "text/plain": [
       "<Figure size 504x504 with 1 Axes>"
      ]
     },
     "metadata": {
      "needs_background": "light"
     },
     "output_type": "display_data"
    }
   ],
   "source": [
    "fig = plt.figure(figsize=(7,7))\n",
    "ax = plt.axes()\n",
    "\n",
    "ax.plot(x1, sky_map)\n",
    "ax.plot(x1, sky_map_nodot)\n",
    "    \n",
    "#plt.fill_between(x2, sky_maps[0],sky_maps[1],color='tab:gray')\n",
    "horizon = degrees(np.arcsin(R / (R+h)))-90\n",
    "plt.xlim(-90,0)  \n",
    "legend = ax.legend([\"Dot Product Included\", \"Dot Product Excluded\"], fontsize=14)\n",
    "plt.xlabel(\"Payload Elevation Angle of Source \"+r'$\\theta_{ele}$'+\" (degrees)\", fontsize=18)\n",
    "plt.ylabel(r'$\\langle A \\rangle_g$'+\" \"+r'$[km^2]$', fontsize=18)\n",
    "plt.title(\"ANITA Geometric Effective Area\", fontsize=20)\n",
    "plt.setp(legend.get_title(),fontsize='x-large')\n",
    "ax.tick_params(axis = 'both', which = 'major', labelsize = 16)\n",
    "plt.grid(True,which='both')\n",
    "plt.semilogy()"
   ]
  },
  {
   "cell_type": "code",
   "execution_count": null,
   "metadata": {},
   "outputs": [],
   "source": [
    "fig = plt.figure(figsize=(7,7))\n",
    "ax = plt.axes()\n",
    "x1 = np.linspace(-90,-10,160)\n",
    "x2 = np.linspace(-10,0,100)\n",
    "x1 = np.append(x1, x2)\n",
    "ax.plot(x1, sky_map)\n",
    "sky_maps.append(sky_map)\n",
    "    \n",
    "    \n",
    "#plt.fill_between(x2, sky_maps[0],sky_maps[1],color='tab:gray')\n",
    "horizon = degrees(np.arcsin(R / (R+h)))-90\n",
    "plt.xlim(-90,0)  \n",
    "legend = ax.legend([2],title=r'$\\theta_{view}$', fontsize=14)\n",
    "plt.xlabel(\"Payload Elevation Angle of Source \"+r'$\\theta_{ele}$'+\" (degrees)\", fontsize=18)\n",
    "plt.ylabel(r'$\\langle A \\rangle_g$'+\" \"+r'$[km^2]$', fontsize=18)\n",
    "plt.title(\"BEACON Geometric Effective Area\", fontsize=20)\n",
    "plt.setp(legend.get_title(),fontsize='x-large')\n",
    "ax.tick_params(axis = 'both', which = 'major', labelsize = 16)\n",
    "plt.grid(True,which='both')\n",
    "plt.semilogy()"
   ]
  },
  {
   "cell_type": "code",
   "execution_count": 17,
   "metadata": {},
   "outputs": [],
   "source": [
    "np.savetxt(\"geomtrap_effectivearea.csv\", sky_map_trap, delimiter=\",\")"
   ]
  },
  {
   "cell_type": "code",
   "execution_count": 15,
   "metadata": {},
   "outputs": [
    {
     "name": "stdout",
     "output_type": "stream",
     "text": [
      "0\n",
      "1\n",
      "2\n",
      "3\n",
      "4\n",
      "5\n",
      "6\n",
      "7\n",
      "8\n",
      "9\n",
      "10\n",
      "11\n",
      "12\n",
      "13\n",
      "14\n",
      "15\n",
      "16\n",
      "17\n",
      "18\n",
      "19\n",
      "20\n",
      "21\n",
      "22\n",
      "23\n",
      "24\n",
      "25\n",
      "26\n",
      "27\n",
      "28\n",
      "29\n",
      "30\n",
      "31\n",
      "32\n",
      "33\n",
      "34\n",
      "35\n",
      "36\n",
      "37\n",
      "38\n",
      "39\n",
      "40\n",
      "41\n",
      "42\n",
      "43\n",
      "44\n",
      "45\n",
      "46\n",
      "47\n",
      "48\n",
      "49\n",
      "50\n",
      "51\n",
      "52\n",
      "53\n",
      "54\n",
      "55\n",
      "56\n",
      "57\n",
      "58\n",
      "59\n",
      "60\n",
      "61\n",
      "62\n",
      "63\n",
      "64\n",
      "65\n",
      "66\n",
      "67\n",
      "68\n",
      "69\n",
      "70\n",
      "71\n",
      "72\n",
      "73\n",
      "74\n",
      "75\n",
      "76\n",
      "77\n",
      "78\n",
      "79\n",
      "80\n",
      "81\n",
      "82\n",
      "83\n",
      "84\n",
      "85\n",
      "86\n",
      "87\n",
      "88\n",
      "89\n",
      "90\n",
      "91\n",
      "92\n",
      "93\n",
      "94\n",
      "95\n",
      "96\n",
      "97\n",
      "98\n",
      "99\n"
     ]
    }
   ],
   "source": [
    "# Running the class for various acceptance angles and \n",
    "# source declinations to create a sensitivity plot\n",
    "\n",
    "\n",
    "# Creating a plot for the full range of possible source declinations \n",
    "\n",
    "start = 0 # minimum source declination in degrees\n",
    "end = 90 # maximum source declination in degrees\n",
    "steps=100 # divisions indeclination used to generate plot\n",
    "x = np.linspace(start, end, steps)\n",
    "x2 = np.linspace(-end,-start,steps)\n",
    "N = 50000000\n",
    "\n",
    "sky_map = []\n",
    "sky_map_trap = []\n",
    "theta_view = radians(1)\n",
    "for j in range(0,steps):\n",
    "    print j\n",
    "    theta = radians(start+(end-start)*float(j)/steps)\n",
    "    area = geom.Area(theta,h,R,theta_view, N)\n",
    "    A = area.degree_eff_area()\n",
    "    area_trap = geom_trap.Area(theta, h, R, theta_view, N)\n",
    "    A_trap = area_trap.event_retention()[0]\n",
    "    sky_map.append(A)\n",
    "    sky_map_trap.append(A_trap)\n",
    "\n",
    "    \n"
   ]
  },
  {
   "cell_type": "code",
   "execution_count": 16,
   "metadata": {},
   "outputs": [
    {
     "data": {
      "text/plain": [
       "[]"
      ]
     },
     "execution_count": 16,
     "metadata": {},
     "output_type": "execute_result"
    },
    {
     "data": {
      "image/png": "[encoded data removed]",
      "text/plain": [
       "<Figure size 504x504 with 1 Axes>"
      ]
     },
     "metadata": {
      "needs_background": "light"
     },
     "output_type": "display_data"
    }
   ],
   "source": [
    "fig = plt.figure(figsize=(7,7))\n",
    "ax = plt.axes()   \n",
    "#plt.fill_between(x2, sky_maps[0],sky_maps[1],color='tab:gray')\n",
    "ax.plot(x2, sky_map)\n",
    "ax.plot(x2, sky_map_trap)\n",
    "\n",
    "horizon = degrees(np.arcsin(R / (R+h)))-90\n",
    "A1 = -27.4\n",
    "A3 = -35\n",
    "plt.text(-6,0.1,'horizon',rotation=90,fontsize=12)\n",
    "plt.text(-31,1,'A1',rotation=90,fontsize=12)\n",
    "plt.text(-39,1,'A3',rotation=90,fontsize=12)\n",
    "plt.xlim(-90,0)  \n",
    "legend = ax.legend(['Full Cap','Trapezoid'],title=r'Integration Area', fontsize=14)\n",
    "plt.axvline(x=horizon,color='r')\n",
    "plt.axvline(x=A1,color='k')\n",
    "plt.axvline(x=A3,color='k')\n",
    "plt.xlabel(\"Payload Elevation Angle of Source \"+r'$\\theta_{ele}$'+\" (degrees)\", fontsize=18)\n",
    "plt.ylabel(r'$\\langle A \\rangle_g$'+\" \"+r'$[km^2]$', fontsize=18)\n",
    "plt.title(\"ANITA Geometric Effective Area\", fontsize=20)\n",
    "plt.setp(legend.get_title(),fontsize='x-large')\n",
    "ax.tick_params(axis = 'both', which = 'major', labelsize = 16)\n",
    "plt.grid(True,which='both')\n",
    "plt.semilogy()"
   ]
  },
  {
   "cell_type": "code",
   "execution_count": null,
   "metadata": {},
   "outputs": [],
   "source": [
    "# Creating a plot for source declinations near the horizon\n",
    "\n",
    "fig = plt.figure()\n",
    "ax = plt.axes()\n",
    "start = 75 # minimum source declination in degrees\n",
    "end = 90 # maximum source declination in degrees\n",
    "steps=100 # divisions indeclination used to generate plot\n",
    "x = np.linspace(start, end, steps)\n",
    "\n",
    "for i in range(1,4):\n",
    "    sky_map=[]\n",
    "    theta_view = radians(i)\n",
    "    for j in range(0,steps):\n",
    "        theta = radians(start+(end-start)*float(j)/steps)\n",
    "        area = geom.Area(theta,h,R,theta_view, N)\n",
    "        A = area.degree_eff_area()\n",
    "        sky_map.append(A)\n",
    "    print i, max(sky_map)\n",
    "    ax.plot(x, sky_map)\n",
    "\n",
    "horizon = degrees(np.arcsin(R / (R+h)))\n",
    "ax.legend([1, 2, 3])\n",
    "plt.axvline(x=horizon,color='k')\n",
    "plt.title(\"Near-Horizon Behavior\")\n",
    "plt.grid(True,which='both')\n",
    "plt.semilogy()"
   ]
  },
  {
   "cell_type": "code",
   "execution_count": null,
   "metadata": {},
   "outputs": [],
   "source": [
    "A = np.interp(np.linspace(-90,-1,10000),np.linspace(-90,-1,100),sky_map,0.0,0.0)\n",
    "maxval = max(A)\n",
    "A = A.tolist()\n",
    "ind= A.index(maxval)\n",
    "B = np.linspace(-90,-1,10000)\n",
    "print B[ind]"
   ]
  },
  {
   "cell_type": "code",
   "execution_count": null,
   "metadata": {},
   "outputs": [],
   "source": [
    "print max(sky_maps[0])\n",
    "print 90*float(sky_maps[0].index(151.48987010056862))/100"
   ]
  },
  {
   "cell_type": "code",
   "execution_count": null,
   "metadata": {},
   "outputs": [],
   "source": [
    "N_E=10000000\n",
    "\n",
    "start = 0 # minimum source angle in degrees\n",
    "end = 90 # maximum source angle in degrees\n",
    "steps=90 # divisions in source angle used to generate plot\n",
    "\n"
   ]
  },
  {
   "cell_type": "code",
   "execution_count": null,
   "metadata": {},
   "outputs": [],
   "source": [
    "N_E=10000000\n",
    "\n",
    "start = 0 # minimum source angle in degrees\n",
    "end = 90 # maximum source angle in degrees\n",
    "steps=90 # divisions in source angle used to generate plot\n",
    "\n",
    "labels =[]\n",
    "fluxes=[]\n",
    "for i in range(18,20):\n",
    "    E = 10**float(i)\n",
    "    flux=[]\n",
    "    theta_view = radians(1)\n",
    "    for j in range(0,steps):\n",
    "        theta = radians(start+(end-start)*float(j)/steps)\n",
    "        area = geom.Area(theta,h,R,theta_view, N_E)\n",
    "        A = area.degree_eff_area()\n",
    "        A = A*(100*1000)**2\n",
    "        time = 30 * 24 * 3600 #seconds in a month\n",
    "        F = 2.44/(np.log(10) * time * A * E)\n",
    "        flux.append(F)\n",
    "    fluxes.append(flux)\n",
    "    label = r'$10^{'+str(i)+'}$ eV'\n",
    "    labels.append(label)"
   ]
  },
  {
   "cell_type": "code",
   "execution_count": null,
   "metadata": {},
   "outputs": [],
   "source": [
    "#creating a plot of flux limits based on energy\n",
    "fig = plt.figure()\n",
    "ax = plt.axes()\n",
    "\n",
    "#x = np.linspace(end,start, steps)\n",
    "x2 = ice_cube_elev\n",
    "# x3 = icecube_fluxdec\n",
    "\n",
    "# icecubeflux1 = F(10**(18),np.asarray(icecube1))\n",
    "# print len(icecube1), len(icecubeflux1)\n",
    "# icecubeflux2 = F(10**(19),np.asarray(icecube2))\n",
    "\n",
    "#ax.plot(x, fluxes[0],color='m')\n",
    "#ax.plot(x, fluxes[1],color='tab:purple')\n",
    "# plt.scatter(x2,icecubeflux1)\n",
    "# plt.scatter(x2,icecubeflux2)\n",
    "# plt.scatter(x3,icecube_flux1)\n",
    "# plt.scatter(x3,icecube_flux2)\n",
    "\n",
    "plt.scatter(x2,icecube1)\n",
    "plt.scatter(x2,icecube2)\n",
    "    \n",
    "#horizon = (90-degrees(np.arcsin(R / (R+h))))\n",
    "#plt.text(2.5,10**(3),'horizon',rotation=90,fontsize=12)\n",
    "\n",
    "ax.legend([r'$10^{18}$'+\" eV\",r'$10^{19}$'+\" eV\"],bbox_to_anchor=(0.7, 0.9))\n",
    "\n",
    "\n",
    "# ax.legend([\"ANITA \"+r'$10^{18}$'+\"eV, 1 month\", \"ANITA \"+r'$10^{19}$'+\"eV, 1 month\",\n",
    "#           \"IceCube Point Sources \"+r'$10^{18}$'+\"eV, 6 years\", \"IceCube Point Sources \"+r'$10^{19}$'+\"eV, 6 years\",\n",
    "#            \"IceCube Flux Sens. \"+r'$10^{18}$'+\"eV, 6 years\", \"IceCube Flux Sens. \"+r'$10^{19}$'+\"eV, 6 years\"],bbox_to_anchor=(1, 1.05))\n",
    "#plt.axvline(x=horizon,color='k')\n",
    "plt.xlabel(\"Elevation \"+r'$\\theta_{ele}$'+\" (degrees)\", fontsize=14)\n",
    "plt.ylabel (r'$A_{eff}(\\theta_{ele})$'+\" \"+r' $[m^{2} ]$', fontsize=14)\n",
    "#plt.ylabel(r'$F_{sens}(E)$'+\" \"+r' $[eV^{-1} cm^{-2} s^{-1}]$', fontsize=14)\n",
    "plt.title(\"IceCube Point Source Effective Area\", fontsize=16)\n",
    "plt.xlim(-80,0)  \n",
    "plt.text(-45,2*10**3,'Neutrino Energy',fontsize=12)\n",
    "\n",
    "plt.grid(True)\n",
    "plt.semilogy()\n",
    "plt.ylim(2*10**(-4),10**(4))"
   ]
  },
  {
   "cell_type": "code",
   "execution_count": null,
   "metadata": {},
   "outputs": [],
   "source": [
    "icecube_dec = [43.0,16.6,38.2,11.2,20.0,39.8,71.4,65.6,42.3,22.7,20.1,5.7]\n",
    "ice_cube_elev = -np.asarray(icecube_dec)\n",
    "icecube1 = [2*10^(-2),\n",
    "             2*10,\n",
    "             5*10**(-2),\n",
    "             10**2,\n",
    "             4,\n",
    "             9*10**(-3),\n",
    "             10**(-4),\n",
    "             3.5*10**(-4),\n",
    "             9*10**(-3),\n",
    "             1.1,\n",
    "             4,\n",
    "             2*10**3]\n",
    "icecube2 = [10**(-4),\n",
    "              7*10**(-1),\n",
    "              10**(-4),\n",
    "              1.2*10,\n",
    "              7*10**(-2),\n",
    "              0,\n",
    "              0,\n",
    "              0,\n",
    "              0,\n",
    "              1.1*10**(-4),\n",
    "              7*10**(-2),\n",
    "              10**3]\n",
    "\n",
    "# icecube1 = np.asarray(icecube1)*(6*365*24*3600)*100**2\n",
    "# icecube2 = np.asarray(icecube2)*(6*365*24*3600)*100**2\n",
    "\n",
    "icecube=[icecube1,icecube2]"
   ]
  },
  {
   "cell_type": "code",
   "execution_count": null,
   "metadata": {},
   "outputs": [],
   "source": [
    "icecubefluxfactors =[7*10**(-13),\n",
    "7.5*10**(-13),\n",
    "8*10**(-13),\n",
    "9*10**(-13),\n",
    "10**(-12),\n",
    "10**(-12),\n",
    "1.1*10**(-12),\n",
    "1.1*10**(-12),\n",
    "1.2*10**(-12),\n",
    "1.2*10**(-12),\n",
    "1.3*10**(-12),\n",
    "1.3*10**(-12),\n",
    "1.5*10**(-12),\n",
    "1.6*10**(-12),\n",
    "1.7*10**(-12),\n",
    "1.8*10**(-12),\n",
    "1.9*10**(-12),\n",
    "1.9*10**(-12),\n",
    "2.1*10**(-12),\n",
    "2.8*10**(-12),\n",
    "3.2*10**(-12)]\n",
    "\n",
    "icecube_sines=[0,\n",
    "0.05,\n",
    "0.1,\n",
    "0.15,\n",
    "0.2,\n",
    "0.25,\n",
    "0.3,\n",
    "0.35,\n",
    "0.4,\n",
    "0.45,\n",
    "0.5,\n",
    "0.55,\n",
    "0.6,\n",
    "0.65,\n",
    "0.7,\n",
    "0.75,\n",
    "0.8,\n",
    "0.85,\n",
    "0.9,\n",
    "0.95,\n",
    "1]\n",
    "\n",
    "icecube_fluxdec=degrees(np.arcsin(np.asarray(icecube_sines)))\n",
    "icecube_flux1=np.asarray(icecubefluxfactors)*((10**(18)*10**(-12))**(-2))*(10**(-12))\n",
    "icecube_flux2=np.asarray(icecubefluxfactors)*((10**(19)*10**(-12))**(-2))*(10**(-12))\n",
    "print icecube_fluxdec"
   ]
  },
  {
   "cell_type": "code",
   "execution_count": null,
   "metadata": {},
   "outputs": [],
   "source": [
    "def F(E,timeA): #eV, seconds times cm^2\n",
    "    F = 2.44/(np.log(10) * timeA * E)\n",
    "    return F"
   ]
  },
  {
   "cell_type": "code",
   "execution_count": null,
   "metadata": {},
   "outputs": [],
   "source": [
    "print F(0.6*10**(17),3.45*10**(10))\n",
    "print F(0.6*10**(17),5.51*10**(9))"
   ]
  },
  {
   "cell_type": "code",
   "execution_count": null,
   "metadata": {},
   "outputs": [],
   "source": []
  }
 ],
 "metadata": {
  "kernelspec": {
   "display_name": "Python 2",
   "language": "python",
   "name": "python2"
  },
  "language_info": {
   "codemirror_mode": {
    "name": "ipython",
    "version": 2
   },
   "file_extension": ".py",
   "mimetype": "text/x-python",
   "name": "python",
   "nbconvert_exporter": "python",
   "pygments_lexer": "ipython2",
   "version": "2.7.16"
  }
 },
 "nbformat": 4,
 "nbformat_minor": 2
}
