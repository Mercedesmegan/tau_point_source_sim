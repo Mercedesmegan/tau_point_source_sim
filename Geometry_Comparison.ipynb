{
 "cells": [
  {
   "cell_type": "code",
   "execution_count": 156,
   "metadata": {},
   "outputs": [
    {
     "data": {
      "text/plain": [
       "<module 'detectorgeometry_trap' from 'detectorgeometry_trap.py'>"
      ]
     },
     "execution_count": 156,
     "metadata": {},
     "output_type": "execute_result"
    }
   ],
   "source": [
    "%matplotlib inline\n",
    "from pylab import *\n",
    "\n",
    "import detectorgeometry as geom\n",
    "reload(geom)\n",
    "\n",
    "import detectorgeometry_trap as geom_trap\n",
    "reload(geom_trap)"
   ]
  },
  {
   "cell_type": "code",
   "execution_count": null,
   "metadata": {},
   "outputs": [],
   "source": [
    "theta_src = radians(50) #radians\n",
    "h = 35.5 #km\n",
    "R = 6356. # km\n",
    "theta_view = radians(1) #degrees\n",
    "N = 10000000 # number of samples\n",
    "E_nu = 19 #log energy in eV of incident neutrino \n",
    "\n",
    "# using the class\n",
    "area1 = geom.Area(theta_src,h,R,theta_view, N)\n",
    "area2 = geom_trap.Area(theta_src,h,R,theta_view, N)\n",
    "\n",
    "earth_t_min, earth_t_max, phi_E_min, phi_E_max = area2.earth_patch(theta_src, area2.phi_src, theta_view)\n",
    "t_e,phi_e = area2.earth_locs(earth_t_min, earth_t_max, phi_E_min, phi_E_max)\n",
    "e_x,e_y,e_z = area2.coords(t_e, phi_e)\n",
    "r_x, r_y,r_z = area2.coords(theta_src, area2.phi_src+np.pi)\n",
    "angles = area2.view_angle_det(e_x,e_y,e_z,r_x, r_y,r_z)\n",
    "dot = area2.dot_prod(e_x,e_y,e_z,r_x, r_y,r_z)\n",
    "trap_area, t_src, ret_phi_e, ret_t_e= area2.event_retention()\n",
    "\n",
    "print area1.degree_eff_area(), trap_area"
   ]
  },
  {
   "cell_type": "code",
   "execution_count": 158,
   "metadata": {},
   "outputs": [
    {
     "data": {
      "image/png": "[encoded data removed]",
      "text/plain": [
       "<Figure size 432x288 with 1 Axes>"
      ]
     },
     "metadata": {
      "needs_background": "light"
     },
     "output_type": "display_data"
    }
   ],
   "source": [
    "plt.scatter(degrees(ret_phi_e), degrees(ret_t_e),s=1)\n",
    "#plt.xlim(degrees(phi_E_min)-0.05,degrees(phi_E_max)+0.05)\n",
    "#plt.ylim(degrees(earth_t_min)-0.05, degrees(earth_t_max)+0.05)\n",
    "plt.xlabel(\"Earth phi\")\n",
    "plt.ylabel(\"Earth theta\")\n",
    "ax = plt.axes()\n",
    "ax.axhline(degrees(earth_t_min))\n",
    "ax.axhline(degrees(earth_t_max))\n",
    "ax.axvline(degrees(phi_E_min))\n",
    "ax.axvline(degrees(phi_E_max))\n",
    "plt.show()"
   ]
  },
  {
   "cell_type": "code",
   "execution_count": null,
   "metadata": {},
   "outputs": [],
   "source": []
  },
  {
   "cell_type": "code",
   "execution_count": null,
   "metadata": {},
   "outputs": [],
   "source": []
  }
 ],
 "metadata": {
  "kernelspec": {
   "display_name": "Python 2",
   "language": "python",
   "name": "python2"
  },
  "language_info": {
   "codemirror_mode": {
    "name": "ipython",
    "version": 2
   },
   "file_extension": ".py",
   "mimetype": "text/x-python",
   "name": "python",
   "nbconvert_exporter": "python",
   "pygments_lexer": "ipython2",
   "version": "2.7.16"
  }
 },
 "nbformat": 4,
 "nbformat_minor": 2
}
