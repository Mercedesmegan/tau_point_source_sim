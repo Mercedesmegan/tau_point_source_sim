{
 "cells": [
  {
   "cell_type": "code",
   "execution_count": 3,
   "metadata": {},
   "outputs": [
    {
     "data": {
      "text/plain": [
       "<module 'detectorgeometry_071719' from 'detectorgeometry_071719.pyc'>"
      ]
     },
     "execution_count": 3,
     "metadata": {},
     "output_type": "execute_result"
    }
   ],
   "source": [
    "%matplotlib inline\n",
    "from pylab import *\n",
    "\n",
    "import detectorgeometry as geom\n",
    "reload(geom)\n",
    "\n",
    "import detectorgeometry_trap as geom_trap\n",
    "reload(geom_trap)\n",
    "\n",
    "import detectorgeometry_071719 as geom_new\n",
    "reload(geom_new)"
   ]
  },
  {
   "cell_type": "code",
   "execution_count": 27,
   "metadata": {},
   "outputs": [
    {
     "name": "stdout",
     "output_type": "stream",
     "text": [
      "0 6.28318530718\n"
     ]
    }
   ],
   "source": [
    "h = 35.5 #km\n",
    "R = 6356. # km\n",
    "theta_view = radians(1) #degrees\n",
    "N = 500000 # number of samples\n",
    "\n",
    "theta_src = radians(0.8)\n",
    "area = geom_trap.Area(theta_src,h,R,theta_view, N)\n",
    "A, e_phi, e_theta, view_angle, exit_angle, norm, e_dot= area.event_retention()\n",
    "# earth_t_min, earth_t_max, phi_E_min, phi_E_max = area.earth_patch(area.t_src,area.phi_src, area.th_v)\n",
    "# r_x, r_y, r_z = area.coords(area.t_src, area.phi_src + np.pi) \n",
    "# t_e,phi_e = area.earth_locs(earth_t_min, earth_t_max, phi_E_min, phi_E_max)\n",
    "# e_x,e_y,e_z = area.coords(t_e,phi_e)\n",
    "# dot = area.dot_prod(e_x,e_y,e_z,r_x, r_y,r_z)\n",
    "# view_angle,exit_angle, flight_path = area.view_angle_dist_det(e_x,e_y,e_z,r_x, r_y,r_z)\n"
   ]
  },
  {
   "cell_type": "code",
   "execution_count": 28,
   "metadata": {},
   "outputs": [
    {
     "name": "stdout",
     "output_type": "stream",
     "text": [
      "6.283159536315549\n",
      "0.00017549501796909617\n"
     ]
    },
    {
     "data": {
      "image/png": "[encoded data removed]",
      "text/plain": [
       "<Figure size 432x288 with 1 Axes>"
      ]
     },
     "metadata": {
      "needs_background": "light"
     },
     "output_type": "display_data"
    }
   ],
   "source": [
    "#print A, e_phi, view_angle\n",
    "plt.scatter(degrees(e_phi), degrees(e_theta),s=1)\n",
    "plt.xlabel(\"Earth phi (deg)\")\n",
    "plt.ylabel(\"Earth theta (deg)\")\n",
    "plt.axhline(degrees(min(e_theta)))\n",
    "plt.axhline(degrees(max(e_theta)))\n",
    "plt.axvline(degrees(min(e_phi)))\n",
    "plt.axvline(degrees(max(e_phi)))\n",
    "\n",
    "print radians(max(degrees(e_phi))-min(degrees(e_phi)))\n",
    "print radians(max(degrees(np.unwrap(e_theta)))-min(degrees(np.unwrap(e_theta))))\n",
    "            \n",
    "\n",
    "# plt.scatter(e_phi, e_theta,s=1)\n",
    "# plt.xlabel(\"Earth phi (rad)\")\n",
    "# plt.ylabel(\"Earth theta (rad)\")\n",
    "# plt.axhline(min(e_theta))\n",
    "# plt.axhline(max(e_theta))\n",
    "# plt.axvline(min(e_phi))\n",
    "# plt.axvline(max(e_phi))\n",
    "\n",
    "plt.title(str(round(degrees(theta_src),1))+\" Trapezoid\")\n",
    "#plt.ylim(0.8*min(degrees(samp_t_e) ),1.2*max(degrees(samp_t_e) ))\n",
    "\n",
    "plt.show()\n",
    "\n"
   ]
  },
  {
   "cell_type": "code",
   "execution_count": 14,
   "metadata": {
    "scrolled": true
   },
   "outputs": [
    {
     "name": "stdout",
     "output_type": "stream",
     "text": [
      "0 6.28318530718\n",
      "0.0 1.5508360546819964 1.8098118259059996\n",
      "   \n",
      "0 6.28318530718\n",
      "1.0 0.986743368802631 1.921575208052308\n",
      "   \n",
      "-0.026179938779914945 0.026179938779914945\n",
      "2.0 1.2680849779718546 1.4067417210491269\n",
      "   \n",
      "-0.026179938779914945 0.026179938779914945\n",
      "3.0000000000000004 0.7039485990184564 1.3293597968981758\n",
      "   \n",
      "-0.026179938779914945 0.026179938779914945\n",
      "4.0 1.8282895089940654 1.2976639118214415\n",
      "   \n",
      "-0.026179938779914945 0.026179938779914945\n",
      "5.0 0.8426548611059418 1.2826605192544782\n",
      "   \n",
      "-0.026179938779914945 0.026179938779914945\n"
     ]
    },
    {
     "ename": "KeyboardInterrupt",
     "evalue": "",
     "output_type": "error",
     "traceback": [
      "\u001b[0;31m---------------------------------------------------------------------------\u001b[0m",
      "\u001b[0;31mKeyboardInterrupt\u001b[0m                         Traceback (most recent call last)",
      "\u001b[0;32m<ipython-input-14-308bdeb0aab4>\u001b[0m in \u001b[0;36m<module>\u001b[0;34m()\u001b[0m\n\u001b[1;32m     16\u001b[0m \u001b[0;34m\u001b[0m\u001b[0m\n\u001b[1;32m     17\u001b[0m     \u001b[0marea2\u001b[0m \u001b[0;34m=\u001b[0m \u001b[0mgeom_trap\u001b[0m\u001b[0;34m.\u001b[0m\u001b[0mArea\u001b[0m\u001b[0;34m(\u001b[0m\u001b[0mtheta\u001b[0m\u001b[0;34m,\u001b[0m\u001b[0mh\u001b[0m\u001b[0;34m,\u001b[0m\u001b[0mR\u001b[0m\u001b[0;34m,\u001b[0m\u001b[0mtheta_view\u001b[0m\u001b[0;34m,\u001b[0m \u001b[0mN\u001b[0m\u001b[0;34m)\u001b[0m\u001b[0;34m\u001b[0m\u001b[0m\n\u001b[0;32m---> 18\u001b[0;31m     \u001b[0mA2\u001b[0m\u001b[0;34m,\u001b[0m \u001b[0mphi_e\u001b[0m\u001b[0;34m,\u001b[0m \u001b[0mtheta_e\u001b[0m\u001b[0;34m,\u001b[0m \u001b[0mview_angle\u001b[0m\u001b[0;34m,\u001b[0m \u001b[0mexit_angle\u001b[0m\u001b[0;34m,\u001b[0m \u001b[0mnorm\u001b[0m\u001b[0;34m,\u001b[0m \u001b[0me_dot\u001b[0m\u001b[0;34m=\u001b[0m \u001b[0marea2\u001b[0m\u001b[0;34m.\u001b[0m\u001b[0mevent_retention\u001b[0m\u001b[0;34m(\u001b[0m\u001b[0;34m)\u001b[0m\u001b[0;34m\u001b[0m\u001b[0m\n\u001b[0m\u001b[1;32m     19\u001b[0m \u001b[0;31m#     earth_t_min, earth_t_max, phi_E_min, phi_E_max = area2.earth_patch(area2.t_src,area2.phi_src, area2.th_v)\u001b[0m\u001b[0;34m\u001b[0m\u001b[0;34m\u001b[0m\u001b[0m\n\u001b[1;32m     20\u001b[0m \u001b[0;31m#     earth_t =area2.thetaE_nadir(theta)\u001b[0m\u001b[0;34m\u001b[0m\u001b[0;34m\u001b[0m\u001b[0m\n",
      "\u001b[0;32m/Users/cburch/tau_point_source_sim/detectorgeometry_trap.py\u001b[0m in \u001b[0;36mevent_retention\u001b[0;34m(self)\u001b[0m\n\u001b[1;32m    118\u001b[0m         \u001b[0mret_exit_angle\u001b[0m\u001b[0;34m=\u001b[0m\u001b[0mret_exit_angle\u001b[0m\u001b[0;34m[\u001b[0m\u001b[0mnp\u001b[0m\u001b[0;34m.\u001b[0m\u001b[0mnonzero\u001b[0m\u001b[0;34m(\u001b[0m\u001b[0mret_exit_angle\u001b[0m\u001b[0;34m)\u001b[0m\u001b[0;34m]\u001b[0m\u001b[0;34m\u001b[0m\u001b[0m\n\u001b[1;32m    119\u001b[0m         \u001b[0mret_norm\u001b[0m \u001b[0;34m=\u001b[0m \u001b[0mflight_path\u001b[0m \u001b[0;34m*\u001b[0m  \u001b[0;34m(\u001b[0m\u001b[0mview_angle\u001b[0m \u001b[0;34m<\u001b[0m \u001b[0mself\u001b[0m\u001b[0;34m.\u001b[0m\u001b[0mth_v\u001b[0m\u001b[0;34m)\u001b[0m \u001b[0;34m*\u001b[0m \u001b[0;34m(\u001b[0m\u001b[0mdot\u001b[0m\u001b[0;34m>\u001b[0m\u001b[0;36m0.\u001b[0m\u001b[0;34m)\u001b[0m\u001b[0;34m\u001b[0m\u001b[0m\n\u001b[0;32m--> 120\u001b[0;31m         \u001b[0mret_norm\u001b[0m\u001b[0;34m=\u001b[0m\u001b[0mret_norm\u001b[0m\u001b[0;34m[\u001b[0m\u001b[0mnp\u001b[0m\u001b[0;34m.\u001b[0m\u001b[0mnonzero\u001b[0m\u001b[0;34m(\u001b[0m\u001b[0mret_norm\u001b[0m\u001b[0;34m)\u001b[0m\u001b[0;34m]\u001b[0m\u001b[0;34m\u001b[0m\u001b[0m\n\u001b[0m\u001b[1;32m    121\u001b[0m         \u001b[0mret_dot\u001b[0m \u001b[0;34m=\u001b[0m \u001b[0mdot\u001b[0m \u001b[0;34m*\u001b[0m  \u001b[0;34m(\u001b[0m\u001b[0mview_angle\u001b[0m \u001b[0;34m<\u001b[0m \u001b[0mself\u001b[0m\u001b[0;34m.\u001b[0m\u001b[0mth_v\u001b[0m\u001b[0;34m)\u001b[0m \u001b[0;34m*\u001b[0m \u001b[0;34m(\u001b[0m\u001b[0mdot\u001b[0m\u001b[0;34m>\u001b[0m\u001b[0;36m0.\u001b[0m\u001b[0;34m)\u001b[0m\u001b[0;34m\u001b[0m\u001b[0m\n\u001b[1;32m    122\u001b[0m         \u001b[0mret_dot\u001b[0m\u001b[0;34m=\u001b[0m\u001b[0mret_dot\u001b[0m\u001b[0;34m[\u001b[0m\u001b[0mnp\u001b[0m\u001b[0;34m.\u001b[0m\u001b[0mnonzero\u001b[0m\u001b[0;34m(\u001b[0m\u001b[0mret_dot\u001b[0m\u001b[0;34m)\u001b[0m\u001b[0;34m]\u001b[0m\u001b[0;34m\u001b[0m\u001b[0m\n",
      "\u001b[0;32m/anaconda2/lib/python2.7/site-packages/numpy/core/fromnumeric.pyc\u001b[0m in \u001b[0;36mnonzero\u001b[0;34m(a)\u001b[0m\n\u001b[1;32m   1776\u001b[0m \u001b[0;34m\u001b[0m\u001b[0m\n\u001b[1;32m   1777\u001b[0m     \"\"\"\n\u001b[0;32m-> 1778\u001b[0;31m     \u001b[0;32mreturn\u001b[0m \u001b[0m_wrapfunc\u001b[0m\u001b[0;34m(\u001b[0m\u001b[0ma\u001b[0m\u001b[0;34m,\u001b[0m \u001b[0;34m'nonzero'\u001b[0m\u001b[0;34m)\u001b[0m\u001b[0;34m\u001b[0m\u001b[0m\n\u001b[0m\u001b[1;32m   1779\u001b[0m \u001b[0;34m\u001b[0m\u001b[0m\n\u001b[1;32m   1780\u001b[0m \u001b[0;34m\u001b[0m\u001b[0m\n",
      "\u001b[0;32m/anaconda2/lib/python2.7/site-packages/numpy/core/fromnumeric.pyc\u001b[0m in \u001b[0;36m_wrapfunc\u001b[0;34m(obj, method, *args, **kwds)\u001b[0m\n\u001b[1;32m     54\u001b[0m \u001b[0;32mdef\u001b[0m \u001b[0m_wrapfunc\u001b[0m\u001b[0;34m(\u001b[0m\u001b[0mobj\u001b[0m\u001b[0;34m,\u001b[0m \u001b[0mmethod\u001b[0m\u001b[0;34m,\u001b[0m \u001b[0;34m*\u001b[0m\u001b[0margs\u001b[0m\u001b[0;34m,\u001b[0m \u001b[0;34m**\u001b[0m\u001b[0mkwds\u001b[0m\u001b[0;34m)\u001b[0m\u001b[0;34m:\u001b[0m\u001b[0;34m\u001b[0m\u001b[0m\n\u001b[1;32m     55\u001b[0m     \u001b[0;32mtry\u001b[0m\u001b[0;34m:\u001b[0m\u001b[0;34m\u001b[0m\u001b[0m\n\u001b[0;32m---> 56\u001b[0;31m         \u001b[0;32mreturn\u001b[0m \u001b[0mgetattr\u001b[0m\u001b[0;34m(\u001b[0m\u001b[0mobj\u001b[0m\u001b[0;34m,\u001b[0m \u001b[0mmethod\u001b[0m\u001b[0;34m)\u001b[0m\u001b[0;34m(\u001b[0m\u001b[0;34m*\u001b[0m\u001b[0margs\u001b[0m\u001b[0;34m,\u001b[0m \u001b[0;34m**\u001b[0m\u001b[0mkwds\u001b[0m\u001b[0;34m)\u001b[0m\u001b[0;34m\u001b[0m\u001b[0m\n\u001b[0m\u001b[1;32m     57\u001b[0m \u001b[0;34m\u001b[0m\u001b[0m\n\u001b[1;32m     58\u001b[0m     \u001b[0;31m# An AttributeError occurs if the object does not have\u001b[0m\u001b[0;34m\u001b[0m\u001b[0;34m\u001b[0m\u001b[0m\n",
      "\u001b[0;31mKeyboardInterrupt\u001b[0m: "
     ]
    }
   ],
   "source": [
    "h = 35.5 #km\n",
    "R = 6356. # km\n",
    "theta_view = radians(1) #degrees\n",
    "N = 10000000 # number of samples\n",
    "start = 0 # minimum source declination in degrees\n",
    "end = 90 # maximum source declination in degrees\n",
    "steps= 90 # divisions indeclination used to generate plot\n",
    "\n",
    "areas1=[]\n",
    "areas2=[]\n",
    "for j in range(0,steps):\n",
    "    theta = radians(start+(end-start)*float(j)/steps)\n",
    "    \n",
    "    area1 = geom.Area(theta,h,R,theta_view, N)\n",
    "    A1 = area1.degree_eff_area()\n",
    "    \n",
    "    area2 = geom_trap.Area(theta,h,R,theta_view, N)\n",
    "    A2, phi_e, theta_e, view_angle, exit_angle, norm, e_dot= area2.event_retention()\n",
    "#     earth_t_min, earth_t_max, phi_E_min, phi_E_max = area2.earth_patch(area2.t_src,area2.phi_src, area2.th_v)\n",
    "#     earth_t =area2.thetaE_nadir(theta)\n",
    "#     print np.arcsin((R+h) * np.sin(theta) / R)\n",
    "#     print 2*np.pi* (h * np.tan(theta)) \n",
    "#     print (2*np.pi*np.sin(earth_t)*R)\n",
    "#     print earth_t , earth_t_min, earth_t_max, phi_E_min, phi_E_max\n",
    "    \n",
    "    areas1.append(A1)\n",
    "    areas2.append(A2)\n",
    "    print degrees(theta),A1, A2\n",
    "    print \"   \"\n"
   ]
  },
  {
   "cell_type": "code",
   "execution_count": null,
   "metadata": {},
   "outputs": [],
   "source": [
    "# Creating a plot for the full range of possible source declinations \n",
    "fig = plt.figure(figsize=(7,7))\n",
    "ax = plt.axes()\n",
    "x = np.linspace(start-90,end-90,steps)\n",
    "\n",
    "ax.plot(x, areas1)\n",
    "ax.plot(x, areas2)\n",
    "    \n",
    "horizon = degrees(np.arcsin(R / (R+h)))-90\n",
    "#plt.xlim(-10,0)  \n",
    "legend = ax.legend([\"Full Cap\", \"Trapezoid\"], fontsize=14)\n",
    "plt.xlabel(\"Payload Elevation Angle of Source \"+r'$\\theta_{ele}$'+\" (degrees)\", fontsize=18)\n",
    "plt.ylabel(r'$\\langle A \\rangle_g$'+\" \"+r'$[km^2]$', fontsize=18)\n",
    "plt.title(\"Geometric Effective Area\", fontsize=20)\n",
    "plt.setp(legend.get_title(),fontsize='x-large')\n",
    "ax.tick_params(axis = 'both', which = 'major', labelsize = 16)\n",
    "plt.grid(True,which='both')\n",
    "plt.semilogy()"
   ]
  },
  {
   "cell_type": "code",
   "execution_count": null,
   "metadata": {},
   "outputs": [],
   "source": []
  }
 ],
 "metadata": {
  "kernelspec": {
   "display_name": "Python 2",
   "language": "python",
   "name": "python2"
  },
  "language_info": {
   "codemirror_mode": {
    "name": "ipython",
    "version": 2
   },
   "file_extension": ".py",
   "mimetype": "text/x-python",
   "name": "python",
   "nbconvert_exporter": "python",
   "pygments_lexer": "ipython2",
   "version": "2.7.16"
  }
 },
 "nbformat": 4,
 "nbformat_minor": 2
}
