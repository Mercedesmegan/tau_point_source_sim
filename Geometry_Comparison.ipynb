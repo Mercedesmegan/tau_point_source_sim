{
 "cells": [
  {
   "cell_type": "code",
   "execution_count": 1,
   "metadata": {},
   "outputs": [
    {
     "data": {
      "text/plain": [
       "<module 'detectorgeometry_071719' from 'detectorgeometry_071719.pyc'>"
      ]
     },
     "execution_count": 1,
     "metadata": {},
     "output_type": "execute_result"
    }
   ],
   "source": [
    "%matplotlib inline\n",
    "from pylab import *\n",
    "\n",
    "import detectorgeometry as geom\n",
    "reload(geom)\n",
    "\n",
    "import detectorgeometry_trap as geom_trap\n",
    "reload(geom_trap)\n",
    "\n",
    "import detectorgeometry_071719 as geom_new\n",
    "reload(geom_new)"
   ]
  },
  {
   "cell_type": "code",
   "execution_count": 2,
   "metadata": {},
   "outputs": [
    {
     "name": "stderr",
     "output_type": "stream",
     "text": [
      "detectorgeometry_trap.py:54: RuntimeWarning: invalid value encountered in double_scalars\n",
      "  arg2 = (self.h * np.tan(theta_src)) /(4*np.pi*np.sin(earth_t)*self.R)\n"
     ]
    }
   ],
   "source": [
    "h = 35.5 #km\n",
    "R = 6356. # km\n",
    "theta_view = radians(1) #degrees\n",
    "N = 5000000 # number of samples\n",
    "\n",
    "theta_src = radians(0)\n",
    "area = geom_trap.Area(theta_src,h,R,theta_view, N)\n",
    "A_deg, e_phi, e_theta, view_angle, exit_angle, emg_angle, norm, e_dot, A0, N0= area.event_retention()\n",
    "# earth_t_min, earth_t_max, phi_E_min, phi_E_max = area.earth_patch(area.t_src,area.phi_src, area.th_v)\n",
    "# r_x, r_y, r_z = area.coords(area.t_src, area.phi_src + np.pi) \n",
    "# t_e,phi_e = area.earth_locs(earth_t_min, earth_t_max, phi_E_min, phi_E_max)\n",
    "# e_x,e_y,e_z = area.coords(t_e,phi_e)\n",
    "# dot = area.dot_prod(e_x,e_y,e_z,r_x, r_y,r_z)\n",
    "# view_angle,exit_angle, flight_path = area.view_angle_dist_det(e_x,e_y,e_z,r_x, r_y,r_z)\n"
   ]
  },
  {
   "cell_type": "code",
   "execution_count": 3,
   "metadata": {
    "scrolled": true
   },
   "outputs": [
    {
     "name": "stdout",
     "output_type": "stream",
     "text": [
      "6.283167772564183\n",
      "9.747648549183799e-05\n"
     ]
    },
    {
     "data": {
      "image/png": "[encoded data removed]",
      "text/plain": [
       "<Figure size 396x252 with 1 Axes>"
      ]
     },
     "metadata": {
      "needs_background": "light"
     },
     "output_type": "display_data"
    }
   ],
   "source": [
    "#print A, e_phi, view_angle\n",
    "fig = plt.figure(figsize=(5.5,3.5))\n",
    "\n",
    "plt.scatter(degrees(e_phi)-180, degrees(e_theta),s=1)\n",
    "plt.axvline(degrees(min(e_phi))-180)\n",
    "plt.axvline(degrees(max(e_phi))-180)\n",
    "plt.xlabel(\"Earth phi \"+r'($^{\\circ}$)')\n",
    "\n",
    "# plt.scatter(radians(degrees(e_phi)-180), degrees(e_theta),s=1)\n",
    "# plt.axvline(radians(degrees(min(e_phi))-180))\n",
    "# plt.axvline(radians(degrees(max(e_phi))-180))\n",
    "# plt.xlabel(\"Earth phi (radians)\")\n",
    "\n",
    "plt.ylabel(\"Earth theta \"+r'($^{\\circ}$)')\n",
    "plt.axhline(degrees(min(e_theta)))\n",
    "plt.axhline(degrees(max(e_theta)))\n",
    "\n",
    "print radians(max(degrees(e_phi))-min(degrees(e_phi)))\n",
    "print radians(max(degrees(np.unwrap(e_theta)))-min(degrees(np.unwrap(e_theta))))\n",
    "            \n",
    "\n",
    "# plt.scatter(e_phi, e_theta,s=1)\n",
    "# plt.xlabel(\"Earth phi (rad)\")\n",
    "# plt.ylabel(\"Earth theta (rad)\")\n",
    "# plt.axhline(min(e_theta))\n",
    "# plt.axhline(max(e_theta))\n",
    "# plt.axvline(min(e_phi))\n",
    "# plt.axvline(max(e_phi))\n",
    "\n",
    "plt.title(str(round(degrees(theta_src),1))+r'$^{\\circ}$'+\" Source Zenith Angle\")\n",
    "#plt.ylim(0.8*min(degrees(samp_t_e) ),1.2*max(degrees(samp_t_e) ))\n",
    "\n",
    "plt.show()\n",
    "\n"
   ]
  },
  {
   "cell_type": "code",
   "execution_count": null,
   "metadata": {},
   "outputs": [],
   "source": [
    "area2 = geom_trap.Area(radians(1),h,R,theta_view, N)\n",
    "print degrees(area2.thetaE_nadir(radians(1)))\n",
    "print (2*pi*R**2)*(1-np.cos(area2.thetaE_nadir(radians(1))))"
   ]
  },
  {
   "cell_type": "code",
   "execution_count": null,
   "metadata": {
    "scrolled": true
   },
   "outputs": [
    {
     "name": "stdout",
     "output_type": "stream",
     "text": [
      "0.0 1.550836055735679 1.2062049653436873\n",
      "   \n",
      "1.0 1.4096335887140217 1.2064458319983609\n",
      "   \n",
      "2.0 1.4089832668430644 1.204197911000696\n",
      "   \n",
      "3.0000000000000004 1.1263164673882067 1.2077195272645715\n",
      "   \n",
      "4.0 1.828291121526584 1.2121266739405034\n",
      "   \n",
      "5.0 1.4044235460043661 1.2152034159436047\n",
      "   \n",
      "6.000000000000001 1.6824521500295428 1.2193505885261857\n",
      "   \n",
      "7.0 1.3992208629615497 1.229124333581067\n",
      "   \n",
      "8.0 0.9771827258957738 1.2276891951836502\n",
      "   \n",
      "9.0 0.8353820787222465 1.2361945666794032\n",
      "   \n",
      "10.0 1.5270177090095844 1.2410577630732818\n",
      "   \n",
      "11.0 0.8301951686882497 1.2473877076927797\n",
      "   \n",
      "12.000000000000002 0.8272218830834777 1.2556100064422269\n",
      "   \n",
      "13.0 1.0986447051642731 1.2727665301386903\n",
      "   \n",
      "14.0 0.8205014686518801 1.277019581067588\n",
      "   \n",
      "14.999999999999998 0.8167550989008155 1.2937884940693918\n",
      "   \n",
      "16.0 1.3546030441080197 1.312334847988275\n",
      "   \n",
      "17.0 1.0780456170379615 1.3149113087633852\n",
      "   \n",
      "18.0 1.74207694192714 1.3373977944573878\n",
      "   \n",
      "19.0 1.46536704956181 1.3451243054813418\n",
      "   \n",
      "20.0 1.191455159316651 1.364695762055333\n",
      "   \n",
      "21.0 0.7890755776589651 1.3781203420304864\n",
      "   \n",
      "22.0 1.6977871047101496 1.4049691273251486\n",
      "   \n",
      "23.0 1.426112779762976 1.4277578240175666\n",
      "   \n",
      "24.000000000000004 1.4151852532058509 1.4453920412656396\n",
      "   \n",
      "25.0 1.7866769222563186 1.4654182485818292\n",
      "   \n",
      "26.0 1.0123996279865375 1.4944605435750198\n",
      "   \n",
      "27.0 1.2543502761240992 1.5135315574014205\n",
      "   \n",
      "28.0 1.6157231465521833 1.5438002665272048\n",
      "   \n",
      "29.000000000000004 1.9695478421910264 1.5692911689773146\n",
      "   \n",
      "29.999999999999996 1.0968339661565638 1.6070459211701704\n",
      "   \n",
      "31.0 1.809050163589617 1.6552363144883144\n",
      "   \n",
      "32.0 1.670201115206592 1.6865664479183522\n",
      "   \n",
      "33.0 2.4771335701046664 1.7176229445595603\n",
      "   \n",
      "34.0 1.748749300841461 1.7591391319105458\n",
      "   \n",
      "35.0 2.4185540235990923 1.809082036811427\n",
      "   \n",
      "36.0 1.5921280350486378 1.835464763808064\n",
      "   \n",
      "37.0 1.9079964058366627 1.902566967317846\n",
      "   \n",
      "38.0 1.439365970964522 1.9419246579070228\n",
      "   \n",
      "39.0 1.964951273613061 2.004241205027864\n",
      "   \n",
      "40.0 1.613587678124565 2.075363571605597\n",
      "   \n",
      "41.0 2.119018988071481 2.1223616954215734\n",
      "   \n",
      "42.0 3.5460269587850717 2.1864175956535106\n",
      "   \n",
      "43.0 2.5651349435781525 2.2573568881601864\n",
      "   \n",
      "44.0 1.9167683297997937 2.3468778254353984\n",
      "   \n",
      "45.0 2.3791079790122382 2.426144370699693\n",
      "   \n",
      "46.0 2.9204746589401824 2.5066535070831737\n",
      "   \n"
     ]
    }
   ],
   "source": [
    "h = 35.5 #km\n",
    "R = 6356. # km\n",
    "theta_view = radians(1) #degrees\n",
    "N = 10000000 # number of samples\n",
    "\n",
    "areas1=[]\n",
    "areas2=[]\n",
    "\n",
    "start = 0 # minimum source declination in degrees\n",
    "end = 80 # maximum source declination in degrees\n",
    "steps=80 # divisions indeclination used to generate plot\n",
    "x1 = np.linspace(-(90-start),-(90-end),steps)\n",
    "for j in range(0,steps):\n",
    "    theta = radians(start+(end-start)*float(j)/steps)\n",
    "    \n",
    "    area1 = geom.Area(theta,h,R,theta_view, N)\n",
    "    A1 = area1.degree_eff_area()\n",
    "    \n",
    "    area2 = geom_trap.Area(theta,h,R,theta_view, N)\n",
    "    A2, phi_e, theta_e, view_angle, exit_angle, emg_angle, norm, e_dot, A0, N0= area2.event_retention()\n",
    " \n",
    "    areas1.append(A1)\n",
    "    areas2.append(A2)\n",
    "    print degrees(theta),A1, A2\n",
    "    print \"   \"\n",
    "\n",
    "\n",
    "    \n",
    "start = 80 # minimum source declination in degrees\n",
    "end = 90 # maximum source declination in degrees\n",
    "steps=100 # divisions indeclination used to generate plot\n",
    "x2 = np.linspace(-(90-start),-(90-end),steps)\n",
    "for j in range(0,steps):\n",
    "    theta = radians(start+(end-start)*float(j)/steps)\n",
    "    \n",
    "    area1 = geom.Area(theta,h,R,theta_view, N)\n",
    "    A1 = area1.degree_eff_area()\n",
    "    \n",
    "    area2 = geom_trap.Area(theta,h,R,theta_view, N)\n",
    "    A2, phi_e, theta_e, view_angle, exit_angle, emg_angle, norm, e_dot, A0, N0= area2.event_retention()\n",
    " \n",
    "    areas1.append(A1)\n",
    "    areas2.append(A2)\n",
    "    print degrees(theta),A1, A2\n",
    "    print \"   \"\n"
   ]
  },
  {
   "cell_type": "code",
   "execution_count": null,
   "metadata": {},
   "outputs": [],
   "source": [
    "# Creating a plot for the full range of possible source declinations \n",
    "fig = plt.figure(figsize=(7,7))\n",
    "ax = plt.axes()\n",
    "x_full = np.concatenate((x1,x2))\n",
    "\n",
    "ax.plot(x_full, areas1)\n",
    "ax.plot(x_full, areas2)\n",
    "    \n",
    "horizon = degrees(np.arcsin(R / (R+h)))-90\n",
    "#plt.xlim(-10,0)  \n",
    "legend = ax.legend([\"Full Cap\", \"Trapezoid\"], fontsize=14)\n",
    "plt.xlabel(\"Payload Elevation Angle of Source \"+r'$\\theta_{ele}$'+\" (degrees)\", fontsize=18)\n",
    "plt.ylabel(r'$\\langle A \\rangle_g$'+\" \"+r'$[km^2]$', fontsize=18)\n",
    "plt.title(\"Geometric Effective Area\", fontsize=20)\n",
    "plt.setp(legend.get_title(),fontsize='x-large')\n",
    "ax.tick_params(axis = 'both', which = 'major', labelsize = 16)\n",
    "plt.grid(True,which='both')\n",
    "plt.semilogy()"
   ]
  },
  {
   "cell_type": "code",
   "execution_count": null,
   "metadata": {},
   "outputs": [],
   "source": []
  }
 ],
 "metadata": {
  "kernelspec": {
   "display_name": "Python 2",
   "language": "python",
   "name": "python2"
  },
  "language_info": {
   "codemirror_mode": {
    "name": "ipython",
    "version": 2
   },
   "file_extension": ".py",
   "mimetype": "text/x-python",
   "name": "python",
   "nbconvert_exporter": "python",
   "pygments_lexer": "ipython2",
   "version": "2.7.16"
  }
 },
 "nbformat": 4,
 "nbformat_minor": 2
}
