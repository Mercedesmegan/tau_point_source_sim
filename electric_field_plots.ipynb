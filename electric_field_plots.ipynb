{
 "cells": [
  {
   "cell_type": "markdown",
   "metadata": {},
   "source": [
    "# Setup"
   ]
  },
  {
   "cell_type": "code",
   "execution_count": 48,
   "metadata": {},
   "outputs": [
    {
     "data": {
      "text/plain": [
       "<module 'trigger_properties' from 'trigger_properties.py'>"
      ]
     },
     "execution_count": 48,
     "metadata": {},
     "output_type": "execute_result"
    }
   ],
   "source": [
    "%matplotlib inline\n",
    "from pylab import *\n",
    "import math\n",
    "from matplotlib import pyplot as plt\n",
    "import numpy as np\n",
    "\n",
    "import detectorgeometry_trap as geom_trap\n",
    "reload(geom_trap)\n",
    "\n",
    "import decay_properties_energyset as decay_energyset\n",
    "reload(decay_energyset)\n",
    "\n",
    "import decay_properties as decay\n",
    "reload(decay)\n",
    "\n",
    "import trigger_properties as RF\n",
    "reload(RF)"
   ]
  },
  {
   "cell_type": "code",
   "execution_count": null,
   "metadata": {
    "scrolled": true
   },
   "outputs": [],
   "source": [
    "# Generating data for plots\n",
    "h = 37 #km\n",
    "R = 6356. # km\n",
    "ice =2\n",
    "N = 2000000 # number of samples\n",
    "E_nu = 19 #log energy in eV of incident neutrino \n",
    "E_cut = 15\n",
    "f_lo = 180\n",
    "f_high = 1200\n",
    "Gain_dB = 10\n",
    "Nphased = 1\n",
    "theta_view = radians(1)\n",
    "    \n",
    "start = 0 # minimum source declination in degrees\n",
    "end = 90 # maximum source declination in degrees\n",
    "steps=90 # divisions indeclination used to generate plot\n",
    "\n",
    "event_decay_alt=[]\n",
    "event_efield=[]\n",
    "event_view=[]\n",
    "event_emg=[]\n",
    "for j in range(0,steps):\n",
    "    print j\n",
    "    theta_src = radians(start+(end-start)*float(j)/steps)\n",
    "    #print start+(end-start)*float(j)/steps\n",
    "    \n",
    "    #print np.degrees(theta_src), h,R,theta_view, N\n",
    "    geom_area = geom_trap.Area(theta_src, h,R,theta_view, N)\n",
    "    A_deg, phi_e, theta_e, view_angle, exit_angle, emg_angle, norm, e_dot, A0, N0 = geom_area.event_retention()\n",
    "    #print A_deg, np.degrees(np.average(emg_angle))\n",
    "    decay1 = decay_energyset.tau_event(theta_src, ice, E_cut, e_dot, phi_e, theta_e, \\\n",
    "                             norm,E_nu, h, R, theta_view, exit_angle, emg_angle, view_angle, A_deg, A0, N0)\n",
    "\n",
    "    A_ret,ret_e_dot, ret_phi_e, ret_t_e, ret_tau_energy, ret_exit_obs, ret_exit_decay, ret_decay_obs, \\\n",
    "    ret_exit, ret_emg, ret_view, ret_decay_alt, ret_decay_angle, ret_fractions,ret_types, ret_p_exit, A0, N0 = decay1.degree_eff_area()\n",
    "    \n",
    "    if len(ret_e_dot) != 0:\n",
    "        trigger_result = RF.event_detection(A_ret, f_lo, f_high, Gain_dB, Nphased, \\\n",
    "                                        ret_exit,ret_emg,ret_view, ret_decay_angle, ret_decay_alt, \\\n",
    "                                        theta_view, ret_exit_obs,ret_exit_decay, ret_decay_obs, ret_p_exit, ret_e_dot,\\\n",
    "                                        ret_tau_energy, R, ice, h, ret_t_e, ret_phi_e,theta_src, A0,N0)\n",
    "        decay_alt, Peak_Efield, view_angle, emg_angle = trigger_result.RF_efield_PLOT()\n",
    "        for i in range(len(decay_alt)):\n",
    "            event_decay_alt.append(decay_alt[i])\n",
    "            event_efield.append(Peak_Efield[i])\n",
    "            event_view.append(view_angle[i])\n",
    "            event_emg.append(emg_angle[i])\n",
    "    print \"   \"\n",
    "    "
   ]
  },
  {
   "cell_type": "code",
   "execution_count": null,
   "metadata": {},
   "outputs": [],
   "source": [
    "print event_decay_alt[:10]\n",
    "print event_efield[:10]\n",
    "print event_view[:10]\n",
    "print event_emg[:10]"
   ]
  },
  {
   "cell_type": "markdown",
   "metadata": {},
   "source": [
    "## Creation of Graphs to Verify Radio Beam Pattern"
   ]
  },
  {
   "cell_type": "code",
   "execution_count": null,
   "metadata": {},
   "outputs": [],
   "source": [
    "# Input theta view\n",
    "# Output E_peak\n",
    "# Diff graph for each decay altitude\n",
    "# Diff line for each emergence angle\n",
    "\n",
    "\n",
    "theta_emg = [1,3,5,10,15,20,25,30,35,40]\n",
    "\n",
    "for i in range(4):\n",
    "    decay_alt_choice = i*3\n",
    "    print decay_alt_choice\n",
    "    event_efield_cut1 =[event_efield[num] for num in range(len(event_decay_alt)) if round(event_decay_alt[num]) == decay_alt_choice]\n",
    "    event_view_cut1 =[event_view[num] for num in range(len(event_decay_alt)) if round(event_decay_alt[num]) == decay_alt_choice]\n",
    "    event_emg_cut1 = [event_emg[num] for num in range(len(event_decay_alt)) if round(event_decay_alt[num]) == decay_alt_choice]\n",
    "    \n",
    "    fig = plt.figure(figsize=(7,7))\n",
    "    ax = plt.axes()\n",
    "    for j in range(len(theta_emg)):\n",
    "        theta_emg_choice =theta_emg[j]\n",
    "        event_efield_cut2 =[1000*event_efield_cut1[num] for num in range(len(event_emg_cut1)) if round(event_emg_cut1[num]) == theta_emg_choice]\n",
    "        event_view_cut2 = [event_view_cut1[num] for num in range(len(event_emg_cut1)) if round(event_emg_cut1[num]) == theta_emg_choice]\n",
    "        print theta_emg[j], len(event_efield_cut2)\n",
    "        #print event_view_cut2, event_efield_cut2\n",
    "    \n",
    "        ax.scatter(event_view_cut2, event_efield_cut2)\n",
    "    ax.legend([ str(theta_emg[i]) for i in range(len(theta_emg))] , fontsize=14,bbox_to_anchor=(1.1, 1.05))\n",
    "    plt.xlabel(r'$\\theta_{view}$ (deg.)', fontsize=18)\n",
    "    plt.ylabel(r'$E_{peak}$ (mV/m)', fontsize=18)\n",
    "    plt.title(\"Tau Decay Altitude \"+str(decay_alt_choice)+\" km\", fontsize=20)\n",
    "    plt.xlim(0,1.5)\n",
    "    #plt.ylim(0,.0002)\n",
    "#     plt.show()\n",
    "        "
   ]
  },
  {
   "cell_type": "code",
   "execution_count": null,
   "metadata": {},
   "outputs": [],
   "source": [
    "# Input emergence angle\n",
    "# Output E_peak\n",
    "# Diff line for each decay altitude\n",
    "\n",
    "\n",
    "fig = plt.figure(figsize=(7,7))\n",
    "ax = plt.axes()\n",
    "\n",
    "for i in range(10):\n",
    "    decay_alt_choice = i\n",
    "    print decay_alt_choice\n",
    "    event_efield_cut1 =[1000*event_efield[num] for num in range(len(event_decay_alt)) if round(event_decay_alt[num]) == decay_alt_choice]\n",
    "    event_emg_cut1 = [round(event_emg[num]) for num in range(len(event_decay_alt)) if round(event_decay_alt[num]) == decay_alt_choice]\n",
    "    x = np.linspace(0,40,41)\n",
    "    max_efield=[]\n",
    "    for i in x:\n",
    "        event_efield_max = max([event_efield_cut1[num] for num in range(len(event_emg_cut1)) if event_emg_cut1[num]==i])\n",
    "        max_efield.append(event_efield_max)\n",
    "\n",
    "    ax.scatter(x, max_efield)\n",
    "    \n",
    "ax.legend([ str(i)+\" km\" for i in range(10)] , fontsize=14,bbox_to_anchor=(1.1, 1.05))\n",
    "plt.xlabel(r'$\\theta_{emg}$ (deg.)', fontsize=18)\n",
    "plt.ylabel(r'$E_{peak}$ (mV/m)', fontsize=18)\n",
    "plt.xlim([0,40])"
   ]
  },
  {
   "cell_type": "code",
   "execution_count": null,
   "metadata": {},
   "outputs": [],
   "source": [
    "# Emergence angle 30˚\n",
    "# Input theta_view\n",
    "# Output E_peak\n",
    "# Diff graph for each decay altitude\n",
    "\n",
    "theta_emg_choice = 30\n",
    "\n",
    "fig = plt.figure(figsize=(7,7))\n",
    "ax = plt.axes()\n",
    "\n",
    "for i in range(10):\n",
    "    decay_alt_choice = i\n",
    "    print decay_alt_choice\n",
    "    event_view_cut1 =[event_view[num] for num in range(len(event_emg)) \\\n",
    "                        if (round(event_emg[num]) == theta_emg_choice and round(event_decay_alt[num]) == decay_alt_choice)]\n",
    "    event_efield_cut1 = [1000*event_efield[num] for num in range(len(event_emg)) \\\n",
    "                        if (round(event_emg[num]) == theta_emg_choice and round(event_decay_alt[num]) == decay_alt_choice)]\n",
    "    print len(event_view_cut1)\n",
    "    ax.scatter(event_view_cut1, event_efield_cut1)\n",
    "    \n",
    "ax.legend([ str(i)+\" km\" for i in range(10)] , fontsize=14,bbox_to_anchor=(1.1, 1.05))\n",
    "plt.xlabel(r'$\\theta_{view}$ (deg.)', fontsize=18)\n",
    "plt.ylabel(r'$E_{peak}$ (mV/m)', fontsize=18)\n",
    "plt.title(\"Emergence angle \"+r'$30^{\\circ}$', fontsize=20)\n",
    "plt.xlim([0,1.5])\n",
    "        "
   ]
  },
  {
   "cell_type": "markdown",
   "metadata": {},
   "source": [
    "## Making Histogram"
   ]
  },
  {
   "cell_type": "code",
   "execution_count": 49,
   "metadata": {
    "scrolled": true
   },
   "outputs": [
    {
     "name": "stdout",
     "output_type": "stream",
     "text": [
      "0.031717994964910734\n",
      "1.5495664955712898e-05\n",
      "   \n",
      "1.5495664955712898e-05\n"
     ]
    }
   ],
   "source": [
    "# Generating data for plots\n",
    "h = 37 #km\n",
    "R = 6356. # km\n",
    "ice =4\n",
    "N = 20000000 # number of samples\n",
    "E_nu = 18 #log energy in eV of incident neutrino \n",
    "E_cut = 14\n",
    "f_lo = 180\n",
    "f_high = 1200\n",
    "Gain_dB = 10\n",
    "Nphased = 1\n",
    "theta_view = radians(1)\n",
    "\n",
    "event_decay_alt=[]\n",
    "event_efield_mv=[]\n",
    "event_view=[]\n",
    "event_emg=[]\n",
    "event_trig = []\n",
    "\n",
    "theta_src = radians(90-27.4)\n",
    "#print start+(end-start)*float(j)/steps\n",
    "\n",
    "#print np.degrees(theta_src), h,R,theta_view, N\n",
    "geom_area = geom_trap.Area(theta_src, h,R,theta_view, N)\n",
    "A_deg, phi_e, theta_e, view_angle, exit_angle, emg_angle, norm, e_dot, A0, N0 = geom_area.event_retention()\n",
    "#print A_deg, np.degrees(np.average(emg_angle))\n",
    "decay1 = decay.tau_event(theta_src, ice, E_cut, e_dot, phi_e, theta_e, \\\n",
    "                         norm,E_nu, h, R, theta_view, exit_angle, emg_angle, view_angle, A_deg, A0, N0)\n",
    "\n",
    "A_ret,ret_e_dot, ret_phi_e, ret_t_e, ret_tau_energy, ret_exit_obs, ret_exit_decay, ret_decay_obs, \\\n",
    "ret_exit, ret_emg, ret_view, ret_decay_alt, ret_decay_angle, ret_fractions,ret_types, ret_p_exit, A0, N0 = decay1.degree_eff_area()\n",
    "\n",
    "print np.average(ret_decay_alt)\n",
    "if len(ret_e_dot) != 0:\n",
    "    trigger_result = RF.event_detection(A_ret, f_lo, f_high, Gain_dB, Nphased, \\\n",
    "                                    ret_exit,ret_emg,ret_view, ret_decay_angle, ret_decay_alt, \\\n",
    "                                    theta_view, ret_exit_obs,ret_exit_decay, ret_decay_obs, ret_p_exit, ret_e_dot,\\\n",
    "                                    ret_tau_energy, R, ice, h, ret_t_e, ret_phi_e,theta_src, A0,N0)\n",
    "    decay_alt, Peak_V, view_angle, emg_angle, trigger, threshhold = trigger_result.RF_voltage()\n",
    "    for i in range(len(decay_alt)):\n",
    "        event_decay_alt.append(decay_alt[i])\n",
    "        event_efield_mv.append(Peak_V[i])\n",
    "        event_view.append(view_angle[i])\n",
    "        event_emg.append(emg_angle[i])\n",
    "        event_trig.append(trigger[i])\n",
    "print \"   \"\n",
    "    "
   ]
  },
  {
   "cell_type": "code",
   "execution_count": 47,
   "metadata": {},
   "outputs": [
    {
     "data": {
      "text/plain": [
       "[]"
      ]
     },
     "execution_count": 47,
     "metadata": {},
     "output_type": "execute_result"
    },
    {
     "data": {
      "image/png": "[encoded data removed]",
      "text/plain": [
       "<Figure size 576x576 with 1 Axes>"
      ]
     },
     "metadata": {
      "needs_background": "light"
     },
     "output_type": "display_data"
    }
   ],
   "source": [
    "fig, ax = plt.subplots(num=1,figsize=(8,8))\n",
    "        \n",
    "plt.xlabel(r'$V_{peak}$ (mV/m)', fontsize=14)\n",
    "plt.ylabel('Count', fontsize=14)\n",
    "n, bins, patches = plt.hist(x=event_efield_mv, bins='auto', color='#0504aa',\n",
    "                   rwidth=0.85)\n",
    "plt.axvline(x=threshhold)\n",
    "plt.title(\"ANITA Electric Field Voltages \"+str(round(np.degrees(theta_src)))+r'$^{\\circ}$', fontsize=16)\n",
    "#ax.get_xaxis().set_major_formatter(mpl.ticker.StrMethodFormatter('{:.3g}'))\n",
    "#plt.figtext(.5,-0.1,\"Voltage Cutoff \"+'{:.3g}'.format(cutoff), fontsize=12, ha='center')\n",
    "#plt.figtext(.5,-0.1,\"Voltage Cutoff \"+str(round(cutoff,6)), fontsize=12, ha='center')\n",
    "plt.text(0.02, 0.02, \"Threshold: \"+str(threshhold), fontsize=14, transform=plt.gcf().transFigure)\n",
    "plt.semilogy()"
   ]
  },
  {
   "cell_type": "code",
   "execution_count": 44,
   "metadata": {},
   "outputs": [
    {
     "data": {
      "text/plain": [
       "[]"
      ]
     },
     "execution_count": 44,
     "metadata": {},
     "output_type": "execute_result"
    },
    {
     "data": {
      "image/png": "[encoded data removed]",
      "text/plain": [
       "<Figure size 576x576 with 1 Axes>"
      ]
     },
     "metadata": {
      "needs_background": "light"
     },
     "output_type": "display_data"
    }
   ],
   "source": [
    "fig, ax = plt.subplots(num=1,figsize=(8,8))\n",
    "        \n",
    "plt.xlabel('Decay View Angle (deg)', fontsize=14)\n",
    "plt.ylabel('Count', fontsize=14)\n",
    "n, bins, patches = plt.hist(x=event_view, bins='auto', color='#0504aa',\n",
    "                   rwidth=0.85)\n",
    "plt.axvline(x=4.0)\n",
    "plt.title(\"ANITA Decay View Angles \"+str(round(np.degrees(theta_src)))+r'$^{\\circ}$', fontsize=16)\n",
    "#ax.get_xaxis().set_major_formatter(mpl.ticker.StrMethodFormatter('{:.3g}'))\n",
    "#plt.figtext(.5,-0.1,\"Voltage Cutoff \"+'{:.3g}'.format(cutoff), fontsize=12, ha='center')\n",
    "#plt.figtext(.5,-0.1,\"Voltage Cutoff \"+str(round(cutoff,6)), fontsize=12, ha='center')\n",
    "plt.text(0.02, 0.02, \"View Angle Cut: \"+str(threshhold), fontsize=14, transform=plt.gcf().transFigure)\n",
    "plt.semilogy()"
   ]
  },
  {
   "cell_type": "code",
   "execution_count": null,
   "metadata": {},
   "outputs": [],
   "source": []
  }
 ],
 "metadata": {
  "kernelspec": {
   "display_name": "Python 2",
   "language": "python",
   "name": "python2"
  },
  "language_info": {
   "codemirror_mode": {
    "name": "ipython",
    "version": 2
   },
   "file_extension": ".py",
   "mimetype": "text/x-python",
   "name": "python",
   "nbconvert_exporter": "python",
   "pygments_lexer": "ipython2",
   "version": "2.7.16"
  }
 },
 "nbformat": 4,
 "nbformat_minor": 2
}
