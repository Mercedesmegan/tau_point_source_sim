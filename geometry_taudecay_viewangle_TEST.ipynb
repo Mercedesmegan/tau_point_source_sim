{
 "cells": [
  {
   "cell_type": "markdown",
   "metadata": {},
   "source": [
    "# Setup"
   ]
  },
  {
   "cell_type": "code",
   "execution_count": 1,
   "metadata": {},
   "outputs": [
    {
     "data": {
      "text/plain": [
       "<module 'detectorgeometry_taudecay_viewangle' from 'detectorgeometry_taudecay_viewangle.pyc'>"
      ]
     },
     "execution_count": 1,
     "metadata": {},
     "output_type": "execute_result"
    }
   ],
   "source": [
    "%matplotlib inline\n",
    "from pylab import *\n",
    "\n",
    "# importing the class stored in the same directory as this file\n",
    "import detectorgeometry_taudecay_viewangle as geom\n",
    "\n",
    "# including command to reload the class in case it is modified\n",
    "reload(geom)"
   ]
  },
  {
   "cell_type": "code",
   "execution_count": null,
   "metadata": {},
   "outputs": [],
   "source": [
    "# example data input to class to determin effective area\n",
    "\n",
    "theta_src = radians(83) #radians\n",
    "h = 35.5 #km\n",
    "R = 6356. # km\n",
    "theta_view = radians(1) #degrees\n",
    "N = 1000000 # number of samples\n",
    "\n",
    "# using the class\n",
    "area = geom.Area(theta_src,h,R,theta_view, N)\n",
    "\n",
    "print area.degree_eff_area()"
   ]
  },
  {
   "cell_type": "code",
   "execution_count": null,
   "metadata": {},
   "outputs": [],
   "source": [
    "np.savetxt(\"XXX.csv\", XXX, delimiter=\",\")"
   ]
  }
 ],
 "metadata": {
  "kernelspec": {
   "display_name": "Python 2",
   "language": "python",
   "name": "python2"
  },
  "language_info": {
   "codemirror_mode": {
    "name": "ipython",
    "version": 2
   },
   "file_extension": ".py",
   "mimetype": "text/x-python",
   "name": "python",
   "nbconvert_exporter": "python",
   "pygments_lexer": "ipython2",
   "version": "2.7.16"
  }
 },
 "nbformat": 4,
 "nbformat_minor": 2
}
