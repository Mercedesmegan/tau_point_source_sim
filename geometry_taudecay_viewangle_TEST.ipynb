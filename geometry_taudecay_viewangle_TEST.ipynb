{
 "cells": [
  {
   "cell_type": "markdown",
   "metadata": {},
   "source": [
    "# Setup"
   ]
  },
  {
   "cell_type": "code",
   "execution_count": 110,
   "metadata": {},
   "outputs": [
    {
     "data": {
      "text/plain": [
       "<module 'decay_properties' from 'decay_properties.py'>"
      ]
     },
     "execution_count": 110,
     "metadata": {},
     "output_type": "execute_result"
    }
   ],
   "source": [
    "%matplotlib inline\n",
    "from pylab import *\n",
    "\n",
    "# importing the class stored in the same directory as this file\n",
    "import detectorgeometry as geom\n",
    "# including command to reload the class in case it is modified\n",
    "reload(geom)\n",
    "\n",
    "import detectorgeometry_trap as geom_trap\n",
    "reload(geom_trap)\n",
    "\n",
    "import decay_properties as decay\n",
    "reload(decay)"
   ]
  },
  {
   "cell_type": "code",
   "execution_count": 111,
   "metadata": {
    "scrolled": true
   },
   "outputs": [
    {
     "name": "stdout",
     "output_type": "stream",
     "text": [
      "[97.01286507 97.19037862 97.10216177 ... 97.00962386 97.03680206\n",
      " 97.00190313]\n"
     ]
    }
   ],
   "source": [
    "# example data input to class to determine effective area\n",
    "\n",
    "theta_src = radians(40) #radians\n",
    "h = 35.5 #km\n",
    "R = 6356. # km\n",
    "theta_view = radians(10) #degrees\n",
    "N = 200000 # number of samples\n",
    "E_nu = 19 #log energy in eV of incident neutrino \n",
    "\n",
    "# using the class\n",
    "area1 = geom.Area(theta_src,h,R,theta_view, N)\n",
    "area2 = geom_trap.Area(theta_src,h,R,theta_view, N)\n",
    "#print area2.earth_patch()\n",
    "#print area2.earth_locs()\n",
    "print degrees(area2.view_angle_det())\n",
    "\n",
    "#print area1.degree_eff_area(), area2.degree_eff_area()"
   ]
  },
  {
   "cell_type": "code",
   "execution_count": 112,
   "metadata": {},
   "outputs": [],
   "source": [
    "ret_e_dot, ret_phi_e, ret_t_e, ret_rho  = area1.event_retention()"
   ]
  },
  {
   "cell_type": "code",
   "execution_count": 113,
   "metadata": {},
   "outputs": [
    {
     "name": "stdout",
     "output_type": "stream",
     "text": [
      "[0.80495279 0.75445883 0.74617843 0.82715173 0.80390398 0.73145151\n",
      " 0.8102761  0.74759195 0.75981786 0.71581381 0.74463004 0.79697157\n",
      " 0.79003856 0.72216148 0.79174112 0.80019599 0.7120968  0.78323294\n",
      " 0.74020155 0.76751813 0.74205457 0.81414853 0.75684619 0.74245464\n",
      " 0.80546859 0.75872265 0.80676932 0.79825659 0.75386462 0.72872371\n",
      " 0.74526655 0.7752443  0.77501394 0.71301267 0.73741401 0.76336498\n",
      " 0.72873354 0.77911939 0.8198839  0.81526491] [ 0.06072242 -0.117558   -0.04284293  0.11210034 -0.09917757 -0.18007822\n",
      "  0.19755172 -0.08347576  0.19635909 -0.06923672  0.16460333  0.18375265\n",
      "  0.1576328  -0.10147679 -0.00046655  0.0969253  -0.0207629   0.21571937\n",
      " -0.08948399 -0.225169   -0.11402354 -0.10628123 -0.11581757  0.22598238\n",
      " -0.06760679  0.10110516 -0.01994844 -0.01648382 -0.15967625  0.09303364\n",
      "  0.24073639 -0.10832704  0.09147153  0.10434458  0.0122563   0.10331321\n",
      " -0.11909339 -0.20806424  0.00447602  0.10666569] [0.00627881 0.0055015  0.00654084 0.00537824 0.00568394 0.00565338\n",
      " 0.00515697 0.00639451 0.00494364 0.00556665 0.00419385 0.00523135\n",
      " 0.00617822 0.00589101 0.00569087 0.00641591 0.00594279 0.00520195\n",
      " 0.00400259 0.00452173 0.0041188  0.00464354 0.00371696 0.0053769\n",
      " 0.00580095 0.00567774 0.00652019 0.0065803  0.00561731 0.00563909\n",
      " 0.00507378 0.00536068 0.00389135 0.00529326 0.00417473 0.00425674\n",
      " 0.00565277 0.0052061  0.00491813 0.00487422] [15.84713267 16.04033857 15.89425964 15.94875313 15.82122317 16.08051716\n",
      " 15.88064455 15.9087123  15.96621769 16.06945375 15.88049283 15.77079356\n",
      " 15.9825664  15.87261207 15.81098738 15.95937379 16.01128459 15.98990918\n",
      " 15.83014549 15.79724667 16.04090501 16.01057074 15.85293044 15.88659054\n",
      " 15.8354499  16.03953894 15.87052878 15.78471069 16.0533861  15.8445315\n",
      " 15.97098288 16.06754373 15.94213908 15.84704765 16.04718372 15.95845799\n",
      " 15.9628499  15.83723804 15.78776892 15.94047993] [2.22792540e-16 8.26573143e-16 7.82984815e-16 4.67231119e-16\n",
      " 4.51326027e-16 6.34193913e-16 1.39369480e-15 2.45695609e-17\n",
      " 1.35308671e-16 5.16876633e-17 2.45897281e-16 2.52010366e-16\n",
      " 6.36765684e-16 9.06516922e-16 1.76192046e-16 8.06510630e-17\n",
      " 3.87521106e-16 1.86238822e-15 9.39417635e-17 2.35551961e-15\n",
      " 3.13731084e-16 1.58620473e-15 1.19380478e-15 2.28408334e-16\n",
      " 1.49773184e-15 7.06040341e-16 8.26378884e-16 6.45313704e-16\n",
      " 6.16960077e-16 2.18667575e-15 7.01849588e-16 1.29575931e-17\n",
      " 6.48116011e-16 1.18243331e-15 8.40323442e-16 2.31629999e-16\n",
      " 2.30704263e-16 1.59614525e-15 1.77742668e-15 2.33243398e-15] [1. 1. 1. 1. 1. 1. 1. 1. 1. 1. 1. 1. 1. 1. 1. 1. 1. 1. 1. 1. 1. 1. 1. 1.\n",
      " 1. 1. 1. 1. 1. 1. 1. 1. 1. 1. 1. 1. 1. 1. 1. 1.] [1.53928253 1.47149425 1.55983016 1.46054201 1.48858104 1.48074704\n",
      " 1.43394727 1.5474803  1.4133044  1.47938194 1.33608111 1.44215255\n",
      " 1.52628487 1.50621182 1.49144429 1.54853435 1.5128536  1.4365751\n",
      " 1.31770839 1.36738938 1.33027226 1.38841754 1.28226416 1.45183719\n",
      " 1.49990484 1.4879517  1.55862971 1.56315951 1.47916308 1.48492156\n",
      " 1.42185622 1.45910671 1.30442316 1.45302205 1.33922175 1.34644408\n",
      " 1.48485938 1.43767799 1.41901894 1.41216946]\n",
      "0.0\n"
     ]
    }
   ],
   "source": [
    "# Assign to each event a tau energy, tau decay point, a decay probability, calculated view angle\n",
    "decay1 = decay.tau_event(theta_src, ret_e_dot, ret_phi_e, ret_t_e, ret_rho, E_nu,h,R, theta_view)\n",
    "ret_e_dot, ret_phi_e, ret_t_e, ret_tau_energy, ret_decay_dist, ret_p_decay ,ret_view_angle = decay1.event_retention()\n",
    "print ret_e_dot, ret_phi_e, ret_t_e, ret_tau_energy, ret_decay_dist, ret_p_decay ,ret_view_angle\n",
    "print decay1.degree_eff_area()\n"
   ]
  },
  {
   "cell_type": "code",
   "execution_count": null,
   "metadata": {},
   "outputs": [],
   "source": []
  },
  {
   "cell_type": "code",
   "execution_count": null,
   "metadata": {},
   "outputs": [],
   "source": []
  }
 ],
 "metadata": {
  "kernelspec": {
   "display_name": "Python 2",
   "language": "python",
   "name": "python2"
  },
  "language_info": {
   "codemirror_mode": {
    "name": "ipython",
    "version": 2
   },
   "file_extension": ".py",
   "mimetype": "text/x-python",
   "name": "python",
   "nbconvert_exporter": "python",
   "pygments_lexer": "ipython2",
   "version": "2.7.16"
  }
 },
 "nbformat": 4,
 "nbformat_minor": 2
}
