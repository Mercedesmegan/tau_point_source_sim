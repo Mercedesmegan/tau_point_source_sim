{
 "cells": [
  {
   "cell_type": "markdown",
   "metadata": {},
   "source": [
    "# Setup"
   ]
  },
  {
   "cell_type": "code",
   "execution_count": 1,
   "metadata": {},
   "outputs": [
    {
     "data": {
      "text/plain": [
       "<module 'decay_properties' from 'decay_properties.pyc'>"
      ]
     },
     "execution_count": 1,
     "metadata": {},
     "output_type": "execute_result"
    }
   ],
   "source": [
    "%matplotlib inline\n",
    "from pylab import *\n",
    "import math\n",
    "\n",
    "import detectorgeometry_trap as geom_trap\n",
    "reload(geom_trap)\n",
    "\n",
    "import decay_properties as decay\n",
    "reload(decay)"
   ]
  },
  {
   "cell_type": "code",
   "execution_count": null,
   "metadata": {
    "scrolled": true
   },
   "outputs": [],
   "source": [
    "# example data input to class to determine effective area\n",
    "theta_src = radians(83) #radians\n",
    "phi_src = radians(180)\n",
    "h = 35.5 #km\n",
    "R = 6356. # km\n",
    "ice =4\n",
    "theta_view = radians(1) #degrees\n",
    "N = 2000000 # number of samples\n",
    "E_nu = 18 #log energy in eV of incident neutrino \n",
    "E_cut = 14\n",
    "\n",
    "geom_area = geom_trap.Area(theta_src,phi_src, h,R,theta_view, N)\n",
    "A_deg, phi_e, theta_e, view_angle, exit_angle, norm, e_dot = geom_area.event_retention()\n",
    "print A_deg"
   ]
  },
  {
   "cell_type": "code",
   "execution_count": null,
   "metadata": {},
   "outputs": [],
   "source": [
    "# Assign to each event a tau energy, tau decay point, a decay probability, calculated view angle\n",
    "# inputs : theta_src, ice, E_cut, e_dot, phi_e, t_e, rho, E_nu,h,R,view_cut, exit_angles\n",
    "decay1 = decay.tau_event(theta_src, ice, E_cut, e_dot, phi_e, theta_e, norm,E_nu, h, R, theta_view, exit_angle, view_angle, A_deg)\n",
    "                        "
   ]
  },
  {
   "cell_type": "code",
   "execution_count": null,
   "metadata": {
    "scrolled": false
   },
   "outputs": [],
   "source": [
    "# ret_e_dot, ret_phi_e, ret_t_e, ret_tau_energy, ret_exit_obs,ret_exit_decay, ret_decay_obs, ret_exit,\\\n",
    "# ret_view, ret_decay_angle, ret_fractions,ret_types, ret_p_exit = decay1.event_retention()\n",
    "\n",
    "A_ret,ret_e_dot, ret_phi_e, ret_t_e, ret_tau_energy, ret_exit_obs, ret_exit_decay, ret_decay_obs, \\\n",
    "ret_exit, ret_view, ret_decay_alt, ret_decay_angle, ret_fractions,ret_types, ret_p_exit = decay1.degree_eff_area()\n",
    "\n",
    "# print A_ret, len(ret_e_dot)\n",
    "# print ret_exit_obs,ret_exit_decay, ret_decay_obs"
   ]
  },
  {
   "cell_type": "markdown",
   "metadata": {},
   "source": [
    "## Adding RF cuts"
   ]
  },
  {
   "cell_type": "code",
   "execution_count": null,
   "metadata": {},
   "outputs": [],
   "source": [
    "f_lo = 180\n",
    "f_high = 1200\n",
    "Gain_dB = 10\n",
    "Nphased = 1"
   ]
  },
  {
   "cell_type": "code",
   "execution_count": 2,
   "metadata": {},
   "outputs": [
    {
     "data": {
      "text/plain": [
       "<module 'trigger_properties' from 'trigger_properties.pyc'>"
      ]
     },
     "execution_count": 2,
     "metadata": {},
     "output_type": "execute_result"
    }
   ],
   "source": [
    "import trigger_properties as RF\n",
    "reload(RF)"
   ]
  },
  {
   "cell_type": "code",
   "execution_count": null,
   "metadata": {
    "scrolled": true
   },
   "outputs": [],
   "source": [
    "trigger_result = RF.event_detection(A_ret, f_lo, f_high, Gain_dB, Nphased, \n",
    "                                    ret_exit,ret_view, ret_decay_angle, ret_decay_alt,\n",
    "                                    theta_view, ret_exit_obs,ret_exit_decay, ret_decay_obs,\n",
    "                                    ret_tau_energy, R, ice, h, ret_t_e, ret_phi_e,theta_src,phi_src)"
   ]
  },
  {
   "cell_type": "code",
   "execution_count": null,
   "metadata": {},
   "outputs": [],
   "source": [
    "trigger_result.RF_eff_area()"
   ]
  },
  {
   "cell_type": "markdown",
   "metadata": {},
   "source": [
    "## Creation of Graphs with Successive Effective Area Refinement"
   ]
  },
  {
   "cell_type": "code",
   "execution_count": 8,
   "metadata": {},
   "outputs": [],
   "source": [
    "phi_src = radians(180)\n",
    "h = 35.5 #km\n",
    "R = 6356. # km\n",
    "ice =4\n",
    "theta_view = radians(1) #degrees\n",
    "N = 2000000 # number of samples\n",
    "E_nu = 18 #log energy in eV of incident neutrino \n",
    "E_cut = 14\n",
    "f_lo = 180\n",
    "f_high = 1200\n",
    "Gain_dB = 10\n",
    "Nphased = 1"
   ]
  },
  {
   "cell_type": "code",
   "execution_count": 10,
   "metadata": {},
   "outputs": [
    {
     "name": "stdout",
     "output_type": "stream",
     "text": [
      "0\n",
      "1.205493135894495\n"
     ]
    },
    {
     "ename": "KeyboardInterrupt",
     "evalue": "",
     "output_type": "error",
     "traceback": [
      "\u001b[0;31m---------------------------------------------------------------------------\u001b[0m",
      "\u001b[0;31mKeyboardInterrupt\u001b[0m                         Traceback (most recent call last)",
      "\u001b[0;32m<ipython-input-10-98fe37d68e37>\u001b[0m in \u001b[0;36m<module>\u001b[0;34m()\u001b[0m\n\u001b[1;32m     22\u001b[0m     \u001b[0;31m# DECAY\u001b[0m\u001b[0;34m\u001b[0m\u001b[0;34m\u001b[0m\u001b[0m\n\u001b[1;32m     23\u001b[0m     \u001b[0mdecay1\u001b[0m \u001b[0;34m=\u001b[0m \u001b[0mdecay\u001b[0m\u001b[0;34m.\u001b[0m\u001b[0mtau_event\u001b[0m\u001b[0;34m(\u001b[0m\u001b[0mtheta_src\u001b[0m\u001b[0;34m,\u001b[0m \u001b[0mice\u001b[0m\u001b[0;34m,\u001b[0m \u001b[0mE_cut\u001b[0m\u001b[0;34m,\u001b[0m \u001b[0me_dot\u001b[0m\u001b[0;34m,\u001b[0m \u001b[0mphi_e\u001b[0m\u001b[0;34m,\u001b[0m \u001b[0mtheta_e\u001b[0m\u001b[0;34m,\u001b[0m \u001b[0mnorm\u001b[0m\u001b[0;34m,\u001b[0m\u001b[0mE_nu\u001b[0m\u001b[0;34m,\u001b[0m \u001b[0mh\u001b[0m\u001b[0;34m,\u001b[0m \u001b[0mR\u001b[0m\u001b[0;34m,\u001b[0m \u001b[0mtheta_view\u001b[0m\u001b[0;34m,\u001b[0m \u001b[0mexit_angle\u001b[0m\u001b[0;34m,\u001b[0m \u001b[0mview_angle\u001b[0m\u001b[0;34m,\u001b[0m \u001b[0mA_deg\u001b[0m\u001b[0;34m)\u001b[0m\u001b[0;34m\u001b[0m\u001b[0m\n\u001b[0;32m---> 24\u001b[0;31m     \u001b[0mA_ret\u001b[0m\u001b[0;34m,\u001b[0m\u001b[0mret_e_dot\u001b[0m\u001b[0;34m,\u001b[0m \u001b[0mret_phi_e\u001b[0m\u001b[0;34m,\u001b[0m \u001b[0mret_t_e\u001b[0m\u001b[0;34m,\u001b[0m \u001b[0mret_tau_energy\u001b[0m\u001b[0;34m,\u001b[0m \u001b[0mret_exit_obs\u001b[0m\u001b[0;34m,\u001b[0m \u001b[0mret_exit_decay\u001b[0m\u001b[0;34m,\u001b[0m \u001b[0mret_decay_obs\u001b[0m\u001b[0;34m,\u001b[0m     \u001b[0mret_exit\u001b[0m\u001b[0;34m,\u001b[0m \u001b[0mret_view\u001b[0m\u001b[0;34m,\u001b[0m \u001b[0mret_decay_alt\u001b[0m\u001b[0;34m,\u001b[0m \u001b[0mret_decay_angle\u001b[0m\u001b[0;34m,\u001b[0m \u001b[0mret_fractions\u001b[0m\u001b[0;34m,\u001b[0m\u001b[0mret_types\u001b[0m\u001b[0;34m,\u001b[0m \u001b[0mret_p_exit\u001b[0m \u001b[0;34m=\u001b[0m \u001b[0mdecay1\u001b[0m\u001b[0;34m.\u001b[0m\u001b[0mdegree_eff_area\u001b[0m\u001b[0;34m(\u001b[0m\u001b[0;34m)\u001b[0m\u001b[0;34m\u001b[0m\u001b[0m\n\u001b[0m\u001b[1;32m     25\u001b[0m     \u001b[0;32mprint\u001b[0m \u001b[0mA_ret\u001b[0m\u001b[0;34m\u001b[0m\u001b[0m\n\u001b[1;32m     26\u001b[0m     \u001b[0;31m# TRIGGER\u001b[0m\u001b[0;34m\u001b[0m\u001b[0;34m\u001b[0m\u001b[0m\n",
      "\u001b[0;32m/Users/cburch/tau_point_source_sim/decay_properties.pyc\u001b[0m in \u001b[0;36mdegree_eff_area\u001b[0;34m(self)\u001b[0m\n\u001b[1;32m    161\u001b[0m \u001b[0;31m##########\u001b[0m\u001b[0;34m\u001b[0m\u001b[0;34m\u001b[0m\u001b[0m\n\u001b[1;32m    162\u001b[0m     \u001b[0;32mdef\u001b[0m \u001b[0mdegree_eff_area\u001b[0m\u001b[0;34m(\u001b[0m\u001b[0mself\u001b[0m\u001b[0;34m)\u001b[0m\u001b[0;34m:\u001b[0m\u001b[0;34m\u001b[0m\u001b[0m\n\u001b[0;32m--> 163\u001b[0;31m         \u001b[0mret_e_dot\u001b[0m\u001b[0;34m,\u001b[0m \u001b[0mret_phi_e\u001b[0m\u001b[0;34m,\u001b[0m \u001b[0mret_t_e\u001b[0m\u001b[0;34m,\u001b[0m \u001b[0mret_tau_energy\u001b[0m\u001b[0;34m,\u001b[0m \u001b[0mret_exit_obs\u001b[0m\u001b[0;34m,\u001b[0m \u001b[0mret_exit_decay\u001b[0m\u001b[0;34m,\u001b[0m \u001b[0mret_decay_obs\u001b[0m\u001b[0;34m,\u001b[0m \u001b[0mret_exit\u001b[0m\u001b[0;34m,\u001b[0m \u001b[0mret_view\u001b[0m\u001b[0;34m,\u001b[0m \u001b[0mret_decay_alt\u001b[0m\u001b[0;34m,\u001b[0m \u001b[0mret_decay_angle\u001b[0m\u001b[0;34m,\u001b[0m \u001b[0mret_fractions\u001b[0m\u001b[0;34m,\u001b[0m\u001b[0mret_types\u001b[0m\u001b[0;34m,\u001b[0m \u001b[0mret_p_exit\u001b[0m \u001b[0;34m=\u001b[0m \u001b[0mself\u001b[0m\u001b[0;34m.\u001b[0m\u001b[0mevent_retention\u001b[0m\u001b[0;34m(\u001b[0m\u001b[0;34m)\u001b[0m\u001b[0;34m\u001b[0m\u001b[0m\n\u001b[0m\u001b[1;32m    164\u001b[0m \u001b[0;34m\u001b[0m\u001b[0m\n\u001b[1;32m    165\u001b[0m         \u001b[0;32mtry\u001b[0m\u001b[0;34m:\u001b[0m\u001b[0;34m\u001b[0m\u001b[0m\n",
      "\u001b[0;32m/Users/cburch/tau_point_source_sim/decay_properties.pyc\u001b[0m in \u001b[0;36mevent_retention\u001b[0;34m(self)\u001b[0m\n\u001b[1;32m    152\u001b[0m \u001b[0;34m\u001b[0m\u001b[0m\n\u001b[1;32m    153\u001b[0m     \u001b[0;32mdef\u001b[0m \u001b[0mevent_retention\u001b[0m\u001b[0;34m(\u001b[0m\u001b[0mself\u001b[0m\u001b[0;34m)\u001b[0m\u001b[0;34m:\u001b[0m\u001b[0;34m\u001b[0m\u001b[0m\n\u001b[0;32m--> 154\u001b[0;31m         \u001b[0mret_e_dot\u001b[0m\u001b[0;34m,\u001b[0m \u001b[0mret_phi_e\u001b[0m\u001b[0;34m,\u001b[0m \u001b[0mret_t_e\u001b[0m\u001b[0;34m,\u001b[0m \u001b[0mret_tau_energy\u001b[0m\u001b[0;34m,\u001b[0m \u001b[0mret_exit_obs\u001b[0m\u001b[0;34m,\u001b[0m \u001b[0mret_exit_decay\u001b[0m\u001b[0;34m,\u001b[0m \u001b[0mret_exit\u001b[0m\u001b[0;34m,\u001b[0m \u001b[0mret_view\u001b[0m \u001b[0;34m=\u001b[0m \u001b[0mself\u001b[0m\u001b[0;34m.\u001b[0m\u001b[0mevent_energy_cut\u001b[0m\u001b[0;34m(\u001b[0m\u001b[0;34m)\u001b[0m\u001b[0;34m\u001b[0m\u001b[0m\n\u001b[0m\u001b[1;32m    155\u001b[0m         \u001b[0mret_fractions\u001b[0m\u001b[0;34m,\u001b[0m\u001b[0mret_types\u001b[0m \u001b[0;34m=\u001b[0m \u001b[0mself\u001b[0m\u001b[0;34m.\u001b[0m\u001b[0mE_shower\u001b[0m\u001b[0;34m(\u001b[0m\u001b[0mret_tau_energy\u001b[0m\u001b[0;34m)\u001b[0m\u001b[0;34m\u001b[0m\u001b[0m\n\u001b[1;32m    156\u001b[0m         \u001b[0mret_p_exit\u001b[0m \u001b[0;34m=\u001b[0m \u001b[0mself\u001b[0m\u001b[0;34m.\u001b[0m\u001b[0mP_exit\u001b[0m\u001b[0;34m(\u001b[0m\u001b[0mret_exit\u001b[0m\u001b[0;34m)\u001b[0m\u001b[0;34m\u001b[0m\u001b[0m\n",
      "\u001b[0;32m/Users/cburch/tau_point_source_sim/decay_properties.pyc\u001b[0m in \u001b[0;36mevent_energy_cut\u001b[0;34m(self)\u001b[0m\n\u001b[1;32m     53\u001b[0m \u001b[0;34m\u001b[0m\u001b[0m\n\u001b[1;32m     54\u001b[0m     \u001b[0;32mdef\u001b[0m \u001b[0mevent_energy_cut\u001b[0m\u001b[0;34m(\u001b[0m\u001b[0mself\u001b[0m\u001b[0;34m)\u001b[0m\u001b[0;34m:\u001b[0m\u001b[0;34m\u001b[0m\u001b[0m\n\u001b[0;32m---> 55\u001b[0;31m         \u001b[0mtau_energy\u001b[0m \u001b[0;34m=\u001b[0m \u001b[0mself\u001b[0m\u001b[0;34m.\u001b[0m\u001b[0mE_tau\u001b[0m\u001b[0;34m(\u001b[0m\u001b[0;34m)\u001b[0m\u001b[0;34m\u001b[0m\u001b[0m\n\u001b[0m\u001b[1;32m     56\u001b[0m         \u001b[0mdecay_dist\u001b[0m\u001b[0;34m=\u001b[0m \u001b[0mself\u001b[0m\u001b[0;34m.\u001b[0m\u001b[0mdecay_distance_det\u001b[0m\u001b[0;34m(\u001b[0m\u001b[0mtau_energy\u001b[0m\u001b[0;34m)\u001b[0m\u001b[0;34m\u001b[0m\u001b[0m\n\u001b[1;32m     57\u001b[0m \u001b[0;34m\u001b[0m\u001b[0m\n",
      "\u001b[0;32m/Users/cburch/tau_point_source_sim/decay_properties.pyc\u001b[0m in \u001b[0;36mE_tau\u001b[0;34m(self)\u001b[0m\n\u001b[1;32m     43\u001b[0m                 \u001b[0mvals\u001b[0m \u001b[0;34m=\u001b[0m \u001b[0mnp\u001b[0m\u001b[0;34m.\u001b[0m\u001b[0mappend\u001b[0m\u001b[0;34m(\u001b[0m\u001b[0mvals\u001b[0m\u001b[0;34m,\u001b[0m\u001b[0mself\u001b[0m\u001b[0;34m.\u001b[0m\u001b[0mTES\u001b[0m\u001b[0;34m.\u001b[0m\u001b[0msample_energies_th_exit\u001b[0m\u001b[0;34m(\u001b[0m\u001b[0mnp\u001b[0m\u001b[0;34m.\u001b[0m\u001b[0mdegrees\u001b[0m\u001b[0;34m(\u001b[0m\u001b[0mself\u001b[0m\u001b[0;34m.\u001b[0m\u001b[0mexit\u001b[0m\u001b[0;34m[\u001b[0m\u001b[0mi\u001b[0m\u001b[0;34m]\u001b[0m\u001b[0;34m)\u001b[0m\u001b[0;34m)\u001b[0m\u001b[0;34m)\u001b[0m\u001b[0;34m\u001b[0m\u001b[0m\n\u001b[1;32m     44\u001b[0m             \u001b[0;32mexcept\u001b[0m\u001b[0;34m:\u001b[0m\u001b[0;34m\u001b[0m\u001b[0m\n\u001b[0;32m---> 45\u001b[0;31m                 \u001b[0mvals\u001b[0m \u001b[0;34m=\u001b[0m\u001b[0mnp\u001b[0m\u001b[0;34m.\u001b[0m\u001b[0mappend\u001b[0m\u001b[0;34m(\u001b[0m\u001b[0mvals\u001b[0m\u001b[0;34m,\u001b[0m\u001b[0;36m0\u001b[0m\u001b[0;34m)\u001b[0m\u001b[0;34m\u001b[0m\u001b[0m\n\u001b[0m\u001b[1;32m     46\u001b[0m         \u001b[0;31m#print vals[:10]\u001b[0m\u001b[0;34m\u001b[0m\u001b[0;34m\u001b[0m\u001b[0m\n\u001b[1;32m     47\u001b[0m         \u001b[0;32mreturn\u001b[0m \u001b[0mvals\u001b[0m\u001b[0;34m\u001b[0m\u001b[0m\n",
      "\u001b[0;31mKeyboardInterrupt\u001b[0m: "
     ]
    }
   ],
   "source": [
    "\n",
    "\n",
    "# Creating a plot for the full range of possible source declinations \n",
    "start = 0 # minimum source declination in degrees\n",
    "end = 90 # maximum source declination in degrees\n",
    "steps=90 # divisions indeclination used to generate plot\n",
    "x1 = np.linspace(-end,-start,steps)\n",
    "\n",
    "A_g = []\n",
    "A_p=[]\n",
    "A_rf = []\n",
    "theta_view = radians(1)\n",
    "for j in range(0,steps):\n",
    "    print j\n",
    "    theta_src = radians(start+(end-start)*float(j)/steps)\n",
    "    \n",
    "    # GEOMETRIC\n",
    "    geom_area = geom_trap.Area(theta_src,phi_src, h,R,theta_view, N)\n",
    "    A_deg, phi_e, theta_e, view_angle, exit_angle, norm, e_dot = geom_area.event_retention()\n",
    "    print A_deg\n",
    "    \n",
    "    # DECAY\n",
    "    decay1 = decay.tau_event(theta_src, ice, E_cut, e_dot, phi_e, theta_e, norm,E_nu, h, R, theta_view, exit_angle, view_angle, A_deg)\n",
    "    A_ret,ret_e_dot, ret_phi_e, ret_t_e, ret_tau_energy, ret_exit_obs, ret_exit_decay, ret_decay_obs, \\\n",
    "    ret_exit, ret_view, ret_decay_alt, ret_decay_angle, ret_fractions,ret_types, ret_p_exit = decay1.degree_eff_area()\n",
    "    print A_ret\n",
    "    # TRIGGER\n",
    "    trigger_result = RF.event_detection(A_ret, f_lo, f_high, Gain_dB, Nphased, \\\n",
    "                                    ret_exit,ret_view, ret_decay_angle, ret_decay_alt, \\\n",
    "                                    theta_view, ret_exit_obs,ret_exit_decay, ret_decay_obs, \\\n",
    "                                    ret_tau_energy, R, ice, h, ret_t_e, ret_phi_e,theta_src,phi_src)\n",
    "    \n",
    "    A_trigger  = trigger_result.RF_eff_area()\n",
    "    print A_trigger\n",
    "    \n",
    "    A_g.append(A_deg)\n",
    "    A_p.append(A_ret)\n",
    "    A_rf.append(A_trigger)\n",
    "\n",
    "\n"
   ]
  },
  {
   "cell_type": "code",
   "execution_count": null,
   "metadata": {},
   "outputs": [],
   "source": [
    "# Creating a plot for the full range of possible source declinations \n",
    "start = 0 # minimum source declination in degrees\n",
    "end = 90 # maximum source declination in degrees\n",
    "steps=90 # divisions indeclination used to generate plot\n",
    "x1 = np.linspace(-end,-start,steps)\n",
    "\n",
    "A_P_exit_energy = []\n",
    "theta_view = radians(1)\n",
    "for j in range(0,steps):\n",
    "    print j\n",
    "    theta_src = radians(start+(end-start)*float(j)/steps)\n",
    "    # GEOMETRIC\n",
    "    geom_area = geom_trap.Area(theta_src,phi_src, h,R,theta_view, N)\n",
    "    A_deg, phi_e, theta_e, view_angle, exit_angle, norm, e_dot = geom_area.event_retention()\n",
    "    print A_deg\n",
    "    \n",
    "    # DECAY\n",
    "    decay1 = decay.tau_event(theta_src, ice, E_cut, e_dot, phi_e, theta_e, norm,E_nu, h, R, theta_view, exit_angle, view_angle, A_deg)\n",
    "    A_ret,ret_e_dot, ret_phi_e, ret_t_e, ret_tau_energy, ret_exit_obs, ret_exit_decay, ret_decay_obs, \\\n",
    "    ret_exit, ret_view, ret_decay_alt, ret_decay_angle, ret_fractions,ret_types, ret_p_exit = decay1.degree_eff_area()\n",
    "\n",
    "    A_P_exit_energy.append(A_ret)\n"
   ]
  },
  {
   "cell_type": "code",
   "execution_count": null,
   "metadata": {},
   "outputs": [],
   "source": [
    "fig = plt.figure(figsize=(7,7))\n",
    "ax = plt.axes(yscale='log')\n",
    "\n",
    "\n",
    "ax.plot(x1, A_g)\n",
    "ax.plot(x1, A_p)\n",
    "ax.plot(x1, A_rf)\n",
    "\n",
    "\n",
    "# ax.plot(x1, A_g)\n",
    "# ax.plot(x1, A_P_exit)\n",
    "# ax.plot(x1, A_P_exit_energy)\n",
    "# ax.plot(x1, A_P_exit_energy_decay)\n",
    "# ax.plot(x1, A_rf)\n",
    "    \n",
    "#plt.fill_between(x2, sky_maps[0],sky_maps[1],color='tab:gray')\n",
    "horizon = degrees(np.arcsin(R / (R+h)))-90\n",
    "plt.xlim(-90,0)  \n",
    "legend = ax.legend([r'$\\langle A \\rangle_g$', \n",
    "                    #r'$\\langle A \\rangle_g \\cdot P_{exit}$', \n",
    "                    #r'$\\langle A \\rangle_g \\cdot P_{exit} \\cdot P(E_\\tau > 10^{14})$', \n",
    "                    r'$\\langle A \\rangle_g \\cdot P_{exit} \\cdot P(E_\\tau > 10^{14}) \\cdot P_{decay}$',\n",
    "                   r'$\\langle A \\rangle_g \\cdot P_{exit} \\cdot P(E_\\tau > 10^{14}) \\cdot P_{decay} \\cdot P_{trigger} $'],\n",
    "                   fontsize=14, bbox_to_anchor=(1.1, 1))\n",
    "\n",
    "plt.xlabel(\"Payload Elevation Angle of Source \"+r'$\\theta_{ele}$'+\" (degrees)\", fontsize=18)\n",
    "plt.ylabel(r'$[km^2]$', fontsize=18)\n",
    "plt.title(\"ANITA Effective Area\", fontsize=20)\n",
    "plt.setp(legend.get_title(),fontsize='x-large')\n",
    "ax.tick_params(axis = 'both', which = 'major', labelsize = 16)\n",
    "\n",
    "y_min =min(A_g)\n",
    "y_max = max(A_g)\n",
    "print y_min, y_max\n",
    "y_ticks = [10**x for x in range(int(round(math.log10(10**-8))),int(round(math.log10(y_max))))]\n",
    "plt.yticks(y_ticks)\n",
    "ax.grid(True,which='both')\n",
    "#plt.semilogy()\n",
    "plt.show()"
   ]
  },
  {
   "cell_type": "code",
   "execution_count": null,
   "metadata": {},
   "outputs": [],
   "source": [
    "trigger_result.RF_eff_area()"
   ]
  },
  {
   "cell_type": "code",
   "execution_count": null,
   "metadata": {},
   "outputs": [],
   "source": [
    "print max(A_P_exit)"
   ]
  },
  {
   "cell_type": "code",
   "execution_count": null,
   "metadata": {},
   "outputs": [],
   "source": []
  }
 ],
 "metadata": {
  "kernelspec": {
   "display_name": "Python 2",
   "language": "python",
   "name": "python2"
  },
  "language_info": {
   "codemirror_mode": {
    "name": "ipython",
    "version": 2
   },
   "file_extension": ".py",
   "mimetype": "text/x-python",
   "name": "python",
   "nbconvert_exporter": "python",
   "pygments_lexer": "ipython2",
   "version": "2.7.16"
  }
 },
 "nbformat": 4,
 "nbformat_minor": 2
}
