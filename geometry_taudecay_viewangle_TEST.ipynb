{
 "cells": [
  {
   "cell_type": "markdown",
   "metadata": {},
   "source": [
    "# Setup"
   ]
  },
  {
   "cell_type": "code",
   "execution_count": null,
   "metadata": {},
   "outputs": [],
   "source": [
    "%matplotlib inline\n",
    "from pylab import *\n",
    "import math\n",
    "import numpy as np\n",
    "\n",
    "import detectorgeometry_trap as geom_trap\n",
    "reload(geom_trap)\n",
    "\n",
    "import decay_properties as decay\n",
    "reload(decay)\n",
    "\n",
    "import trigger_properties as RF\n",
    "reload(RF)"
   ]
  },
  {
   "cell_type": "markdown",
   "metadata": {},
   "source": [
    "## Creation of Graph with Successive Effective Area Refinement"
   ]
  },
  {
   "cell_type": "code",
   "execution_count": null,
   "metadata": {},
   "outputs": [],
   "source": [
    "phi_src = radians(180)\n",
    "h = 35.5 #km\n",
    "R = 6356. # km\n",
    "ice =4\n",
    "theta_view = radians(1) #degrees\n",
    "N = 200000 # number of samples\n",
    "E_nu = 19 #log energy in eV of incident neutrino \n",
    "E_cut = 14\n",
    "f_lo = 180\n",
    "f_high = 1200\n",
    "Gain_dB = 10\n",
    "Nphased = 1"
   ]
  },
  {
   "cell_type": "code",
   "execution_count": null,
   "metadata": {},
   "outputs": [],
   "source": [
    "# Creating a plot for the full range of possible source declinations \n",
    "start = 0 # minimum source declination in degrees\n",
    "end = 90 # maximum source declination in degrees\n",
    "steps=90 # divisions indeclination used to generate plot\n",
    "x = np.linspace(-end,-start,steps)\n",
    "\n",
    "A_g = []\n",
    "A_exit=[]\n",
    "A_exit_energy=[]\n",
    "A_exit_energy_decay=[]\n",
    "A_rf = []\n",
    "\n",
    "\n",
    "for j in range(0,steps):\n",
    "    \n",
    "    theta_src = radians(start+(end-start)*float(j)/steps)\n",
    "    #print np.degrees(theta_src), h,R,theta_view, N\n",
    "    \n",
    "    geom_area = geom_trap.Area(theta_src, h,R,theta_view, N)\n",
    "    A_deg, phi_e, theta_e, view_angle, exit_angle, emg_angle, norm, e_dot, A0, N0 = geom_area.event_retention()\n",
    "    \n",
    "    \n",
    "    decay1 = decay.tau_event(theta_src, ice, E_cut, e_dot, phi_e, theta_e, \\\n",
    "                             norm,E_nu, h, R, theta_view, exit_angle, emg_angle, view_angle, A_deg, A0, N0,0,0)\n",
    "\n",
    "    A_1,ret_e_dot, ret_phi_e, ret_t_e, ret_tau_energy, ret_exit_obs, ret_exit_decay, ret_decay_obs, \\\n",
    "    ret_exit, ret_emg, ret_view, ret_decay_alt, ret_decay_angle, ret_fractions,ret_types, ret_p_exit, A0, N0 = decay1.degree_eff_area()\n",
    "\n",
    "    decay2 = decay.tau_event(theta_src, ice, E_cut, e_dot, phi_e, theta_e, \\\n",
    "                             norm,E_nu, h, R, theta_view, exit_angle, emg_angle, view_angle, A_deg, A0, N0,1,0)\n",
    "\n",
    "    A_2,ret_e_dot, ret_phi_e, ret_t_e, ret_tau_energy, ret_exit_obs, ret_exit_decay, ret_decay_obs, \\\n",
    "    ret_exit, ret_emg, ret_view, ret_decay_alt, ret_decay_angle, ret_fractions,ret_types, ret_p_exit, A0, N0 = decay2.degree_eff_area()\n",
    "\n",
    "\n",
    "    decay3 = decay.tau_event(theta_src, ice, E_cut, e_dot, phi_e, theta_e, \\\n",
    "                             norm,E_nu, h, R, theta_view, exit_angle, emg_angle, view_angle, A_deg, A0, N0,1,1)\n",
    "\n",
    "    A_3,ret_e_dot, ret_phi_e, ret_t_e, ret_tau_energy, ret_exit_obs, ret_exit_decay, ret_decay_obs, \\\n",
    "    ret_exit, ret_emg, ret_view, ret_decay_alt, ret_decay_angle, ret_fractions,ret_types, ret_p_exit, A0, N0 = decay3.degree_eff_area()\n",
    "\n",
    "\n",
    "    A_trigger =0\n",
    "    if len(ret_e_dot) != 0:\n",
    "        trigger_result = RF.event_detection(A_3, f_lo, f_high, Gain_dB, Nphased, \\\n",
    "                                        ret_exit,ret_emg,ret_view, ret_decay_angle, ret_decay_alt, \\\n",
    "                                        theta_view, ret_exit_obs,ret_exit_decay, ret_decay_obs, ret_p_exit, ret_e_dot,\\\n",
    "                                        ret_tau_energy, R, ice, h, ret_t_e, ret_phi_e,theta_src, A0,N0)\n",
    "        A_trigger = trigger_result.RF_eff_area()\n",
    "\n",
    "    print round(degrees(theta_src)),A_deg, A_3,A_trigger\n",
    "    A_g.append(A_deg)\n",
    "    A_exit.append(A_1)\n",
    "    A_exit_energy.append(A_2)\n",
    "    A_exit_energy_decay.append(A_3)\n",
    "    A_rf.append(A_trigger)\n",
    "    print \"   \"\n"
   ]
  },
  {
   "cell_type": "code",
   "execution_count": null,
   "metadata": {},
   "outputs": [],
   "source": [
    "fig = plt.figure(figsize=(7,7))\n",
    "ax = plt.axes(yscale='log')\n",
    "\n",
    "\n",
    "ax.plot(x, A_g)\n",
    "ax.plot(x, A_exit)\n",
    "ax.plot(x, A_exit_energy)\n",
    "ax.plot(x, A_exit_energy_decay)\n",
    "ax.plot(x, A_rf)\n",
    "\n",
    "#plt.fill_between(x2, sky_maps[0],sky_maps[1],color='tab:gray')\n",
    "horizon = degrees(np.arcsin(R / (R+h)))-90\n",
    "plt.xlim(-90,0)  \n",
    "legend = ax.legend([r'$\\langle A \\rangle_g$', \n",
    "                    r'$\\langle A \\rangle_g \\cdot P_{exit}$', \n",
    "                    r'$\\langle A \\rangle_g \\cdot P_{exit} \\cdot P(E_\\tau > 10^{14})$', \n",
    "                    r'$\\langle A \\rangle_g \\cdot P_{exit} \\cdot P(E_\\tau > 10^{14}) \\cdot P_{decay}$',\n",
    "                   r'$\\langle A \\rangle_g \\cdot P_{exit} \\cdot P(E_\\tau > 10^{14}) \\cdot P_{decay} \\cdot P_{trigger} $'],\n",
    "                   fontsize=14 ) #bbox_to_anchor=(1.1, 1)\n",
    "\n",
    "plt.xlabel(\"Payload Elevation Angle of Source \"+r'$\\theta_{ele}$'+\" (degrees)\", fontsize=18)\n",
    "plt.ylabel(r'$[km^2]$', fontsize=18)\n",
    "plt.title(\"ANITA Effective Area\", fontsize=20)\n",
    "plt.setp(legend.get_title(),fontsize='x-large')\n",
    "ax.tick_params(axis = 'both', which = 'major', labelsize = 16)\n",
    "\n",
    "y_min =min(A_g)\n",
    "y_max = max(A_g)\n",
    "print y_min, y_max\n",
    "y_ticks = [10**x for x in range(int(round(math.log10(10**-8))),int(round(math.log10(y_max))))]\n",
    "plt.yticks(y_ticks)\n",
    "ax.grid(True,which='both')\n",
    "#plt.semilogy()\n",
    "plt.show()"
   ]
  },
  {
   "cell_type": "markdown",
   "metadata": {},
   "source": [
    "## Investigating Anomalous events"
   ]
  },
  {
   "cell_type": "code",
   "execution_count": null,
   "metadata": {},
   "outputs": [],
   "source": [
    "theta_src = radians(83)\n",
    "E_nu = 18\n",
    "#print np.degrees(theta_src), h,R,theta_view, N\n",
    "\n",
    "geom_area = geom_trap.Area(theta_src, h,R,theta_view, N)\n",
    "A_deg, phi_e, theta_e, view_angle, exit_angle, emg_angle, norm, e_dot, A0, N0 = geom_area.event_retention()\n",
    "\n",
    "\n",
    "decay1 = decay.tau_event(theta_src, ice, E_cut, e_dot, phi_e, theta_e, \\\n",
    "                         norm,E_nu, h, R, theta_view, exit_angle, emg_angle, view_angle, 5.54, A0, N0,1,1)\n",
    "\n",
    "A_ret,ret_e_dot, ret_phi_e, ret_t_e, ret_tau_energy, ret_exit_obs, ret_exit_decay, ret_decay_obs, \\\n",
    "ret_exit, ret_emg, ret_view, ret_decay_alt, ret_decay_angle, ret_fractions,ret_types, ret_p_exit, A0, N0 = decay1.degree_eff_area()\n",
    "\n",
    "event_p_exit = np.asarray([1 for x in range(len(ret_p_exit))])\n",
    "event_energy = 18\n",
    "\n",
    "A_trigger =0\n",
    "if len(ret_e_dot) != 0:\n",
    "    trigger_result = RF.event_detection(A_ret, f_lo, f_high, Gain_dB, Nphased, \\\n",
    "                                    ret_exit,ret_emg,ret_view, ret_decay_angle, ret_decay_alt, \\\n",
    "                                    theta_view, ret_exit_obs,ret_exit_decay, ret_decay_obs, ret_p_exit, ret_e_dot,\\\n",
    "                                    ret_tau_energy, R, ice, h, ret_t_e, ret_phi_e,theta_src, A0,N0)\n",
    "    A_trigger = trigger_result.RF_eff_area()\n",
    "\n",
    "print A_deg, A_ret,A_trigger*(1000)**2"
   ]
  },
  {
   "cell_type": "code",
   "execution_count": null,
   "metadata": {},
   "outputs": [],
   "source": []
  }
 ],
 "metadata": {
  "kernelspec": {
   "display_name": "Python 2",
   "language": "python",
   "name": "python2"
  },
  "language_info": {
   "codemirror_mode": {
    "name": "ipython",
    "version": 2
   },
   "file_extension": ".py",
   "mimetype": "text/x-python",
   "name": "python",
   "nbconvert_exporter": "python",
   "pygments_lexer": "ipython2",
   "version": "2.7.16"
  }
 },
 "nbformat": 4,
 "nbformat_minor": 2
}
