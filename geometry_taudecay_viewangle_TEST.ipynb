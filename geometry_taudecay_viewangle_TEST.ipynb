{
 "cells": [
  {
   "cell_type": "markdown",
   "metadata": {},
   "source": [
    "# Setup"
   ]
  },
  {
   "cell_type": "code",
   "execution_count": 1,
   "metadata": {},
   "outputs": [
    {
     "data": {
      "text/plain": [
       "<module 'trigger_properties' from 'trigger_properties.pyc'>"
      ]
     },
     "execution_count": 1,
     "metadata": {},
     "output_type": "execute_result"
    }
   ],
   "source": [
    "%matplotlib inline\n",
    "from pylab import *\n",
    "import math\n",
    "import numpy as np\n",
    "\n",
    "import detectorgeometry_trap as geom_trap\n",
    "reload(geom_trap)\n",
    "\n",
    "import decay_properties as decay\n",
    "reload(decay)\n",
    "\n",
    "import trigger_properties as RF\n",
    "reload(RF)"
   ]
  },
  {
   "cell_type": "markdown",
   "metadata": {},
   "source": [
    "## Creation of Graph with Successive Effective Area Refinement"
   ]
  },
  {
   "cell_type": "code",
   "execution_count": 2,
   "metadata": {},
   "outputs": [],
   "source": [
    "phi_src = radians(180)\n",
    "h = 35.5 #km\n",
    "R = 6356. # km\n",
    "ice =4\n",
    "theta_view = radians(1) #degrees\n",
    "N=50000000 # number of samples 1000000\n",
    "E_nu = 19 #log energy in eV of incident neutrino \n",
    "E_cut = 14\n",
    "f_lo = 180\n",
    "f_high = 1200\n",
    "Gain_dB = 10\n",
    "Nphased = 1\n",
    "Epk_to_pk_threshold = 284e-6"
   ]
  },
  {
   "cell_type": "code",
   "execution_count": 3,
   "metadata": {
    "scrolled": false
   },
   "outputs": [
    {
     "name": "stdout",
     "output_type": "stream",
     "text": [
      "50.0\n",
      "50.5\n",
      "51.0\n",
      "51.5\n",
      "52.0\n",
      "52.5\n",
      "53.0\n",
      "53.5\n",
      "54.0\n",
      "54.5\n",
      "55.0\n",
      "55.5\n",
      "56.0\n",
      "56.5\n",
      "57.0\n",
      "57.5\n",
      "58.0\n",
      "58.5\n",
      "59.0\n",
      "59.5\n",
      "60.0\n",
      "60.5\n",
      "61.0\n",
      "61.5\n",
      "62.0\n",
      "62.5\n",
      "63.0\n",
      "63.5\n",
      "64.0\n",
      "64.5\n",
      "65.0\n",
      "65.5\n",
      "66.0\n",
      "66.5\n",
      "67.0\n",
      "67.5\n",
      "68.0\n",
      "68.5\n",
      "69.0\n",
      "69.5\n",
      "70.0\n",
      "70.5\n",
      "71.0\n",
      "71.5\n",
      "72.0\n",
      "72.5\n",
      "73.0\n",
      "73.5\n",
      "74.0\n",
      "74.5\n",
      "75.0\n",
      "75.5\n",
      "76.0\n",
      "76.5\n",
      "77.0\n",
      "77.5\n",
      "78.0\n",
      "78.5\n",
      "79.0\n",
      "79.5\n",
      "80.0\n",
      "80.5\n",
      "81.0\n",
      "81.5\n",
      "82.0\n",
      "82.5\n"
     ]
    },
    {
     "name": "stderr",
     "output_type": "stream",
     "text": [
      "Tau_Exit_Simulator_2.py:35: RuntimeWarning: invalid value encountered in double_scalars\n",
      "  m = (y2-y1)/(x2-x1)\n"
     ]
    },
    {
     "name": "stdout",
     "output_type": "stream",
     "text": [
      "83.0\n",
      "83.5\n"
     ]
    },
    {
     "name": "stderr",
     "output_type": "stream",
     "text": [
      "detectorgeometry_trap.py:35: RuntimeWarning: invalid value encountered in arcsin\n",
      "  arg = np.arcsin((self.R+self.h) * np.sin(nadir) / self.R)\n"
     ]
    },
    {
     "name": "stdout",
     "output_type": "stream",
     "text": [
      "84.0\n",
      "84.5\n",
      "85.0\n",
      "85.5\n",
      "86.0\n",
      "86.5\n",
      "87.0\n",
      "87.5\n",
      "88.0\n",
      "88.5\n",
      "89.0\n",
      "89.5\n"
     ]
    }
   ],
   "source": [
    "A_g = []\n",
    "A_exit=[]\n",
    "A_exit_decay=[]\n",
    "#A_exit_energy_decay=[]\n",
    "A_rf = []\n",
    "\n",
    "dist_med=[]\n",
    "eng_med=[]\n",
    "\n",
    "    \n",
    "start = 50 # minimum source declination in degrees\n",
    "end = 90 # maximum source declination in degrees\n",
    "steps=80 # divisions indeclination used to generate plot\n",
    "#x2 = np.linspace(-(90-start),-(90-end),steps)\n",
    "\n",
    "for j in range(0,steps):\n",
    "    theta_src = radians(start+(end-start)*float(j)/steps)  \n",
    "    geom_area = geom_trap.Area(theta_src, h,R,theta_view, N)\n",
    "    A_deg, phi_e, theta_e, view_angle, exit_angle, emg_angle, norm, e_dot, A0, N0 = geom_area.event_retention()\n",
    "    \n",
    "    decay1 = decay.tau_event(theta_src, ice, E_cut, e_dot, phi_e, theta_e, \\\n",
    "                             norm,E_nu, h, R, theta_view, exit_angle, emg_angle, view_angle, A_deg, A0, N0,0)\n",
    "    \n",
    "    A_1,ret_e_dot, ret_phi_e, ret_t_e, ret_tau_energy, ret_exit_obs, ret_exit_decay, ret_decay_obs, \\\n",
    "    ret_exit, ret_emg, ret_view, ret_decay_alt, ret_decay_angle, ret_shower_eng,ret_types, ret_p_exit, A0, N0 = decay1.degree_eff_area()\n",
    "\n",
    "    \n",
    "    A_2 = A0 *1./float(N0) *  np.sum(ret_p_exit * ret_e_dot * (ret_exit_decay < ret_exit_obs) * (ret_tau_energy >0) * (ret_e_dot>0.) ) \n",
    "        \n",
    "    A_trigger =0\n",
    "    \n",
    "    if len(ret_e_dot) != 0:\n",
    "        trigger_result = RF.event_detection(A_2, f_lo, f_high, Gain_dB, Nphased, \\\n",
    "                                        ret_exit,ret_emg,ret_view, ret_decay_angle, ret_decay_alt, \\\n",
    "                                        theta_view, ret_exit_obs,ret_exit_decay, ret_decay_obs, ret_p_exit, ret_e_dot,\\\n",
    "                                        ret_shower_eng, R, ice, h, ret_t_e, ret_phi_e,theta_src, Epk_to_pk_threshold, A0,N0)\n",
    "        A_trigger = trigger_result.RF_eff_area()\n",
    "\n",
    "    \n",
    "    A_g.append(A_deg)\n",
    "    A_exit.append(A_1)\n",
    "    A_exit_decay.append(A_2)\n",
    "    A_rf.append(A_trigger)\n",
    "    print round(degrees(theta_src),4)\n"
   ]
  },
  {
   "cell_type": "code",
   "execution_count": 5,
   "metadata": {
    "scrolled": true
   },
   "outputs": [
    {
     "name": "stdout",
     "output_type": "stream",
     "text": [
      "0.0 193.7264960731789\n"
     ]
    },
    {
     "data": {
      "image/png": "[encoded data removed]",
      "text/plain": [
       "<Figure size 504x504 with 1 Axes>"
      ]
     },
     "metadata": {
      "needs_background": "light"
     },
     "output_type": "display_data"
    }
   ],
   "source": [
    "fig = plt.figure(figsize=(7,7))\n",
    "ax = plt.axes(yscale='log')\n",
    "x2 = np.linspace(-(90-start),-(90-end),steps)\n",
    "x_full = x2 #np.concatenate((x1,x2))\n",
    "\n",
    "ax.plot(x_full, A_g)\n",
    "ax.plot(x_full, A_exit)\n",
    "ax.plot(x_full, A_exit_decay)\n",
    "ax.plot(x_full, A_rf)\n",
    "\n",
    "#plt.fill_between(x2, sky_maps[0],sky_maps[1],color='tab:gray')\n",
    "horizon = degrees(np.arcsin(R / (R+h)))-90\n",
    "plt.xlim(-40,0)  \n",
    "plt.ylim(10**-11,3*10**2)  \n",
    "# legend = ax.legend([r'$\\langle A \\rangle_g$', \n",
    "#                     r'$\\langle A \\rangle_g \\cdot P_{exit}$', \n",
    "#                     r'$\\langle A \\rangle_g \\cdot P_{exit} \\cdot P_{decay}$',\n",
    "#                    r'$\\langle A \\rangle_g \\cdot P_{exit} \\cdot P_{decay} \\cdot P_{trigger} $'],\n",
    "#                    fontsize=14, bbox_to_anchor=(0.8, -0.15)) #\n",
    "# plt.setp(legend.get_title(),fontsize='x-large')\n",
    "\n",
    "plt.xlabel(\"Payload Elevation Angle of Source \"+r'$\\theta_{ele}$'+\" (degrees)\", fontsize=18)\n",
    "plt.ylabel(\"Effective Area \" +r'$[km^2]$', fontsize=18)\n",
    "plt.title(\"ANITA \"+r'$10^{19}$'+\" eV Effective Area\", fontsize=20)\n",
    "\n",
    "\n",
    "plt.text(-7.5,8*10**-4,'horizon',rotation=90,fontsize=12)\n",
    "plt.text(-29,3*10**-3,'A1',rotation=90,fontsize=12)\n",
    "plt.text(-36.5,3*10**-3,'A3',rotation=90,fontsize=12)\n",
    "horizon = degrees(np.arcsin(R / (R+h)))-90\n",
    "A1 = -27.4\n",
    "A3 = -35\n",
    "plt.axvline(x=horizon,color='r')\n",
    "plt.axvline(x=A1,color='k')\n",
    "plt.axvline(x=A3,color='k')\n",
    "\n",
    "ax.tick_params(axis = 'both', which = 'major', labelsize = 16)\n",
    "\n",
    "y_min =min(A_g)\n",
    "y_max = max(A_g)\n",
    "print y_min, y_max\n",
    "y_ticks = [10**x for x in range(int(round(math.log10(10**-11))),int(round(math.log10(y_max)))+1)]\n",
    "plt.yticks(y_ticks)\n",
    "ax.grid(True,which='both')\n",
    "#plt.semilogy()\n",
    "plt.show()"
   ]
  },
  {
   "cell_type": "markdown",
   "metadata": {},
   "source": [
    "## Plotting the difference in trigger probability for tau enery or shower energy"
   ]
  },
  {
   "cell_type": "code",
   "execution_count": null,
   "metadata": {},
   "outputs": [],
   "source": [
    "A_rf_t = []\n",
    "A_rf_s = []\n",
    "\n",
    "N=10000000\n",
    "\n",
    "start = 50 # minimum source declination in degrees\n",
    "end = 90 # maximum source declination in degrees\n",
    "steps=80 # divisions indeclination used to generate plot\n",
    "x2 = np.linspace(-(90-start),-(90-end),steps)\n",
    "\n",
    "for j in range(0,steps):\n",
    "    theta_src = radians(start+(end-start)*float(j)/steps)  \n",
    "    print theta_src\n",
    "    geom_area = geom_trap.Area(theta_src, h,R,theta_view, N)\n",
    "    A_deg, phi_e, theta_e, view_angle, exit_angle, emg_angle, norm, e_dot, A0, N0 = geom_area.event_retention()\n",
    " \n",
    "    decay_prop = decay.tau_event(theta_src, ice, E_cut, e_dot, phi_e, theta_e, \\\n",
    "                             norm,E_nu, h, R, theta_view, exit_angle, emg_angle, view_angle, A_deg, A0, N0,1)\n",
    "\n",
    "    A_decay,ret_e_dot, ret_phi_e, ret_t_e, ret_tau_energy, ret_exit_obs, ret_exit_decay, ret_decay_obs, \\\n",
    "    ret_exit, ret_emg, ret_view, ret_decay_alt, ret_decay_angle, ret_shower_eng,ret_types, ret_p_exit, A0, N0 = decay_prop.degree_eff_area()\n",
    "    \n",
    "    A_trigger_t =0\n",
    "    A_trigger_s =0\n",
    "    if len(ret_e_dot) != 0:\n",
    "        trigger_result_t = RF.event_detection(A_decay, f_lo, f_high, Gain_dB, Nphased, \\\n",
    "                                        ret_exit,ret_emg,ret_view, ret_decay_angle, ret_decay_alt, \\\n",
    "                                        theta_view, ret_exit_obs,ret_exit_decay, ret_decay_obs, ret_p_exit, ret_e_dot,\\\n",
    "                                        ret_tau_eng, R, ice, h, ret_t_e, ret_phi_e,theta_src, Epk_to_pk_threshold1, A0,N0)\n",
    "        A_trigger_t = trigger_result_t.RF_eff_area()\n",
    "        \n",
    "        trigger_result_s = RF.event_detection(A_decay, f_lo, f_high, Gain_dB, Nphased, \\\n",
    "                                        ret_exit,ret_emg,ret_view, ret_decay_angle, ret_decay_alt, \\\n",
    "                                        theta_view, ret_exit_obs,ret_exit_decay, ret_decay_obs, ret_p_exit, ret_e_dot,\\\n",
    "                                        ret_shower_eng, R, ice, h, ret_t_e, ret_phi_e,theta_src, Epk_to_pk_threshold1, A0,N0)\n",
    "        A_trigger_s = trigger_result_s.RF_eff_area()\n",
    "\n",
    "    A_rf_t.append(A_trigger_t)\n",
    "    A_rf_s.append(A_trigger_s)\n",
    "    print round(degrees(theta_src),4)"
   ]
  },
  {
   "cell_type": "markdown",
   "metadata": {},
   "source": [
    "## Plotting the two thresholds"
   ]
  },
  {
   "cell_type": "code",
   "execution_count": null,
   "metadata": {
    "scrolled": false
   },
   "outputs": [],
   "source": [
    "#Graph for different cutoffs\n",
    "Epk_to_pk_threshold3 = 248e-6\n",
    "Epk_to_pk_threshold1 = 446e-6\n",
    "\n",
    "A_rf_1 = []\n",
    "A_rf_3 = []\n",
    "\n",
    "N=10000000\n",
    "\n",
    "start = 50 # minimum source declination in degrees\n",
    "end = 90 # maximum source declination in degrees\n",
    "steps=160 # divisions indeclination used to generate plot\n",
    "x2 = np.linspace(-(90-start),-(90-end),steps)\n",
    "\n",
    "for j in range(0,steps):\n",
    "    theta_src = radians(start+(end-start)*float(j)/steps)  \n",
    "    geom_area = geom_trap.Area(theta_src, h,R,theta_view, N)\n",
    "    A_deg, phi_e, theta_e, view_angle, exit_angle, emg_angle, norm, e_dot, A0, N0 = geom_area.event_retention()\n",
    " \n",
    "    decay_prop = decay.tau_event(theta_src, ice, E_cut, e_dot, phi_e, theta_e, \\\n",
    "                             norm,E_nu, h, R, theta_view, exit_angle, emg_angle, view_angle, A_deg, A0, N0,1)\n",
    "\n",
    "    A_decay,ret_e_dot, ret_phi_e, ret_t_e, ret_tau_energy, ret_exit_obs, ret_exit_decay, ret_decay_obs, \\\n",
    "    ret_exit, ret_emg, ret_view, ret_decay_alt, ret_decay_angle, ret_shower_eng,ret_types, ret_p_exit, A0, N0 = decay_prop.degree_eff_area()\n",
    "    A_trigger1 =0\n",
    "    A_trigger3 =0\n",
    "    if len(ret_e_dot) != 0:\n",
    "        trigger_result1 = RF.event_detection(A_decay, f_lo, f_high, Gain_dB, Nphased, \\\n",
    "                                        ret_exit,ret_emg,ret_view, ret_decay_angle, ret_decay_alt, \\\n",
    "                                        theta_view, ret_exit_obs,ret_exit_decay, ret_decay_obs, ret_p_exit, ret_e_dot,\\\n",
    "                                        ret_shower_eng, R, ice, h, ret_t_e, ret_phi_e,theta_src, Epk_to_pk_threshold1, A0,N0)\n",
    "        A_trigger1 = trigger_result1.RF_eff_area()\n",
    "        \n",
    "        trigger_result3 = RF.event_detection(A_decay, f_lo, f_high, Gain_dB, Nphased, \\\n",
    "                                        ret_exit,ret_emg,ret_view, ret_decay_angle, ret_decay_alt, \\\n",
    "                                        theta_view, ret_exit_obs,ret_exit_decay, ret_decay_obs, ret_p_exit, ret_e_dot,\\\n",
    "                                        ret_shower_eng, R, ice, h, ret_t_e, ret_phi_e,theta_src, Epk_to_pk_threshold3, A0,N0)\n",
    "        A_trigger3 = trigger_result3.RF_eff_area()\n",
    "\n",
    "    A_rf_1.append(A_trigger1)\n",
    "    A_rf_3.append(A_trigger3)\n",
    "    print round(degrees(theta_src),4)"
   ]
  },
  {
   "cell_type": "code",
   "execution_count": null,
   "metadata": {},
   "outputs": [],
   "source": [
    "# Creating a plot for the full range of possible source declinations \n",
    "fig = plt.figure(figsize=(7,7))\n",
    "ax = plt.axes()\n",
    "x_full = x2 #np.concatenate((x1,x2))\n",
    "\n",
    "ax.plot(x_full, A_rf_1)\n",
    "ax.plot(x_full, A_rf_3)\n",
    "    \n",
    "horizon = degrees(np.arcsin(R / (R+h)))-90\n",
    "plt.text(-5.5,10**-4,'horizon',rotation=90,fontsize=12)\n",
    "plt.text(-29,10**-4,'A1',rotation=90,fontsize=12)\n",
    "plt.text(-36.5,10**-4,'A3',rotation=90,fontsize=12)\n",
    "horizon = degrees(np.arcsin(R / (R+h)))-90\n",
    "A1 = -27.4\n",
    "A3 = -35\n",
    "plt.axvline(x=horizon,color='r')\n",
    "plt.axvline(x=A1,color='k')\n",
    "plt.axvline(x=A3,color='k')\n",
    "legend = ax.legend([\"ANITA 1\",\"ANITA 3\"], fontsize=14,bbox_to_anchor=(0.8, -0.15))\n",
    "plt.xlabel(\"Payload Elevation Angle of Source \"+r'$\\theta_{ele}$'+\" (degrees)\", fontsize=18)\n",
    "plt.ylabel(r'$\\langle A \\rangle$'+\" \"+r'$[km^2]$', fontsize=18)\n",
    "plt.title(\"Geometric Effective Area\", fontsize=20)\n",
    "plt.setp(legend.get_title(),fontsize='x-large')\n",
    "ax.tick_params(axis = 'both', which = 'major', labelsize = 16)\n",
    "plt.grid(True,which='both')\n",
    "plt.semilogy()"
   ]
  },
  {
   "cell_type": "markdown",
   "metadata": {},
   "source": [
    "## Plotting the energy fraction"
   ]
  },
  {
   "cell_type": "code",
   "execution_count": null,
   "metadata": {
    "scrolled": true
   },
   "outputs": [],
   "source": [
    "N=5000000\n",
    "eng_frac=[]\n",
    "eng_frac_hi=[]\n",
    "eng_frac_low=[]\n",
    "\n",
    "start = 50 # minimum source declination in degrees\n",
    "end = 90 # maximum source declination in degrees\n",
    "steps=80 # divisions indeclination used to generate plot\n",
    "x2 = np.linspace(-(90-start),-(90-end),steps)\n",
    "\n",
    "for j in range(0,1):#steps\n",
    "    theta_src = radians(start+(end-start)*float(j)/steps)\n",
    "    geom_area = geom_trap.Area(theta_src, h,R,theta_view, N)\n",
    "    A_deg, phi_e, theta_e, view_angle, exit_angle, emg_angle, norm, e_dot, A0, N0 = geom_area.event_retention()\n",
    "    \n",
    "    decay_cuts = decay.tau_event(theta_src, ice, E_cut, e_dot, phi_e, theta_e, \\\n",
    "                             norm,E_nu, h, R, theta_view, exit_angle, emg_angle, view_angle, A_deg, A0, N0,1)\n",
    "    \n",
    "    A_decay,ret_e_dot, ret_phi_e, ret_t_e, ret_tau_energy, ret_exit_obs, ret_exit_decay, ret_decay_obs, \\\n",
    "ret_exit, ret_emg, ret_view, ret_decay_alt, ret_decay_angle, ret_eng_shower,ret_types, ret_p_exit, A0, N0 = decay_cuts.degree_eff_area()\n",
    "    \n",
    "    if len(ret_exit_decay)!=0:\n",
    "        energy_fractions = (10**ret_eng_shower)/(10**ret_tau_energy)\n",
    "        \n",
    "        eng_frac.append(median(energy_fractions))\n",
    "        eng_frac_hi.append(max(energy_fractions))\n",
    "        eng_frac_low.append(min(energy_fractions))\n",
    "    else:\n",
    "        eng_frac.append(0)\n",
    "        eng_frac_hi.append(0)\n",
    "        eng_frac_low.append(0)\n",
    "    print degrees(theta_src)\n",
    "\n"
   ]
  },
  {
   "cell_type": "code",
   "execution_count": null,
   "metadata": {},
   "outputs": [],
   "source": [
    "print median(energy_fractions)"
   ]
  },
  {
   "cell_type": "code",
   "execution_count": null,
   "metadata": {},
   "outputs": [],
   "source": [
    "fig, ax = plt.subplots(num=1,figsize=(5,5))\n",
    "        \n",
    "plt.xlabel('Energy Fraction', fontsize=14)\n",
    "plt.ylabel('Count', fontsize=14)\n",
    "#plt.xlim(0,17.5)\n",
    "#plt.ylim(0.5,10**5)\n",
    "min_bin = min(energy_fractions)\n",
    "max_bin = max(energy_fractions)\n",
    "n, bins, patches = plt.hist(x=energy_fractions, bins=arange(min_bin,max_bin,0.1), color='#0504aa',\n",
    "                   rwidth=0.85)\n",
    "\n",
    "plt.title(\"Tau Shower Energy Fraction\", fontsize=16)\n",
    "#ax.get_xaxis().set_major_formatter(mpl.ticker.StrMethodFormatter('{:.3g}'))\n",
    "#plt.figtext(.5,-0.1,\"Voltage Cutoff \"+'{:.3g}'.format(cutoff), fontsize=12, ha='center')\n",
    "#plt.figtext(.5,-0.1,\"Voltage Cutoff \"+str(round(cutoff,6)), fontsize=12, ha='center')\n",
    "#plt.text(0.02, 0.02, \"View Angle Cut: \"+str(threshhold), fontsize=14, transform=plt.gcf().transFigure)\n"
   ]
  },
  {
   "cell_type": "code",
   "execution_count": null,
   "metadata": {},
   "outputs": [],
   "source": [
    "fig = plt.figure(figsize=(7,7))\n",
    "ax = plt.axes()\n",
    "ax.plot(x2, eng_frac)\n",
    "\n",
    "\n",
    "#plt.fill_between(x2, eng_frac_low,eng_frac_hi,color='lightgray')\n",
    "horizon = degrees(np.arcsin(R / (R+h)))-90\n",
    "plt.xlim(-40,0)  \n",
    "#plt.ylim(10**14,10**18)\n",
    "plt.xlabel(\"Payload Elevation Angle of Source \"+r'$\\theta_{ele}$'+\" (degrees)\", fontsize=18)\n",
    "plt.ylabel(\"Median Air Shower Energy Fraction\", fontsize=18)\n",
    "plt.title(\"ANITA \"+r'$10^{18}$'+\" eV \"+\" Air Shower Energy\", fontsize=20)\n",
    "\n",
    "plt.text(-7.5,0.5,'horizon',rotation=90,fontsize=12)\n",
    "plt.text(-29,0.5,'A1',rotation=90,fontsize=12)\n",
    "plt.text(-36.5,0.5,'A3',rotation=90,fontsize=12)\n",
    "horizon = degrees(np.arcsin(R / (R+h)))-90\n",
    "A1 = -27.4\n",
    "A3 = -35\n",
    "plt.axvline(x=horizon,color='r')\n",
    "plt.axvline(x=A1,color='k')\n",
    "plt.axvline(x=A3,color='k')\n",
    "\n",
    "ax.tick_params(axis = 'both', which = 'major', labelsize = 16)\n",
    "\n",
    "# y_min =min(eng_med_log)\n",
    "# y_max = max(eng_med_log)\n",
    "# print y_min, y_max\n",
    "# y_ticks = [10**x for x in range(int(round(math.log10(10**0))),int(round(math.log10(y_max)))+1)]\n",
    "# plt.yticks(y_ticks)\n",
    "ax.grid(True,which='both')\n",
    "#plt.semilogy()\n",
    "plt.show()"
   ]
  },
  {
   "cell_type": "code",
   "execution_count": null,
   "metadata": {},
   "outputs": [],
   "source": [
    "4200* 100**2 * 20 * 24*3600"
   ]
  },
  {
   "cell_type": "code",
   "execution_count": null,
   "metadata": {},
   "outputs": [],
   "source": [
    "theta_src = np.radians(90-27.4)\n",
    "E_nu = 18\n",
    "N = 100000000\n",
    "Epk_to_pk_threshold3 = 248e-6\n",
    "Epk_to_pk_threshold1 = 446e-6\n",
    "view_angle = radians(1)\n",
    "\n",
    "geom_area = geom_trap.Area(theta_src, h,R,view_angle, N)\n",
    "A_deg, phi_e, theta_e, view_angle, exit_angle, emg_angle, norm, e_dot, A0, N0 = geom_area.event_retention()\n",
    "\n",
    "decay_cuts = decay.tau_event(theta_src, ice, E_cut, e_dot, phi_e, theta_e, \\\n",
    "                         norm,E_nu, h, R, theta_view, exit_angle, emg_angle, view_angle, A_deg, A0, N0,1)\n",
    "A_decay,ret_e_dot, ret_phi_e, ret_t_e, ret_tau_energy, ret_exit_obs, ret_exit_decay, ret_decay_obs, \\\n",
    "ret_exit, ret_emg, ret_view, ret_decay_alt, ret_decay_angle, ret_shower_eng,ret_types, ret_p_exit, A0, N0 = decay_cuts.degree_eff_area()\n",
    "\n",
    "trigger_result_t = RF.event_detection(A_decay, f_lo, f_high, Gain_dB, Nphased, \\\n",
    "                                    ret_exit,ret_emg,ret_view, ret_decay_angle, ret_decay_alt, \\\n",
    "                                    theta_view, ret_exit_obs,ret_exit_decay, ret_decay_obs, ret_p_exit, ret_e_dot,\\\n",
    "                                    ret_tau_energy, R, ice, h, ret_t_e, ret_phi_e,theta_src, Epk_to_pk_threshold1, A0,N0)\n",
    "\n",
    "A = trigger_result_t.RF_eff_area()\n",
    "\n",
    "print A"
   ]
  },
  {
   "cell_type": "code",
   "execution_count": null,
   "metadata": {},
   "outputs": [],
   "source": []
  },
  {
   "cell_type": "code",
   "execution_count": null,
   "metadata": {},
   "outputs": [],
   "source": []
  }
 ],
 "metadata": {
  "kernelspec": {
   "display_name": "Python 2",
   "language": "python",
   "name": "python2"
  },
  "language_info": {
   "codemirror_mode": {
    "name": "ipython",
    "version": 2
   },
   "file_extension": ".py",
   "mimetype": "text/x-python",
   "name": "python",
   "nbconvert_exporter": "python",
   "pygments_lexer": "ipython2",
   "version": "2.7.16"
  }
 },
 "nbformat": 4,
 "nbformat_minor": 2
}
