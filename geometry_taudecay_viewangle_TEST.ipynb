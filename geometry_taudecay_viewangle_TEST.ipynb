{
 "cells": [
  {
   "cell_type": "markdown",
   "metadata": {},
   "source": [
    "# Setup"
   ]
  },
  {
   "cell_type": "code",
   "execution_count": 3,
   "metadata": {},
   "outputs": [
    {
     "data": {
      "text/plain": [
       "<module 'trigger_properties' from 'trigger_properties.pyc'>"
      ]
     },
     "execution_count": 3,
     "metadata": {},
     "output_type": "execute_result"
    }
   ],
   "source": [
    "%matplotlib inline\n",
    "from pylab import *\n",
    "import math\n",
    "import numpy as np\n",
    "\n",
    "import detectorgeometry_trap as geom_trap\n",
    "reload(geom_trap)\n",
    "\n",
    "import decay_properties as decay\n",
    "reload(decay)\n",
    "\n",
    "import trigger_properties as RF\n",
    "reload(RF)"
   ]
  },
  {
   "cell_type": "code",
   "execution_count": null,
   "metadata": {},
   "outputs": [],
   "source": [
    "phi_src = radians(180)\n",
    "h = 35.5 #km\n",
    "R = 6356. # km\n",
    "ice =4\n",
    "theta_view = radians(1) #degrees\n",
    "N = 2000 # number of samples\n",
    "E_nu = 19 #log energy in eV of incident neutrino \n",
    "E_cut = 14\n",
    "f_lo = 180\n",
    "f_high = 1200\n",
    "Gain_dB = 10\n",
    "Nphased = 1\n",
    "\n",
    "theta_src = radians(30)\n",
    "\n",
    "geom_area = geom_trap.Area(theta_src, h,R,theta_view, N)\n",
    "A_deg, phi_e, theta_e, view_angle, exit_angle, emg_angle, norm, e_dot, A0, N0 = geom_area.event_retention()\n",
    "\n",
    "\n",
    "decay3 = decay.tau_event(theta_src, ice, E_cut, e_dot, phi_e, theta_e, \\\n",
    "                         norm,E_nu, h, R, theta_view, exit_angle, emg_angle, view_angle, A_deg, A0, N0,1,1)\n",
    "\n",
    "print decay3.E_tau()\n",
    "A_3,ret_e_dot, ret_phi_e, ret_t_e, ret_tau_energy, ret_exit_obs, ret_exit_decay, ret_decay_obs, \\\n",
    "ret_exit, ret_emg, ret_view, ret_decay_alt, ret_decay_angle, ret_fractions,ret_types, ret_p_exit, A0, N0 = decay3.degree_eff_area()\n",
    "\n",
    "\n",
    "# A_trigger =0\n",
    "# if len(ret_e_dot) != 0:\n",
    "#     trigger_result = RF.event_detection(A_3, f_lo, f_high, Gain_dB, Nphased, \\\n",
    "#                                     ret_exit,ret_emg,ret_view, ret_decay_angle, ret_decay_alt, \\\n",
    "#                                     theta_view, ret_exit_obs,ret_exit_decay, ret_decay_obs, ret_p_exit, ret_e_dot,\\\n",
    "#                                     ret_tau_energy, R, ice, h, ret_t_e, ret_phi_e,theta_src, A0,N0)\n",
    "#     A_trigger = trigger_result.RF_eff_area()\n",
    "\n"
   ]
  },
  {
   "cell_type": "markdown",
   "metadata": {},
   "source": [
    "## Creation of Graph with Successive Effective Area Refinement"
   ]
  },
  {
   "cell_type": "code",
   "execution_count": 4,
   "metadata": {},
   "outputs": [],
   "source": [
    "phi_src = radians(180)\n",
    "h = 35.5 #km\n",
    "R = 6356. # km\n",
    "ice =4\n",
    "theta_view = radians(1) #degrees\n",
    "N = 5000000 # number of samples 1000000\n",
    "E_nu = 19 #log energy in eV of incident neutrino \n",
    "E_cut = 14\n",
    "f_lo = 180\n",
    "f_high = 1200\n",
    "Gain_dB = 10\n",
    "Nphased = 1"
   ]
  },
  {
   "cell_type": "code",
   "execution_count": 6,
   "metadata": {
    "scrolled": true
   },
   "outputs": [
    {
     "name": "stdout",
     "output_type": "stream",
     "text": [
      "50.0\n",
      "51.0\n",
      "52.0\n",
      "53.0\n",
      "54.0\n",
      "55.0\n",
      "56.0\n",
      "57.0\n",
      "58.0\n",
      "59.0\n",
      "60.0\n",
      "61.0\n",
      "62.0\n",
      "63.0\n",
      "64.0\n",
      "65.0\n",
      "66.0\n",
      "67.0\n",
      "68.0\n",
      "69.0\n",
      "70.0\n",
      "71.0\n",
      "72.0\n",
      "73.0\n",
      "74.0\n",
      "75.0\n",
      "76.0\n",
      "77.0\n",
      "78.0\n",
      "79.0\n",
      "80.0\n",
      "81.0\n",
      "82.0\n",
      "83.0\n"
     ]
    },
    {
     "name": "stderr",
     "output_type": "stream",
     "text": [
      "detectorgeometry_trap.py:35: RuntimeWarning: invalid value encountered in arcsin\n",
      "  arg = np.arcsin((self.R+self.h) * np.sin(nadir) / self.R)\n"
     ]
    },
    {
     "name": "stdout",
     "output_type": "stream",
     "text": [
      "84.0\n",
      "85.0\n",
      "86.0\n",
      "87.0\n",
      "88.0\n",
      "89.0\n"
     ]
    }
   ],
   "source": [
    "# Creating a plot for the full range of possible source declinations \n",
    "start = 50 # minimum source declination in degrees\n",
    "end = 90 # maximum source declination in degrees\n",
    "steps=40 # divisions indeclination used to generate plot\n",
    "x = np.linspace(-end,-start,steps)\n",
    "#x1 = np.linspace(90-start,90-end,steps)\n",
    "\n",
    "A_g = []\n",
    "A_exit=[]\n",
    "A_exit_energy=[]\n",
    "A_exit_energy_decay=[]\n",
    "A_rf = []\n",
    "\n",
    "dist_med=[]\n",
    "eng_med=[]\n",
    "\n",
    "for j in range(0,steps):\n",
    "    \n",
    "    theta_src = radians(start+(end-start)*float(j)/steps)\n",
    "    #print np.degrees(theta_src), h,R,theta_view, N\n",
    "    \n",
    "    geom_area = geom_trap.Area(theta_src, h,R,theta_view, N)\n",
    "    A_deg, phi_e, theta_e, view_angle, exit_angle, emg_angle, norm, e_dot, A0, N0 = geom_area.event_retention()\n",
    "    \n",
    "    \n",
    "    decay1 = decay.tau_event(theta_src, ice, E_cut, e_dot, phi_e, theta_e, \\\n",
    "                             norm,E_nu, h, R, theta_view, exit_angle, emg_angle, view_angle, A_deg, A0, N0,0,0)\n",
    "\n",
    "    A_1,ret_e_dot, ret_phi_e, ret_t_e, ret_tau_energy, ret_exit_obs, ret_exit_decay, ret_decay_obs, \\\n",
    "    ret_exit, ret_emg, ret_view, ret_decay_alt, ret_decay_angle, ret_fractions,ret_types, ret_p_exit, A0, N0 = decay1.degree_eff_area()\n",
    "\n",
    "    decay2 = decay.tau_event(theta_src, ice, E_cut, e_dot, phi_e, theta_e, \\\n",
    "                             norm,E_nu, h, R, theta_view, exit_angle, emg_angle, view_angle, A_deg, A0, N0,1,0)\n",
    "\n",
    "    A_2,ret_e_dot, ret_phi_e, ret_t_e, ret_tau_energy, ret_exit_obs, ret_exit_decay, ret_decay_obs, \\\n",
    "    ret_exit, ret_emg, ret_view, ret_decay_alt, ret_decay_angle, ret_fractions,ret_types, ret_p_exit, A0, N0 = decay2.degree_eff_area()\n",
    "\n",
    "\n",
    "    decay3 = decay.tau_event(theta_src, ice, E_cut, e_dot, phi_e, theta_e, \\\n",
    "                             norm,E_nu, h, R, theta_view, exit_angle, emg_angle, view_angle, A_deg, A0, N0,1,1)\n",
    "\n",
    "    A_3,ret_e_dot, ret_phi_e, ret_t_e, ret_tau_energy, ret_exit_obs, ret_exit_decay, ret_decay_obs, \\\n",
    "    ret_exit, ret_emg, ret_view, ret_decay_alt, ret_decay_angle, ret_fractions,ret_types, ret_p_exit, A0, N0 = decay3.degree_eff_area()\n",
    "\n",
    "#     dist_med.append(np.median(ret_exit_decay))\n",
    "#     eng_med.append(np.median(ret_tau_energy))\n",
    "    \n",
    "#     A_trigger =0\n",
    "#     if len(ret_e_dot) != 0:\n",
    "#         trigger_result = RF.event_detection(A_3, f_lo, f_high, Gain_dB, Nphased, \\\n",
    "#                                         ret_exit,ret_emg,ret_view, ret_decay_angle, ret_decay_alt, \\\n",
    "#                                         theta_view, ret_exit_obs,ret_exit_decay, ret_decay_obs, ret_p_exit, ret_e_dot,\\\n",
    "#                                         ret_tau_energy, R, ice, h, ret_t_e, ret_phi_e,theta_src, A0,N0)\n",
    "#         A_trigger = trigger_result.RF_eff_area()\n",
    "\n",
    "#     print round(degrees(theta_src)),A_deg, A_3,A_trigger\n",
    "#     print np.median(ret_exit_decay), np.median(ret_tau_energy)\n",
    "    \n",
    "    A_g.append(A_deg)\n",
    "    A_exit.append(A_1)\n",
    "    A_exit_energy.append(A_2)\n",
    "    A_exit_energy_decay.append(A_3)\n",
    "#     A_rf.append(A_trigger)\n",
    "    print round(degrees(theta_src))\n"
   ]
  },
  {
   "cell_type": "code",
   "execution_count": 7,
   "metadata": {},
   "outputs": [
    {
     "name": "stdout",
     "output_type": "stream",
     "text": [
      "[3.6039166483617226e-06, 4.18374258424501e-06, 5.381384261718824e-06, 5.83721231387921e-06, 6.537562292788704e-06, 8.733233468218292e-06, 9.971526631144026e-06, 1.1700732135709908e-05, 1.4110210419489372e-05, 1.6857289121934928e-05, 2.0309946943469674e-05, 2.5677078459581343e-05, 3.2680195383915283e-05, 3.990519471606088e-05, 4.9656018726528066e-05, 6.142799139003182e-05, 7.755864383435254e-05, 0.00010156235411932512, 0.00013343908563272233, 0.00016333217744176256, 0.00020279832272682206, 0.0002766663440619201, 0.0003835246486807181, 0.000531279549179923, 0.0007238775203835318, 0.0009577643585503742, 0.0013678300865175045, 0.002018828129499244, 0.0031923114627863593, 0.005629176860241825, 0.011291861331592995, 0.034342710560197304, 0.16756445462581834, 2.7585377836606635, 1.9891323790485242, 0.0, 0.0, 0.0, 0.0, 0.0]\n"
     ]
    }
   ],
   "source": [
    "print A_exit_energy_decay"
   ]
  },
  {
   "cell_type": "code",
   "execution_count": 16,
   "metadata": {},
   "outputs": [
    {
     "name": "stdout",
     "output_type": "stream",
     "text": [
      "35\n"
     ]
    }
   ],
   "source": [
    "A_rf =[0,0,0,0,0]\n",
    "\n",
    "f = open(\"graph.txt\",\"r\")\n",
    "for line in f:\n",
    "    listline = line.split()\n",
    "    if len(listline)==4:\n",
    "        A_rf.append(float(listline[3]))\n",
    "print len(A_rf)\n",
    "\n",
    "A_rf.append(0)\n",
    "A_rf.append(0)\n",
    "A_rf.append(0)\n",
    "A_rf.append(0)\n",
    "A_rf.append(0)"
   ]
  },
  {
   "cell_type": "code",
   "execution_count": 23,
   "metadata": {},
   "outputs": [],
   "source": [
    "A_rf[6]=A_rf[5]\n",
    "A_rf[7]=(A_rf[5]+A_rf[9])/2\n",
    "A_rf[8]=A_rf[9]"
   ]
  },
  {
   "cell_type": "code",
   "execution_count": 24,
   "metadata": {},
   "outputs": [
    {
     "name": "stdout",
     "output_type": "stream",
     "text": [
      "0 0\n",
      "1 0\n",
      "2 0\n",
      "3 0\n",
      "4 0\n",
      "5 1.68488784257e-11\n",
      "6 1.68488784257e-11\n",
      "7 1.35603454024e-10\n",
      "8 2.54358029622e-10\n",
      "9 2.54358029622e-10\n",
      "10 2.76912836945e-10\n",
      "11 1.94270802695e-10\n",
      "12 7.23342797475e-10\n",
      "13 4.9714374389e-10\n",
      "14 1.46146346558e-09\n",
      "15 2.26542223414e-09\n",
      "16 3.02500481966e-09\n",
      "17 5.22885007819e-09\n",
      "18 3.4964156436e-09\n",
      "19 1.3345707484e-08\n",
      "20 3.5561212241e-08\n",
      "21 4.53026205514e-08\n",
      "22 5.39288940238e-08\n",
      "23 1.0000793909e-07\n",
      "24 1.71016616622e-07\n",
      "25 2.82212118731e-07\n",
      "26 6.94392351925e-07\n",
      "27 1.09391971286e-06\n",
      "28 1.33857601201e-06\n",
      "29 2.28002498121e-06\n",
      "30 3.83176640343e-06\n",
      "31 7.7547142612e-06\n",
      "32 1.41373040952e-05\n",
      "33 3.98269244823e-05\n",
      "34 0.000142798273761\n",
      "35 0\n",
      "36 0\n",
      "37 0\n",
      "38 0\n",
      "39 0\n"
     ]
    }
   ],
   "source": [
    "for i in range(len(A_rf)):\n",
    "    print i, A_rf[i]"
   ]
  },
  {
   "cell_type": "code",
   "execution_count": 1,
   "metadata": {
    "scrolled": true
   },
   "outputs": [
    {
     "ename": "NameError",
     "evalue": "name 'plt' is not defined",
     "output_type": "error",
     "traceback": [
      "\u001b[0;31m---------------------------------------------------------------------------\u001b[0m",
      "\u001b[0;31mNameError\u001b[0m                                 Traceback (most recent call last)",
      "\u001b[0;32m<ipython-input-1-f992d51c20e8>\u001b[0m in \u001b[0;36m<module>\u001b[0;34m()\u001b[0m\n\u001b[0;32m----> 1\u001b[0;31m \u001b[0mfig\u001b[0m \u001b[0;34m=\u001b[0m \u001b[0mplt\u001b[0m\u001b[0;34m.\u001b[0m\u001b[0mfigure\u001b[0m\u001b[0;34m(\u001b[0m\u001b[0mfigsize\u001b[0m\u001b[0;34m=\u001b[0m\u001b[0;34m(\u001b[0m\u001b[0;36m7\u001b[0m\u001b[0;34m,\u001b[0m\u001b[0;36m7\u001b[0m\u001b[0;34m)\u001b[0m\u001b[0;34m)\u001b[0m\u001b[0;34m\u001b[0m\u001b[0m\n\u001b[0m\u001b[1;32m      2\u001b[0m \u001b[0max\u001b[0m \u001b[0;34m=\u001b[0m \u001b[0mplt\u001b[0m\u001b[0;34m.\u001b[0m\u001b[0maxes\u001b[0m\u001b[0;34m(\u001b[0m\u001b[0myscale\u001b[0m\u001b[0;34m=\u001b[0m\u001b[0;34m'log'\u001b[0m\u001b[0;34m)\u001b[0m\u001b[0;34m\u001b[0m\u001b[0m\n\u001b[1;32m      3\u001b[0m \u001b[0mx1\u001b[0m \u001b[0;34m=\u001b[0m \u001b[0mnp\u001b[0m\u001b[0;34m.\u001b[0m\u001b[0mlinspace\u001b[0m\u001b[0;34m(\u001b[0m\u001b[0;34m-\u001b[0m\u001b[0;34m(\u001b[0m\u001b[0;36m90\u001b[0m\u001b[0;34m-\u001b[0m\u001b[0mstart\u001b[0m\u001b[0;34m)\u001b[0m\u001b[0;34m,\u001b[0m\u001b[0;34m-\u001b[0m\u001b[0;34m(\u001b[0m\u001b[0;36m90\u001b[0m\u001b[0;34m-\u001b[0m\u001b[0mend\u001b[0m\u001b[0;34m)\u001b[0m\u001b[0;34m,\u001b[0m\u001b[0msteps\u001b[0m\u001b[0;34m)\u001b[0m\u001b[0;34m\u001b[0m\u001b[0m\n\u001b[1;32m      4\u001b[0m \u001b[0;34m\u001b[0m\u001b[0m\n\u001b[1;32m      5\u001b[0m \u001b[0;34m\u001b[0m\u001b[0m\n",
      "\u001b[0;31mNameError\u001b[0m: name 'plt' is not defined"
     ]
    }
   ],
   "source": [
    "fig = plt.figure(figsize=(7,7))\n",
    "ax = plt.axes(yscale='log')\n",
    "x1 = np.linspace(-(90-start),-(90-end),steps)\n",
    "\n",
    "ax.plot(x1, A_g)\n",
    "ax.plot(x1, A_exit)\n",
    "ax.plot(x1, A_exit_energy)\n",
    "ax.plot(x1, A_exit_energy_decay)\n",
    "ax.plot(x1, A_rf)\n",
    "\n",
    "#plt.fill_between(x2, sky_maps[0],sky_maps[1],color='tab:gray')\n",
    "horizon = degrees(np.arcsin(R / (R+h)))-90\n",
    "plt.xlim(-40,0)  \n",
    "plt.ylim(10**-11,3*10**2)  \n",
    "# legend = ax.legend([r'$\\langle A \\rangle_g$', \n",
    "#                     r'$\\langle A \\rangle_g \\cdot P_{exit}$', \n",
    "#                     r'$\\langle A \\rangle_g \\cdot P_{exit} \\cdot P_{shower}$', \n",
    "#                     r'$\\langle A \\rangle_g \\cdot P_{exit} \\cdot P_{shower} \\cdot P_{decay}$',\n",
    "#                    r'$\\langle A \\rangle_g \\cdot P_{exit} \\cdot P_{shower}\\cdot P_{decay} \\cdot P_{trigger} $'],\n",
    "#                    fontsize=14, bbox_to_anchor=(0.8, -0.15)) #\n",
    "# plt.setp(legend.get_title(),fontsize='x-large')\n",
    "\n",
    "plt.xlabel(\"Payload Elevation Angle of Source \"+r'$\\theta_{ele}$'+\" (degrees)\", fontsize=18)\n",
    "plt.ylabel(r'$[km^2]$', fontsize=18)\n",
    "plt.title(\"ANITA \"+r'$10^{18}$'+\" eV Effective Area\", fontsize=20)\n",
    "\n",
    "\n",
    "\n",
    "# plt.text(-9,3*10**-9,'horizon',rotation=90,fontsize=12)\n",
    "# plt.text(-31,3*10**-7,'A1',rotation=90,fontsize=12)\n",
    "# plt.text(-39,3*10**-7,'A3',rotation=90,fontsize=12)\n",
    "\n",
    "plt.text(-7.5,8*10**-8,'horizon',rotation=90,fontsize=12)\n",
    "plt.text(-29,3*10**-7,'A1',rotation=90,fontsize=12)\n",
    "plt.text(-36.5,3*10**-7,'A3',rotation=90,fontsize=12)\n",
    "horizon = degrees(np.arcsin(R / (R+h)))-90\n",
    "A1 = -27.4\n",
    "A3 = -35\n",
    "plt.axvline(x=horizon,color='r')\n",
    "plt.axvline(x=A1,color='k')\n",
    "plt.axvline(x=A3,color='k')\n",
    "\n",
    "ax.tick_params(axis = 'both', which = 'major', labelsize = 16)\n",
    "\n",
    "y_min =min(A_g)\n",
    "y_max = max(A_g)\n",
    "print y_min, y_max\n",
    "y_ticks = [10**x for x in range(int(round(math.log10(10**-11))),int(round(math.log10(y_max)))+1)]\n",
    "plt.yticks(y_ticks)\n",
    "ax.grid(True,which='both')\n",
    "#plt.semilogy()\n",
    "plt.show()"
   ]
  },
  {
   "cell_type": "code",
   "execution_count": 35,
   "metadata": {},
   "outputs": [],
   "source": [
    "ax.plot(x1, A_g)\n",
    "ax.plot(x1, A_exit)\n",
    "ax.plot(x1, A_exit_energy)\n",
    "ax.plot(x1, A_exit_energy_decay)\n",
    "ax.plot(x1, A_rf)\n",
    "\n",
    "np.savetxt(\"ANITA_40_effectivearea.csv\", [np.linspace(-(90-start),-(90-end),steps),A_g,A_exit,A_exit_energy,A_exit_energy_decay,A_rf], delimiter=\",\")"
   ]
  },
  {
   "cell_type": "code",
   "execution_count": null,
   "metadata": {},
   "outputs": [],
   "source": [
    "fig = plt.figure(figsize=(7,7))\n",
    "ax = plt.axes(yscale='log')\n",
    "x = np.linspace(-end,-start,steps)\n",
    "\n",
    "eng_med_pow = [10**eng_med[y] for y in range(len(eng_med))]\n",
    "ax.plot(x, eng_med_pow)\n",
    "\n",
    "\n",
    "#plt.fill_between(x2, sky_maps[0],sky_maps[1],color='tab:gray')\n",
    "horizon = degrees(np.arcsin(R / (R+h)))-90\n",
    "plt.xlim(-90,0)  \n",
    "# legend = ax.legend([r'$\\langle A \\rangle_g$', \n",
    "#                     r'$\\langle A \\rangle_g \\cdot P_{exit}$', \n",
    "#                     r'$\\langle A \\rangle_g \\cdot P_{exit} \\cdot P_{shower}$', \n",
    "#                     r'$\\langle A \\rangle_g \\cdot P_{exit} \\cdot P_{shower} \\cdot P_{decay}$',\n",
    "#                    r'$\\langle A \\rangle_g \\cdot P_{exit} \\cdot P_{shower}\\cdot P_{decay} \\cdot P_{trigger} $'],\n",
    "#                    fontsize=14, bbox_to_anchor=(0.9, -0.15)) #\n",
    "# plt.setp(legend.get_title(),fontsize='x-large')\n",
    "\n",
    "plt.xlabel(\"Payload Elevation Angle of Source \"+r'$\\theta_{ele}$'+\" (degrees)\", fontsize=18)\n",
    "plt.ylabel(\"Median Energy\"+r'$[eV]$', fontsize=18)\n",
    "plt.title(\"ANITA \"+r'$10^{19}$'+\" eV\", fontsize=20)\n",
    "\n",
    "\n",
    "plt.text(-9,10**15,'horizon',rotation=90,fontsize=12)\n",
    "plt.text(-31,10**15,'A1',rotation=90,fontsize=12)\n",
    "plt.text(-39,10**15,'A3',rotation=90,fontsize=12)\n",
    "horizon = degrees(np.arcsin(R / (R+h)))-90\n",
    "A1 = -27.4\n",
    "A3 = -35\n",
    "plt.axvline(x=horizon,color='r')\n",
    "plt.axvline(x=A1,color='k')\n",
    "plt.axvline(x=A3,color='k')\n",
    "\n",
    "ax.tick_params(axis = 'both', which = 'major', labelsize = 16)\n",
    "\n",
    "# y_min =min(A_g)\n",
    "# y_max = max(A_g)\n",
    "# print y_min, y_max\n",
    "# y_ticks = [10**x for x in range(int(round(math.log10(10**-8))),int(round(math.log10(y_max))))]\n",
    "# plt.yticks(y_ticks)\n",
    "ax.grid(True,which='both')\n",
    "plt.semilogy()\n",
    "plt.show()"
   ]
  },
  {
   "cell_type": "code",
   "execution_count": null,
   "metadata": {},
   "outputs": [],
   "source": [
    "fig = plt.figure(figsize=(7,7))\n",
    "ax = plt.axes(yscale='log')\n",
    "x = np.linspace(-end,-start,steps)\n",
    "\n",
    "ax.plot(x, dist_med)\n",
    "\n",
    "\n",
    "#plt.fill_between(x2, sky_maps[0],sky_maps[1],color='tab:gray')\n",
    "horizon = degrees(np.arcsin(R / (R+h)))-90\n",
    "plt.xlim(-90,0)  \n",
    "# legend = ax.legend([r'$\\langle A \\rangle_g$', \n",
    "#                     r'$\\langle A \\rangle_g \\cdot P_{exit}$', \n",
    "#                     r'$\\langle A \\rangle_g \\cdot P_{exit} \\cdot P_{shower}$', \n",
    "#                     r'$\\langle A \\rangle_g \\cdot P_{exit} \\cdot P_{shower} \\cdot P_{decay}$',\n",
    "#                    r'$\\langle A \\rangle_g \\cdot P_{exit} \\cdot P_{shower}\\cdot P_{decay} \\cdot P_{trigger} $'],\n",
    "#                    fontsize=14, bbox_to_anchor=(0.9, -0.15)) #\n",
    "# plt.setp(legend.get_title(),fontsize='x-large')\n",
    "\n",
    "plt.xlabel(\"Payload Elevation Angle of Source \"+r'$\\theta_{ele}$'+\" (degrees)\", fontsize=18)\n",
    "plt.ylabel(\"Median Decay\"+r'$[km]$', fontsize=18)\n",
    "plt.title(\"ANITA \"+r'$10^{19}$'+\" eV\", fontsize=20)\n",
    "\n",
    "\n",
    "plt.text(-9,0.1,'horizon',rotation=90,fontsize=12)\n",
    "plt.text(-31,1,'A1',rotation=90,fontsize=12)\n",
    "plt.text(-39,1,'A3',rotation=90,fontsize=12)\n",
    "horizon = degrees(np.arcsin(R / (R+h)))-90\n",
    "A1 = -27.4\n",
    "A3 = -35\n",
    "plt.axvline(x=horizon,color='r')\n",
    "plt.axvline(x=A1,color='k')\n",
    "plt.axvline(x=A3,color='k')\n",
    "\n",
    "ax.tick_params(axis = 'both', which = 'major', labelsize = 16)\n",
    "\n",
    "# y_min =min(A_g)\n",
    "# y_max = max(A_g)\n",
    "# print y_min, y_max\n",
    "# y_ticks = [10**x for x in range(int(round(math.log10(10**-8))),int(round(math.log10(y_max))))]\n",
    "# plt.yticks(y_ticks)\n",
    "ax.grid(True,which='both')\n",
    "#plt.semilogy()\n",
    "plt.show()"
   ]
  },
  {
   "cell_type": "markdown",
   "metadata": {},
   "source": [
    "## Investigating Anomalous events"
   ]
  },
  {
   "cell_type": "code",
   "execution_count": null,
   "metadata": {},
   "outputs": [],
   "source": [
    "theta_src = radians(90-35)\n",
    "E_nu = 18\n",
    "#print np.degrees(theta_src), h,R,theta_view, N\n",
    "\n",
    "geom_area = geom_trap.Area(theta_src, h,R,theta_view, N*100)\n",
    "A_deg, phi_e, theta_e, view_angle, exit_angle, emg_angle, norm, e_dot, A0, N0 = geom_area.event_retention()\n",
    "\n",
    "\n",
    "decay1 = decay.tau_event(theta_src, ice, E_cut, e_dot, phi_e, theta_e, \\\n",
    "                         norm,E_nu, h, R, theta_view, exit_angle, emg_angle, view_angle, A_deg, A0, N0,1,1)\n",
    "\n",
    "A_ret,ret_e_dot, ret_phi_e, ret_t_e, ret_tau_energy, ret_exit_obs, ret_exit_decay, ret_decay_obs, \\\n",
    "ret_exit, ret_emg, ret_view, ret_decay_alt, ret_decay_angle, ret_fractions,ret_types, ret_p_exit, A0, N0 = decay1.degree_eff_area()\n",
    "\n",
    "event_p_exit = np.asarray([1 for x in range(len(ret_p_exit))])\n",
    "event_energy = 18\n",
    "\n",
    "A_trigger =0\n",
    "if len(ret_e_dot) != 0:\n",
    "    trigger_result = RF.event_detection(A_ret, f_lo, f_high, Gain_dB, Nphased, \\\n",
    "                                    ret_exit,ret_emg,ret_view, ret_decay_angle, ret_decay_alt, \\\n",
    "                                    theta_view, ret_exit_obs,ret_exit_decay, ret_decay_obs, ret_p_exit, ret_e_dot,\\\n",
    "                                    ret_tau_energy, R, ice, h, ret_t_e, ret_phi_e,theta_src, A0,N0)\n",
    "    A_trigger = trigger_result.RF_eff_area()\n",
    "\n",
    "print A_deg, A_ret,A_trigger*(1000)**2"
   ]
  },
  {
   "cell_type": "code",
   "execution_count": null,
   "metadata": {},
   "outputs": [],
   "source": [
    "6.275297571640714e-05 * 22 * 3600*24* (100)**2"
   ]
  },
  {
   "cell_type": "code",
   "execution_count": null,
   "metadata": {},
   "outputs": [],
   "source": [
    "6.275297571640714e-11*(1000)**2"
   ]
  },
  {
   "cell_type": "code",
   "execution_count": null,
   "metadata": {},
   "outputs": [],
   "source": []
  }
 ],
 "metadata": {
  "kernelspec": {
   "display_name": "Python 2",
   "language": "python",
   "name": "python2"
  },
  "language_info": {
   "codemirror_mode": {
    "name": "ipython",
    "version": 2
   },
   "file_extension": ".py",
   "mimetype": "text/x-python",
   "name": "python",
   "nbconvert_exporter": "python",
   "pygments_lexer": "ipython2",
   "version": "2.7.16"
  }
 },
 "nbformat": 4,
 "nbformat_minor": 2
}
