{
 "cells": [
  {
   "cell_type": "markdown",
   "metadata": {},
   "source": [
    "# Setup"
   ]
  },
  {
   "cell_type": "code",
   "execution_count": 181,
   "metadata": {},
   "outputs": [
    {
     "data": {
      "text/plain": [
       "<module 'detector_decay' from 'detector_decay.py'>"
      ]
     },
     "execution_count": 181,
     "metadata": {},
     "output_type": "execute_result"
    }
   ],
   "source": [
    "%matplotlib inline\n",
    "from pylab import *\n",
    "\n",
    "# importing the class stored in the same directory as this file\n",
    "import detectorgeometry as geom\n",
    "# including command to reload the class in case it is modified\n",
    "reload(geom)\n",
    "\n",
    "import detectorgeometry_trap as geom_trap\n",
    "reload(geom_trap)\n",
    "\n",
    "import detector_decay as decay\n",
    "reload(decay)"
   ]
  },
  {
   "cell_type": "code",
   "execution_count": 182,
   "metadata": {
    "scrolled": true
   },
   "outputs": [],
   "source": [
    "# example data input to class to determine effective area\n",
    "\n",
    "theta_src = radians(40) #radians\n",
    "h = 35.5 #km\n",
    "R = 6356. # km\n",
    "theta_view = radians(10) #degrees\n",
    "N = 1000 # number of samples\n",
    "E_nu = 19 #log energy in eV of incident neutrino \n",
    "\n",
    "# using the class\n",
    "area1 = geom.Area(theta_src,h,R,theta_view, N)\n",
    "area2 = geom_trap.Area(theta_src,h,R,theta_view, N)\n",
    "#print area2.earth_patch()\n",
    "#print area2.earth_locs()\n",
    "#print degrees(area2.view_angle_det())\n",
    "\n",
    "#print area1.degree_eff_area(), area2.degree_eff_area()"
   ]
  },
  {
   "cell_type": "code",
   "execution_count": 183,
   "metadata": {},
   "outputs": [],
   "source": [
    "ret_e_dot, ret_phi_e, ret_t_e, ret_rho  = area1.event_retention()"
   ]
  },
  {
   "cell_type": "code",
   "execution_count": 184,
   "metadata": {},
   "outputs": [
    {
     "name": "stdout",
     "output_type": "stream",
     "text": [
      "-50.0\n"
     ]
    },
    {
     "ename": "ValueError",
     "evalue": "need more than 2 values to unpack",
     "output_type": "error",
     "traceback": [
      "\u001b[0;31m---------------------------------------------------------------------------\u001b[0m",
      "\u001b[0;31mValueError\u001b[0m                                Traceback (most recent call last)",
      "\u001b[0;32m<ipython-input-184-dd90f5bb89d0>\u001b[0m in \u001b[0;36m<module>\u001b[0;34m()\u001b[0m\n\u001b[1;32m      2\u001b[0m \u001b[0mdecay1\u001b[0m \u001b[0;34m=\u001b[0m \u001b[0mdecay\u001b[0m\u001b[0;34m.\u001b[0m\u001b[0mtau_event\u001b[0m\u001b[0;34m(\u001b[0m\u001b[0mtheta_src\u001b[0m\u001b[0;34m,\u001b[0m \u001b[0mret_e_dot\u001b[0m\u001b[0;34m,\u001b[0m \u001b[0mret_phi_e\u001b[0m\u001b[0;34m,\u001b[0m \u001b[0mret_t_e\u001b[0m\u001b[0;34m,\u001b[0m \u001b[0mret_rho\u001b[0m\u001b[0;34m,\u001b[0m \u001b[0mE_nu\u001b[0m\u001b[0;34m)\u001b[0m\u001b[0;34m\u001b[0m\u001b[0m\n\u001b[1;32m      3\u001b[0m \u001b[0;32mprint\u001b[0m \u001b[0mdecay1\u001b[0m\u001b[0;34m.\u001b[0m\u001b[0melev\u001b[0m\u001b[0;34m\u001b[0m\u001b[0m\n\u001b[0;32m----> 4\u001b[0;31m \u001b[0mret_e_dot\u001b[0m\u001b[0;34m,\u001b[0m \u001b[0mret_phi_e\u001b[0m\u001b[0;34m,\u001b[0m \u001b[0mret_t_e\u001b[0m\u001b[0;34m,\u001b[0m \u001b[0mret_tau_energy\u001b[0m \u001b[0;34m=\u001b[0m \u001b[0mdecay1\u001b[0m\u001b[0;34m.\u001b[0m\u001b[0mevent_retention\u001b[0m\u001b[0;34m(\u001b[0m\u001b[0;34m)\u001b[0m\u001b[0;34m\u001b[0m\u001b[0m\n\u001b[0m\u001b[1;32m      5\u001b[0m \u001b[0;32mprint\u001b[0m \u001b[0mret_tau_energy\u001b[0m\u001b[0;34m\u001b[0m\u001b[0m\n",
      "\u001b[0;31mValueError\u001b[0m: need more than 2 values to unpack"
     ]
    }
   ],
   "source": [
    "# Assign to each event a tau energy and a tau decay point\n",
    "decay1 = decay.tau_event(theta_src, ret_e_dot, ret_phi_e, ret_t_e, ret_rho, E_nu)\n",
    "print decay1.elev\n",
    "#ret_e_dot, ret_phi_e, ret_t_e, ret_tau_energy = decay1.event_retention()\n",
    "print decay1.event_retention()"
   ]
  },
  {
   "cell_type": "code",
   "execution_count": null,
   "metadata": {},
   "outputs": [],
   "source": []
  },
  {
   "cell_type": "code",
   "execution_count": 21,
   "metadata": {},
   "outputs": [],
   "source": [
    "#np.savetxt(\"XXX.csv\", XXX, delimiter=\",\")"
   ]
  },
  {
   "cell_type": "code",
   "execution_count": 154,
   "metadata": {},
   "outputs": [
    {
     "name": "stdout",
     "output_type": "stream",
     "text": [
      "[  0.   -0.1  -0.2  -0.3  -0.4  -0.5  -0.6  -0.7  -0.8  -0.9  -1.   -1.1\n",
      "  -1.2  -1.3  -1.4  -1.5  -1.6  -1.7  -1.8  -1.9  -2.   -2.1  -2.2  -2.3\n",
      "  -2.4  -2.5  -2.6  -2.7  -2.8  -2.9  -3.   -3.1  -3.2  -3.3  -3.4  -3.5\n",
      "  -3.6  -3.7  -3.8  -3.9  -4.   -4.1  -4.2  -4.3  -4.4  -4.5  -4.6  -4.7\n",
      "  -4.8  -4.9  -5.   -6.   -7.   -8.   -9.  -10.  -11.  -12.  -13.  -14.\n",
      " -15.  -16.  -17.  -18.  -19.  -20.  -21.  -22.  -23.  -24.  -25.  -26.\n",
      " -27.  -28.  -29.  -30.  -31.  -32.  -33.  -34.  -35.  -36.  -37.  -38.\n",
      " -39.  -40.  -41.  -42.  -43.  -44.  -45.  -46.  -47.  -48.  -49.  -50.\n",
      " -51.  -52.  -53.  -54.  -55.  -56.  -57.  -58.  -59.  -60.  -61.  -62.\n",
      " -63.  -64.  -65.  -66.  -67.  -68.  -69.  -70.  -71.  -72.  -73.  -74.\n",
      " -75.  -76.  -77.  -78.  -79.  -80.  -81.  -82.  -83.  -84.  -85.  -86.\n",
      " -87.  -88.  -89. ]\n"
     ]
    }
   ],
   "source": [
    "TES1 = './high_statistics/4.0km_ice_midCS_stdEL/LUT_1e+15_eV.npz'\n",
    "TES2 = './high_statistics/4.0km_ice_midCS_stdEL/LUT_3e+15_eV.npz'\n",
    "TES3 = './high_statistics/4.0km_ice_midCS_stdEL/LUT_1e+16_eV.npz'\n",
    "TES4 = './high_statistics/4.0km_ice_midCS_stdEL/LUT_3e+16_eV.npz'\n",
    "TES5 = './high_statistics/4.0km_ice_midCS_stdEL/LUT_1e+17_eV.npz'\n",
    "TES6 = './high_statistics/4.0km_ice_midCS_stdEL/LUT_3e+17_eV.npz'\n",
    "TES7 = './high_statistics/4.0km_ice_midCS_stdEL/LUT_1e+18_eV.npz'\n",
    "TES8 = './high_statistics/4.0km_ice_midCS_stdEL/LUT_3e+18_eV.npz'\n",
    "TES9 = './high_statistics/4.0km_ice_midCS_stdEL/LUT_1e+19_eV.npz'\n",
    "TES10 = './high_statistics/4.0km_ice_midCS_stdEL/LUT_3e+19_eV.npz'\n",
    "TES11 = './high_statistics/4.0km_ice_midCS_stdEL/LUT_1e+20_eV.npz'\n",
    "TES12 = './high_statistics/4.0km_ice_midCS_stdEL/LUT_3e+20_eV.npz'\n",
    "TES13 = './high_statistics/4.0km_ice_midCS_stdEL/LUT_1e+21_eV.npz'\n",
    "\n",
    "TESchoices = [TES1,TES2,TES3,TES4,TES5,TES6,TES7,TES8,TES9,TES10,TES11,TES12,TES13]       \n",
    "energychoices = [15.0,15.5,16.0,16.5,17.0,17.5,18.0,18.5,19.0,19.5,20.0,20.5,21.0]\n",
    "\n",
    "# selecting the simulation with the appropriate incident tau neutrino energy\n",
    "k = energychoices.index(E_nu)\n",
    "data = load(TESchoices[k])\n",
    "exit_angles = data['th_exit_array']\n",
    "\n",
    "print exit_angles"
   ]
  },
  {
   "cell_type": "code",
   "execution_count": null,
   "metadata": {},
   "outputs": [],
   "source": []
  }
 ],
 "metadata": {
  "kernelspec": {
   "display_name": "Python 2",
   "language": "python",
   "name": "python2"
  },
  "language_info": {
   "codemirror_mode": {
    "name": "ipython",
    "version": 2
   },
   "file_extension": ".py",
   "mimetype": "text/x-python",
   "name": "python",
   "nbconvert_exporter": "python",
   "pygments_lexer": "ipython2",
   "version": "2.7.16"
  }
 },
 "nbformat": 4,
 "nbformat_minor": 2
}
