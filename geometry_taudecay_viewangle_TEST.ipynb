{
 "cells": [
  {
   "cell_type": "markdown",
   "metadata": {},
   "source": [
    "# Setup"
   ]
  },
  {
   "cell_type": "code",
   "execution_count": 1,
   "metadata": {},
   "outputs": [
    {
     "data": {
      "text/plain": [
       "<module 'decay_properties' from 'decay_properties.pyc'>"
      ]
     },
     "execution_count": 1,
     "metadata": {},
     "output_type": "execute_result"
    }
   ],
   "source": [
    "%matplotlib inline\n",
    "from pylab import *\n",
    "import math\n",
    "\n",
    "import detectorgeometry_trap as geom_trap\n",
    "reload(geom_trap)\n",
    "\n",
    "import decay_properties as decay\n",
    "reload(decay)"
   ]
  },
  {
   "cell_type": "code",
   "execution_count": 27,
   "metadata": {
    "scrolled": true
   },
   "outputs": [
    {
     "name": "stdout",
     "output_type": "stream",
     "text": [
      "1.6367564482567691 13958\n"
     ]
    }
   ],
   "source": [
    "# example data input to class to determine effective area\n",
    "theta_src = radians(30) #radians\n",
    "phi_src = radians(180)\n",
    "h = 35.5 #km\n",
    "R = 6356. # km\n",
    "ice =4\n",
    "theta_view = radians(1) #degrees\n",
    "N = 2000000 # number of samples\n",
    "E_nu = 19.5 #log energy in eV of incident neutrino \n",
    "E_cut = 17\n",
    "\n",
    "geom_area = geom_trap.Area(theta_src,h,R,theta_view, N)\n",
    "A_deg, phi_e, theta_e, view_angle, exit_angle, emg_angle, norm, e_dot,A0,N0 = geom_area.event_retention()\n",
    "print A_deg, len(phi_e)"
   ]
  },
  {
   "cell_type": "code",
   "execution_count": 28,
   "metadata": {},
   "outputs": [],
   "source": [
    "# Assign to each event a tau energy, tau decay point, a decay probability, calculated view angle\n",
    "# inputs : theta_src, ice, E_cut, e_dot, phi_e, t_e, rho, E_nu,h,R,view_cut, exit_angles\n",
    "decay1 = decay.tau_event(theta_src, ice, E_cut, e_dot, phi_e, theta_e, norm,E_nu, h, R, theta_view, exit_angle, emg_angle, view_angle, A_deg, A0, N0)\n",
    "                        "
   ]
  },
  {
   "cell_type": "code",
   "execution_count": 29,
   "metadata": {
    "scrolled": false
   },
   "outputs": [
    {
     "name": "stdout",
     "output_type": "stream",
     "text": [
      "0\n"
     ]
    }
   ],
   "source": [
    "# ret_e_dot, ret_phi_e, ret_t_e, ret_tau_energy, ret_exit_obs,ret_exit_decay, ret_decay_obs, ret_exit,\\\n",
    "# ret_view, ret_decay_angle, ret_fractions,ret_types, ret_p_exit = decay1.event_retention()\n",
    "\n",
    "A_ret,ret_e_dot, ret_phi_e, ret_t_e, ret_tau_energy, ret_exit_obs, ret_exit_decay, ret_decay_obs, \\\n",
    "ret_exit, ret_emg, ret_view, ret_decay_alt, ret_decay_angle, ret_fractions,ret_types, ret_p_exit, A0, N0 = decay1.degree_eff_area()\n",
    "\n",
    "# print A_ret, len(ret_e_dot)\n",
    "# print ret_exit_obs,ret_exit_decay, ret_decay_obs\n",
    "print len(ret_e_dot)"
   ]
  },
  {
   "cell_type": "markdown",
   "metadata": {},
   "source": [
    "## Adding RF cuts"
   ]
  },
  {
   "cell_type": "code",
   "execution_count": null,
   "metadata": {},
   "outputs": [],
   "source": [
    "f_lo = 180\n",
    "f_high = 1200\n",
    "Gain_dB = 10\n",
    "Nphased = 1"
   ]
  },
  {
   "cell_type": "code",
   "execution_count": 133,
   "metadata": {},
   "outputs": [
    {
     "data": {
      "text/plain": [
       "<module 'trigger_properties' from 'trigger_properties.py'>"
      ]
     },
     "execution_count": 133,
     "metadata": {},
     "output_type": "execute_result"
    }
   ],
   "source": [
    "import trigger_properties as RF\n",
    "reload(RF)"
   ]
  },
  {
   "cell_type": "code",
   "execution_count": null,
   "metadata": {
    "scrolled": true
   },
   "outputs": [],
   "source": [
    "trigger_result = RF.event_detection(A_ret, f_lo, f_high, Gain_dB, Nphased, \n",
    "                                    ret_exit,ret_view, ret_decay_angle, ret_decay_alt,\n",
    "                                    theta_view, ret_exit_obs,ret_exit_decay, ret_decay_obs,\n",
    "                                    ret_tau_energy, R, ice, h, ret_t_e, ret_phi_e,theta_src,phi_src)"
   ]
  },
  {
   "cell_type": "code",
   "execution_count": null,
   "metadata": {},
   "outputs": [],
   "source": [
    "trigger_result.RF_eff_area()"
   ]
  },
  {
   "cell_type": "markdown",
   "metadata": {},
   "source": [
    "## Creation of Graphs with Successive Effective Area Refinement"
   ]
  },
  {
   "cell_type": "code",
   "execution_count": 134,
   "metadata": {},
   "outputs": [],
   "source": [
    "phi_src = radians(180)\n",
    "h = 35.5 #km\n",
    "R = 6356. # km\n",
    "ice =4\n",
    "theta_view = radians(1) #degrees\n",
    "N = 1000000 # number of samples\n",
    "E_nu = 19 #log energy in eV of incident neutrino \n",
    "E_cut = 14\n",
    "f_lo = 180\n",
    "f_high = 1200\n",
    "Gain_dB = 10\n",
    "Nphased = 1"
   ]
  },
  {
   "cell_type": "code",
   "execution_count": 135,
   "metadata": {},
   "outputs": [
    {
     "name": "stdout",
     "output_type": "stream",
     "text": [
      "60.0\n",
      "6.535038386744369e-07\n",
      "   \n",
      "61.0\n"
     ]
    },
    {
     "ename": "KeyboardInterrupt",
     "evalue": "",
     "output_type": "error",
     "traceback": [
      "\u001b[0;31m---------------------------------------------------------------------------\u001b[0m",
      "\u001b[0;31mKeyboardInterrupt\u001b[0m                         Traceback (most recent call last)",
      "\u001b[0;32m<ipython-input-135-d68b9d5314f3>\u001b[0m in \u001b[0;36m<module>\u001b[0;34m()\u001b[0m\n\u001b[1;32m     34\u001b[0m     \u001b[0mtrigger_result\u001b[0m \u001b[0;34m=\u001b[0m \u001b[0mRF\u001b[0m\u001b[0;34m.\u001b[0m\u001b[0mevent_detection\u001b[0m\u001b[0;34m(\u001b[0m\u001b[0mA_ret\u001b[0m\u001b[0;34m,\u001b[0m \u001b[0mf_lo\u001b[0m\u001b[0;34m,\u001b[0m \u001b[0mf_high\u001b[0m\u001b[0;34m,\u001b[0m \u001b[0mGain_dB\u001b[0m\u001b[0;34m,\u001b[0m \u001b[0mNphased\u001b[0m\u001b[0;34m,\u001b[0m                                     \u001b[0mret_exit\u001b[0m\u001b[0;34m,\u001b[0m\u001b[0mret_view\u001b[0m\u001b[0;34m,\u001b[0m \u001b[0mret_decay_angle\u001b[0m\u001b[0;34m,\u001b[0m \u001b[0mret_decay_alt\u001b[0m\u001b[0;34m,\u001b[0m                                     \u001b[0mtheta_view\u001b[0m\u001b[0;34m,\u001b[0m \u001b[0mret_exit_obs\u001b[0m\u001b[0;34m,\u001b[0m\u001b[0mret_exit_decay\u001b[0m\u001b[0;34m,\u001b[0m \u001b[0mret_decay_obs\u001b[0m\u001b[0;34m,\u001b[0m \u001b[0mret_p_exit\u001b[0m\u001b[0;34m,\u001b[0m \u001b[0mret_e_dot\u001b[0m\u001b[0;34m,\u001b[0m                                    \u001b[0mret_tau_energy\u001b[0m\u001b[0;34m,\u001b[0m \u001b[0mR\u001b[0m\u001b[0;34m,\u001b[0m \u001b[0mice\u001b[0m\u001b[0;34m,\u001b[0m \u001b[0mh\u001b[0m\u001b[0;34m,\u001b[0m \u001b[0mret_t_e\u001b[0m\u001b[0;34m,\u001b[0m \u001b[0mret_phi_e\u001b[0m\u001b[0;34m,\u001b[0m\u001b[0mtheta_src\u001b[0m\u001b[0;34m,\u001b[0m\u001b[0mphi_src\u001b[0m\u001b[0;34m,\u001b[0m \u001b[0mA0\u001b[0m\u001b[0;34m,\u001b[0m\u001b[0mN0\u001b[0m\u001b[0;34m)\u001b[0m\u001b[0;34m\u001b[0m\u001b[0m\n\u001b[1;32m     35\u001b[0m \u001b[0;34m\u001b[0m\u001b[0m\n\u001b[0;32m---> 36\u001b[0;31m     \u001b[0mA_trigger\u001b[0m  \u001b[0;34m=\u001b[0m \u001b[0mtrigger_result\u001b[0m\u001b[0;34m.\u001b[0m\u001b[0mRF_eff_area\u001b[0m\u001b[0;34m(\u001b[0m\u001b[0;34m)\u001b[0m\u001b[0;34m\u001b[0m\u001b[0m\n\u001b[0m\u001b[1;32m     37\u001b[0m     \u001b[0;31m#print A_trigger\u001b[0m\u001b[0;34m\u001b[0m\u001b[0;34m\u001b[0m\u001b[0m\n\u001b[1;32m     38\u001b[0m \u001b[0;34m\u001b[0m\u001b[0m\n",
      "\u001b[0;32m/Users/cburch/tau_point_source_sim/trigger_properties.py\u001b[0m in \u001b[0;36mRF_eff_area\u001b[0;34m(self)\u001b[0m\n\u001b[1;32m    106\u001b[0m                                                                                   \u001b[0mself\u001b[0m\u001b[0;34m.\u001b[0m\u001b[0mzenith_angle_deg\u001b[0m\u001b[0;34m,\u001b[0m\u001b[0;34m\u001b[0m\u001b[0m\n\u001b[1;32m    107\u001b[0m                                                                                   \u001b[0mnp\u001b[0m\u001b[0;34m.\u001b[0m\u001b[0mdegrees\u001b[0m\u001b[0;34m(\u001b[0m\u001b[0mself\u001b[0m\u001b[0;34m.\u001b[0m\u001b[0mdecay_view_angle\u001b[0m\u001b[0;34m)\u001b[0m\u001b[0;34m,\u001b[0m\u001b[0;34m\u001b[0m\u001b[0m\n\u001b[0;32m--> 108\u001b[0;31m                                                                                   parm_2d)\n\u001b[0m\u001b[1;32m    109\u001b[0m \u001b[0;34m\u001b[0m\u001b[0m\n\u001b[1;32m    110\u001b[0m \u001b[0;34m\u001b[0m\u001b[0m\n",
      "\u001b[0;32m/Users/cburch/tau_point_source_sim/trigger_properties.py\u001b[0m in \u001b[0;36mefield_anita_generic_parameterization_decay_zenith\u001b[0;34m(self, energy, decay_altitude, zenith_exit_deg, theta_view, parm_2d)\u001b[0m\n\u001b[1;32m    290\u001b[0m                 \u001b[0;31m# find the nearest neighbor for both the zenith angle at the exit point and the decay altitude\u001b[0m\u001b[0;34m\u001b[0m\u001b[0;34m\u001b[0m\u001b[0m\n\u001b[1;32m    291\u001b[0m                 \u001b[0mi_ze\u001b[0m \u001b[0;34m=\u001b[0m \u001b[0mself\u001b[0m\u001b[0;34m.\u001b[0m\u001b[0mfind_nearest\u001b[0m\u001b[0;34m(\u001b[0m\u001b[0mzenith_list\u001b[0m\u001b[0;34m,\u001b[0m \u001b[0mzenith_exit_deg\u001b[0m\u001b[0;34m[\u001b[0m\u001b[0mi\u001b[0m\u001b[0;34m]\u001b[0m\u001b[0;34m)\u001b[0m\u001b[0;34m[\u001b[0m\u001b[0;36m0\u001b[0m\u001b[0;34m]\u001b[0m\u001b[0;34m\u001b[0m\u001b[0m\n\u001b[0;32m--> 292\u001b[0;31m                 \u001b[0mi_d\u001b[0m  \u001b[0;34m=\u001b[0m \u001b[0mself\u001b[0m\u001b[0;34m.\u001b[0m\u001b[0mfind_nearest\u001b[0m\u001b[0;34m(\u001b[0m\u001b[0mdecay_altitude_list\u001b[0m\u001b[0;34m,\u001b[0m \u001b[0mdecay_altitude\u001b[0m\u001b[0;34m[\u001b[0m\u001b[0mi\u001b[0m\u001b[0;34m]\u001b[0m\u001b[0;34m,\u001b[0m \u001b[0mlower_bound\u001b[0m \u001b[0;34m=\u001b[0m \u001b[0;36m0\u001b[0m\u001b[0;34m)\u001b[0m\u001b[0;34m[\u001b[0m\u001b[0;36m0\u001b[0m\u001b[0;34m]\u001b[0m\u001b[0;34m\u001b[0m\u001b[0m\n\u001b[0m\u001b[1;32m    293\u001b[0m \u001b[0;34m\u001b[0m\u001b[0m\n\u001b[1;32m    294\u001b[0m \u001b[0;31m#                 self.zenith_list = np.array([50, 55, 60, 65, 70, 75, 80, 85, 87, 89])\u001b[0m\u001b[0;34m\u001b[0m\u001b[0;34m\u001b[0m\u001b[0m\n",
      "\u001b[0;32m/Users/cburch/tau_point_source_sim/trigger_properties.py\u001b[0m in \u001b[0;36mfind_nearest\u001b[0;34m(self, array, values, lower_bound, upper_bound)\u001b[0m\n\u001b[1;32m    257\u001b[0m         \u001b[0;31m# finds the nearest values in the arrays\u001b[0m\u001b[0;34m\u001b[0m\u001b[0;34m\u001b[0m\u001b[0m\n\u001b[1;32m    258\u001b[0m         \u001b[0;31m# if the values are outside the desire range, sets the index to -1\u001b[0m\u001b[0;34m\u001b[0m\u001b[0;34m\u001b[0m\u001b[0m\n\u001b[0;32m--> 259\u001b[0;31m         \u001b[0mvalues\u001b[0m \u001b[0;34m=\u001b[0m \u001b[0mnp\u001b[0m\u001b[0;34m.\u001b[0m\u001b[0matleast_1d\u001b[0m\u001b[0;34m(\u001b[0m\u001b[0mvalues\u001b[0m\u001b[0;34m)\u001b[0m\u001b[0;34m\u001b[0m\u001b[0m\n\u001b[0m\u001b[1;32m    260\u001b[0m         \u001b[0mindices\u001b[0m \u001b[0;34m=\u001b[0m \u001b[0mnp\u001b[0m\u001b[0;34m.\u001b[0m\u001b[0mabs\u001b[0m\u001b[0;34m(\u001b[0m\u001b[0mnp\u001b[0m\u001b[0;34m.\u001b[0m\u001b[0mint64\u001b[0m\u001b[0;34m(\u001b[0m\u001b[0mnp\u001b[0m\u001b[0;34m.\u001b[0m\u001b[0msubtract\u001b[0m\u001b[0;34m.\u001b[0m\u001b[0mouter\u001b[0m\u001b[0;34m(\u001b[0m\u001b[0marray\u001b[0m\u001b[0;34m,\u001b[0m \u001b[0mvalues\u001b[0m\u001b[0;34m)\u001b[0m\u001b[0;34m)\u001b[0m\u001b[0;34m)\u001b[0m\u001b[0;34m.\u001b[0m\u001b[0margmin\u001b[0m\u001b[0;34m(\u001b[0m\u001b[0;36m0\u001b[0m\u001b[0;34m)\u001b[0m\u001b[0;34m\u001b[0m\u001b[0m\n\u001b[1;32m    261\u001b[0m         \u001b[0mout\u001b[0m \u001b[0;34m=\u001b[0m \u001b[0marray\u001b[0m\u001b[0;34m[\u001b[0m\u001b[0mindices\u001b[0m\u001b[0;34m]\u001b[0m\u001b[0;34m\u001b[0m\u001b[0m\n",
      "\u001b[0;32m/anaconda2/lib/python2.7/site-packages/numpy/core/shape_base.pyc\u001b[0m in \u001b[0;36matleast_1d\u001b[0;34m(*arys)\u001b[0m\n\u001b[1;32m     65\u001b[0m     \u001b[0mres\u001b[0m \u001b[0;34m=\u001b[0m \u001b[0;34m[\u001b[0m\u001b[0;34m]\u001b[0m\u001b[0;34m\u001b[0m\u001b[0m\n\u001b[1;32m     66\u001b[0m     \u001b[0;32mfor\u001b[0m \u001b[0mary\u001b[0m \u001b[0;32min\u001b[0m \u001b[0marys\u001b[0m\u001b[0;34m:\u001b[0m\u001b[0;34m\u001b[0m\u001b[0m\n\u001b[0;32m---> 67\u001b[0;31m         \u001b[0mary\u001b[0m \u001b[0;34m=\u001b[0m \u001b[0masanyarray\u001b[0m\u001b[0;34m(\u001b[0m\u001b[0mary\u001b[0m\u001b[0;34m)\u001b[0m\u001b[0;34m\u001b[0m\u001b[0m\n\u001b[0m\u001b[1;32m     68\u001b[0m         \u001b[0;32mif\u001b[0m \u001b[0mary\u001b[0m\u001b[0;34m.\u001b[0m\u001b[0mndim\u001b[0m \u001b[0;34m==\u001b[0m \u001b[0;36m0\u001b[0m\u001b[0;34m:\u001b[0m\u001b[0;34m\u001b[0m\u001b[0m\n\u001b[1;32m     69\u001b[0m             \u001b[0mresult\u001b[0m \u001b[0;34m=\u001b[0m \u001b[0mary\u001b[0m\u001b[0;34m.\u001b[0m\u001b[0mreshape\u001b[0m\u001b[0;34m(\u001b[0m\u001b[0;36m1\u001b[0m\u001b[0;34m)\u001b[0m\u001b[0;34m\u001b[0m\u001b[0m\n",
      "\u001b[0;32m/anaconda2/lib/python2.7/site-packages/numpy/core/numeric.pyc\u001b[0m in \u001b[0;36masanyarray\u001b[0;34m(a, dtype, order)\u001b[0m\n\u001b[1;32m    589\u001b[0m \u001b[0;34m\u001b[0m\u001b[0m\n\u001b[1;32m    590\u001b[0m     \"\"\"\n\u001b[0;32m--> 591\u001b[0;31m     \u001b[0;32mreturn\u001b[0m \u001b[0marray\u001b[0m\u001b[0;34m(\u001b[0m\u001b[0ma\u001b[0m\u001b[0;34m,\u001b[0m \u001b[0mdtype\u001b[0m\u001b[0;34m,\u001b[0m \u001b[0mcopy\u001b[0m\u001b[0;34m=\u001b[0m\u001b[0mFalse\u001b[0m\u001b[0;34m,\u001b[0m \u001b[0morder\u001b[0m\u001b[0;34m=\u001b[0m\u001b[0morder\u001b[0m\u001b[0;34m,\u001b[0m \u001b[0msubok\u001b[0m\u001b[0;34m=\u001b[0m\u001b[0mTrue\u001b[0m\u001b[0;34m)\u001b[0m\u001b[0;34m\u001b[0m\u001b[0m\n\u001b[0m\u001b[1;32m    592\u001b[0m \u001b[0;34m\u001b[0m\u001b[0m\n\u001b[1;32m    593\u001b[0m \u001b[0;34m\u001b[0m\u001b[0m\n",
      "\u001b[0;31mKeyboardInterrupt\u001b[0m: "
     ]
    }
   ],
   "source": [
    "\n",
    "\n",
    "# Creating a plot for the full range of possible source declinations \n",
    "start = 60 # minimum source declination in degrees\n",
    "end = 70 # maximum source declination in degrees\n",
    "steps=10 # divisions indeclination used to generate plot\n",
    "x1 = np.linspace(-end,-start,steps)\n",
    "\n",
    "A_g = []\n",
    "A_p=[]\n",
    "A_rf = []\n",
    "theta_view = radians(1)\n",
    "for j in range(0,steps):\n",
    "    \n",
    "    theta_src = radians(start+(end-start)*float(j)/steps)\n",
    "    print start+(end-start)*float(j)/steps\n",
    "    # GEOMETRIC\n",
    "    geom_area = geom_trap.Area(theta_src,phi_src, h,R,theta_view, N)\n",
    "    A_deg, phi_e, theta_e, view_angle, exit_angle, norm, e_dot, A0, N0 = geom_area.event_retention()\n",
    "    #print A_deg\n",
    "    \n",
    "    # DECAY\n",
    "    decay1 = decay.tau_event(theta_src, ice, E_cut, e_dot, phi_e, theta_e, \\\n",
    "                             norm,E_nu, h, R, theta_view, exit_angle, view_angle, A_deg, A0, N0)\n",
    "    A_ret,ret_e_dot, ret_phi_e, ret_t_e, ret_tau_energy, ret_exit_obs, ret_exit_decay, ret_decay_obs, \\\n",
    "    ret_exit, ret_view, ret_decay_alt, ret_decay_angle, ret_fractions,ret_types, ret_p_exit, A0, N0 = decay1.degree_eff_area()\n",
    "    #print A_ret\n",
    "#     print \"decay dist\", mean(ret_exit_decay)\n",
    "#     print \"decay alt\", mean(ret_decay_alt)\n",
    "#     print \"energy\", mean(ret_tau_energy)\n",
    "#     print \"zenith\", np.degrees(mean(ret_view)+theta_src)\n",
    "#     print \"view\", np.degrees(mean(ret_view))\n",
    "#     print \"decay view\", np.degrees(mean(ret_decay_angle))\n",
    "    \n",
    "    # TRIGGER\n",
    "    trigger_result = RF.event_detection(A_ret, f_lo, f_high, Gain_dB, Nphased, \\\n",
    "                                    ret_exit,ret_view, ret_decay_angle, ret_decay_alt, \\\n",
    "                                    theta_view, ret_exit_obs,ret_exit_decay, ret_decay_obs, ret_p_exit, ret_e_dot,\\\n",
    "                                    ret_tau_energy, R, ice, h, ret_t_e, ret_phi_e,theta_src,phi_src, A0,N0)\n",
    "    \n",
    "    A_trigger  = trigger_result.RF_eff_area()\n",
    "    #print A_trigger\n",
    "    \n",
    "    A_g.append(A_deg)\n",
    "    A_p.append(A_ret)\n",
    "    A_rf.append(A_trigger)\n",
    "    print \"   \"\n",
    "\n",
    "\n"
   ]
  },
  {
   "cell_type": "code",
   "execution_count": 6,
   "metadata": {},
   "outputs": [
    {
     "name": "stdout",
     "output_type": "stream",
     "text": [
      "0\n"
     ]
    },
    {
     "ename": "ValueError",
     "evalue": "too many values to unpack",
     "output_type": "error",
     "traceback": [
      "\u001b[0;31m---------------------------------------------------------------------------\u001b[0m",
      "\u001b[0;31mValueError\u001b[0m                                Traceback (most recent call last)",
      "\u001b[0;32m<ipython-input-6-d1fdf7c6f22d>\u001b[0m in \u001b[0;36m<module>\u001b[0;34m()\u001b[0m\n\u001b[1;32m     12\u001b[0m     \u001b[0;31m# GEOMETRIC\u001b[0m\u001b[0;34m\u001b[0m\u001b[0;34m\u001b[0m\u001b[0m\n\u001b[1;32m     13\u001b[0m     \u001b[0mgeom_area\u001b[0m \u001b[0;34m=\u001b[0m \u001b[0mgeom_trap\u001b[0m\u001b[0;34m.\u001b[0m\u001b[0mArea\u001b[0m\u001b[0;34m(\u001b[0m\u001b[0mtheta_src\u001b[0m\u001b[0;34m,\u001b[0m\u001b[0mphi_src\u001b[0m\u001b[0;34m,\u001b[0m \u001b[0mh\u001b[0m\u001b[0;34m,\u001b[0m\u001b[0mR\u001b[0m\u001b[0;34m,\u001b[0m\u001b[0mtheta_view\u001b[0m\u001b[0;34m,\u001b[0m \u001b[0mN\u001b[0m\u001b[0;34m)\u001b[0m\u001b[0;34m\u001b[0m\u001b[0m\n\u001b[0;32m---> 14\u001b[0;31m     \u001b[0mA_deg\u001b[0m\u001b[0;34m,\u001b[0m \u001b[0mphi_e\u001b[0m\u001b[0;34m,\u001b[0m \u001b[0mtheta_e\u001b[0m\u001b[0;34m,\u001b[0m \u001b[0mview_angle\u001b[0m\u001b[0;34m,\u001b[0m \u001b[0mexit_angle\u001b[0m\u001b[0;34m,\u001b[0m \u001b[0mnorm\u001b[0m\u001b[0;34m,\u001b[0m \u001b[0me_dot\u001b[0m \u001b[0;34m=\u001b[0m \u001b[0mgeom_area\u001b[0m\u001b[0;34m.\u001b[0m\u001b[0mevent_retention\u001b[0m\u001b[0;34m(\u001b[0m\u001b[0;34m)\u001b[0m\u001b[0;34m\u001b[0m\u001b[0m\n\u001b[0m\u001b[1;32m     15\u001b[0m     \u001b[0;32mprint\u001b[0m \u001b[0mA_deg\u001b[0m\u001b[0;34m\u001b[0m\u001b[0m\n\u001b[1;32m     16\u001b[0m \u001b[0;34m\u001b[0m\u001b[0m\n",
      "\u001b[0;31mValueError\u001b[0m: too many values to unpack"
     ]
    }
   ],
   "source": [
    "# Creating a plot for the full range of possible source declinations \n",
    "start = 0 # minimum source declination in degrees\n",
    "end = 90 # maximum source declination in degrees\n",
    "steps=90 # divisions indeclination used to generate plot\n",
    "x1 = np.linspace(-end,-start,steps)\n",
    "\n",
    "A_P_exit_energy = []\n",
    "theta_view = radians(1)\n",
    "for j in range(0,steps):\n",
    "    print j\n",
    "    theta_src = radians(start+(end-start)*float(j)/steps)\n",
    "    # GEOMETRIC\n",
    "    geom_area = geom_trap.Area(theta_src,phi_src, h,R,theta_view, N)\n",
    "    A_deg, phi_e, theta_e, view_angle, exit_angle, norm, e_dot = geom_area.event_retention()\n",
    "    print A_deg\n",
    "    \n",
    "    # DECAY\n",
    "    decay1 = decay.tau_event(theta_src, ice, E_cut, e_dot, phi_e, theta_e, norm,E_nu, h, R, theta_view, exit_angle, view_angle, A_deg)\n",
    "    A_ret,ret_e_dot, ret_phi_e, ret_t_e, ret_tau_energy, ret_exit_obs, ret_exit_decay, ret_decay_obs, \\\n",
    "    ret_exit, ret_view, ret_decay_alt, ret_decay_angle, ret_fractions,ret_types, ret_p_exit = decay1.degree_eff_area()\n",
    "\n",
    "    A_P_exit_energy.append(A_ret)\n"
   ]
  },
  {
   "cell_type": "code",
   "execution_count": 64,
   "metadata": {},
   "outputs": [
    {
     "name": "stdout",
     "output_type": "stream",
     "text": [
      "0.0 194.32471284802563\n"
     ]
    },
    {
     "data": {
      "image/png": "[encoded data removed]",
      "text/plain": [
       "<Figure size 504x504 with 1 Axes>"
      ]
     },
     "metadata": {
      "needs_background": "light"
     },
     "output_type": "display_data"
    }
   ],
   "source": [
    "fig = plt.figure(figsize=(7,7))\n",
    "ax = plt.axes(yscale='log')\n",
    "\n",
    "\n",
    "ax.plot(x1, A_g)\n",
    "ax.plot(x1, A_p)\n",
    "ax.plot(x1, A_rf)\n",
    "\n",
    "\n",
    "# ax.plot(x1, A_g)\n",
    "# ax.plot(x1, A_P_exit)\n",
    "# ax.plot(x1, A_P_exit_energy)\n",
    "# ax.plot(x1, A_P_exit_energy_decay)\n",
    "# ax.plot(x1, A_rf)\n",
    "    \n",
    "#plt.fill_between(x2, sky_maps[0],sky_maps[1],color='tab:gray')\n",
    "horizon = degrees(np.arcsin(R / (R+h)))-90\n",
    "plt.xlim(-90,0)  \n",
    "legend = ax.legend([r'$\\langle A \\rangle_g$', \n",
    "                    #r'$\\langle A \\rangle_g \\cdot P_{exit}$', \n",
    "                    #r'$\\langle A \\rangle_g \\cdot P_{exit} \\cdot P(E_\\tau > 10^{14})$', \n",
    "                    r'$\\langle A \\rangle_g \\cdot P_{exit} \\cdot P(E_\\tau > 10^{14}) \\cdot P_{decay}$',\n",
    "                   r'$\\langle A \\rangle_g \\cdot P_{exit} \\cdot P(E_\\tau > 10^{14}) \\cdot P_{decay} \\cdot P_{trigger} $'],\n",
    "                   fontsize=14, bbox_to_anchor=(1.1, 1))\n",
    "\n",
    "plt.xlabel(\"Payload Elevation Angle of Source \"+r'$\\theta_{ele}$'+\" (degrees)\", fontsize=18)\n",
    "plt.ylabel(r'$[km^2]$', fontsize=18)\n",
    "plt.title(\"ANITA Effective Area\", fontsize=20)\n",
    "plt.setp(legend.get_title(),fontsize='x-large')\n",
    "ax.tick_params(axis = 'both', which = 'major', labelsize = 16)\n",
    "\n",
    "y_min =min(A_g)\n",
    "y_max = max(A_g)\n",
    "print y_min, y_max\n",
    "y_ticks = [10**x for x in range(int(round(math.log10(10**-8))),int(round(math.log10(y_max))))]\n",
    "plt.yticks(y_ticks)\n",
    "ax.grid(True,which='both')\n",
    "#plt.semilogy()\n",
    "plt.show()"
   ]
  },
  {
   "cell_type": "code",
   "execution_count": null,
   "metadata": {},
   "outputs": [],
   "source": [
    "trigger_result.RF_eff_area()"
   ]
  },
  {
   "cell_type": "code",
   "execution_count": 48,
   "metadata": {},
   "outputs": [
    {
     "name": "stdout",
     "output_type": "stream",
     "text": [
      "parm_2d\n",
      "[[[2.91006829e-04 8.22302649e-01 7.28022958e-01 2.02561809e-01\n",
      "   1.00000000e-05 1.00000000e+00]\n",
      "  [3.18730329e-04 8.27665252e-01 6.13529373e-01 2.15972963e-01\n",
      "   9.99508669e-06 9.95446139e-01]\n",
      "  [4.26980275e-04 6.90153212e-01 5.39794051e-01 2.07598989e-01\n",
      "   9.99999050e-06 2.93412569e-01]\n",
      "  [4.73786916e-04 7.76768182e-01 4.19140729e-01 2.18302969e-01\n",
      "   9.99999998e-06 1.31079181e-01]\n",
      "  [4.95584437e-04 9.68825393e-01 3.10620712e-01 2.23144618e-01\n",
      "   1.00000000e-05 1.00000000e+00]\n",
      "  [5.57544120e-04 9.64616652e-01 2.63108181e-01 2.21703595e-01\n",
      "   9.99999537e-06 4.38891018e-02]\n",
      "  [4.99094379e-04 8.68775973e-01 1.70313916e-01 2.20855367e-01\n",
      "   6.98352972e-06 3.42299955e-01]\n",
      "  [4.63551941e-04 8.66742820e-01 1.13638674e-01 2.16160283e-01\n",
      "   9.91374567e-07 2.43621086e-02]\n",
      "  [3.84634300e-04 7.04618531e-01 5.98548696e-02 2.14012630e-01\n",
      "   2.54278765e-06 1.87767859e-01]\n",
      "  [2.79144363e-04 7.19735307e-01 2.04179853e-03 1.97929261e-01\n",
      "   3.38117347e-07 1.00000000e+00]]\n",
      "\n",
      " [[2.65065928e-04 7.22888298e-01 7.94968036e-01 1.84748915e-01\n",
      "   7.12774146e-06 9.59340770e-01]\n",
      "  [3.03369337e-04 5.42768899e-01 6.82763654e-01 1.97646166e-01\n",
      "   4.39906704e-06 1.00000000e+00]\n",
      "  [3.65034707e-04 6.53816281e-01 6.10754234e-01 1.85138078e-01\n",
      "   9.99999709e-06 3.71506796e-01]\n",
      "  [4.08478493e-04 7.36387290e-01 4.81353309e-01 2.01081179e-01\n",
      "   9.99999997e-06 1.98003861e-01]\n",
      "  [4.60176630e-04 8.22766600e-01 3.93657477e-01 2.04918294e-01\n",
      "   1.00000000e-05 1.22010021e-01]\n",
      "  [4.82398603e-04 9.55562313e-01 3.25396074e-01 2.02181731e-01\n",
      "   9.99999998e-06 1.00000000e+00]\n",
      "  [4.38565120e-04 9.44304626e-01 2.35860787e-01 2.11901223e-01\n",
      "   5.94448952e-06 9.44867023e-01]\n",
      "  [4.48585283e-04 9.02400776e-01 1.74006099e-01 2.04652703e-01\n",
      "   9.83558968e-06 3.09433774e-02]\n",
      "  [3.51979778e-04 1.00000000e+00 7.58983494e-02 2.23524256e-01\n",
      "   5.62605338e-06 9.99995367e-01]\n",
      "  [2.62759775e-04 1.00000000e+00 2.40968500e-04 2.25251657e-01\n",
      "   4.41659692e-06 1.00000000e+00]]\n",
      "\n",
      " [[2.27649496e-04 6.77180311e-01 8.72028388e-01 1.68893895e-01\n",
      "   7.62786283e-06 9.64831012e-01]\n",
      "  [2.58854213e-04 7.43153422e-01 7.61644697e-01 1.72894800e-01\n",
      "   6.81135561e-06 9.95708386e-01]\n",
      "  [3.00484662e-04 8.25519415e-01 6.64801950e-01 1.73841138e-01\n",
      "   9.99999158e-06 9.99984185e-01]\n",
      "  [3.51172263e-04 5.36863344e-01 5.61309128e-01 1.79565780e-01\n",
      "   4.35929265e-06 1.00000000e+00]\n",
      "  [3.78161917e-04 7.46645079e-01 4.58201610e-01 1.89262739e-01\n",
      "   9.99999838e-06 1.88797722e-01]\n",
      "  [4.29733533e-04 7.74994055e-01 3.86088150e-01 1.89435028e-01\n",
      "   1.00000000e-05 1.15088424e-01]\n",
      "  [3.88934829e-04 8.33695231e-01 2.93174225e-01 1.94149626e-01\n",
      "   1.00000000e-05 8.03418109e-02]\n",
      "  [3.91549575e-04 8.29138146e-01 2.31083361e-01 1.95182357e-01\n",
      "   9.99857442e-06 3.65618354e-02]\n",
      "  [3.57348756e-04 5.52220410e-01 1.68368389e-01 2.05286224e-01\n",
      "   2.47887175e-06 5.74152240e-01]\n",
      "  [2.67022800e-04 9.15707946e-01 8.45227533e-02 2.06173932e-01\n",
      "   4.85352627e-08 1.87956937e-01]]\n",
      "\n",
      " [[1.84381385e-04 6.88384738e-01 9.30656722e-01 1.58911265e-01\n",
      "   5.66943964e-06 1.00000000e+00]\n",
      "  [2.16069279e-04 6.57558935e-01 8.34804647e-01 1.55949147e-01\n",
      "   5.27058617e-06 9.98931829e-01]\n",
      "  [2.41311825e-04 7.11308062e-01 7.30927369e-01 1.56106803e-01\n",
      "   6.78681159e-06 9.92476479e-01]\n",
      "  [2.86394927e-04 5.76234630e-01 6.34269849e-01 1.61790184e-01\n",
      "   3.73651573e-06 1.00000000e+00]\n",
      "  [3.11458156e-04 7.62624871e-01 5.45209312e-01 1.66781030e-01\n",
      "   1.00000000e-05 3.41826939e-01]\n",
      "  [3.83376025e-04 6.53518209e-01 4.70633831e-01 1.61544703e-01\n",
      "   9.65990713e-06 3.48889948e-01]\n",
      "  [3.72688777e-04 7.58771283e-01 3.99330643e-01 1.73452709e-01\n",
      "   1.00000000e-05 1.28592895e-01]\n",
      "  [3.46808488e-04 6.05353606e-01 3.01160672e-01 1.83171200e-01\n",
      "   5.54763161e-06 1.51265964e-01]\n",
      "  [3.23642450e-04 8.38684337e-01 2.40940591e-01 1.79626217e-01\n",
      "   9.50737395e-06 5.10942249e-03]\n",
      "  [2.83735844e-04 8.72550235e-01 1.59729125e-01 1.87823651e-01\n",
      "   6.33829014e-06 5.20235679e-03]]\n",
      "\n",
      " [[1.51952416e-04 4.45236599e-01 9.99684048e-01 1.45806186e-01\n",
      "   4.28055507e-06 6.70710490e-01]\n",
      "  [1.85933491e-04 5.26084931e-01 9.10750153e-01 1.41970339e-01\n",
      "   6.97366562e-06 6.30308457e-01]\n",
      "  [2.04718173e-04 5.00028469e-01 8.14276973e-01 1.43074101e-01\n",
      "   7.92364106e-06 4.06174445e-01]\n",
      "  [2.31709801e-04 5.99829783e-01 7.19470650e-01 1.41766904e-01\n",
      "   7.17416535e-06 4.13321425e-01]\n",
      "  [2.62750520e-04 5.87475315e-01 6.35371267e-01 1.40782719e-01\n",
      "   4.29704789e-06 1.00000000e+00]\n",
      "  [3.07423066e-04 6.04038622e-01 5.54172181e-01 1.41996733e-01\n",
      "   7.72398941e-06 4.39687827e-01]\n",
      "  [3.21285969e-04 6.72961511e-01 4.91275040e-01 1.49388702e-01\n",
      "   9.99999986e-06 1.64310717e-01]\n",
      "  [3.01875917e-04 7.45015968e-01 3.93485880e-01 1.56529018e-01\n",
      "   9.99999977e-06 1.92180289e-01]\n",
      "  [2.91209090e-04 7.22065926e-01 3.28329197e-01 1.58770159e-01\n",
      "   9.99878795e-06 1.08582706e-01]\n",
      "  [2.49761351e-04 9.99995728e-01 2.58917230e-01 1.65032838e-01\n",
      "   7.56701738e-06 9.99999828e-01]]\n",
      "\n",
      " [[1.26032902e-04 2.60761384e-01 1.07186476e+00 1.29899710e-01\n",
      "   3.73260987e-06 6.90693710e-01]\n",
      "  [1.41851978e-04 3.77551877e-01 9.75679564e-01 1.28617106e-01\n",
      "   4.29001547e-06 5.87849924e-01]\n",
      "  [1.50917752e-04 5.84439067e-01 8.82969682e-01 1.27565887e-01\n",
      "   5.18121444e-06 8.51955148e-01]\n",
      "  [1.78389518e-04 4.85127981e-01 7.93695877e-01 1.23637541e-01\n",
      "   5.31513440e-06 4.92393542e-01]\n",
      "  [2.01669739e-04 4.62724478e-01 7.12383844e-01 1.22496434e-01\n",
      "   6.74343185e-06 4.17103589e-01]\n",
      "  [2.31735210e-04 5.18027773e-01 6.37273682e-01 1.20781758e-01\n",
      "   7.71641426e-06 3.88497562e-01]\n",
      "  [2.58628066e-04 4.76171907e-01 5.76093122e-01 1.21878326e-01\n",
      "   7.67251665e-06 4.15502045e-01]\n",
      "  [2.64060018e-04 5.95082453e-01 5.03503155e-01 1.28955795e-01\n",
      "   9.96245378e-06 2.24431415e-01]\n",
      "  [2.40836278e-04 9.36495299e-01 4.18100234e-01 1.32612570e-01\n",
      "   9.99995644e-06 8.43893402e-01]\n",
      "  [2.40298841e-04 7.34323002e-01 3.57971684e-01 1.34144567e-01\n",
      "   5.66382055e-06 9.89546464e-01]]\n",
      "\n",
      " [[8.14865033e-05 2.13555662e-01 1.13742872e+00 1.29356995e-01\n",
      "   2.41143489e-06 6.33666650e-01]\n",
      "  [9.66600091e-05 1.72206666e-01 1.04204500e+00 1.21888750e-01\n",
      "   2.75981349e-06 6.65013318e-01]\n",
      "  [1.09561757e-04 2.07328443e-01 9.58741986e-01 1.10688661e-01\n",
      "   3.13223773e-06 6.25809271e-01]\n",
      "  [1.17220206e-04 3.80866568e-01 8.74046572e-01 1.15845700e-01\n",
      "   3.63490492e-06 5.82607986e-01]\n",
      "  [1.38596698e-04 4.06609034e-01 7.97898400e-01 1.06496085e-01\n",
      "   4.43326367e-06 5.50858025e-01]\n",
      "  [1.53807167e-04 3.78228946e-01 7.26523015e-01 1.04936406e-01\n",
      "   5.30354400e-06 4.55351109e-01]\n",
      "  [1.81567482e-04 3.01650308e-01 6.57690813e-01 1.02139661e-01\n",
      "   6.89131404e-06 4.00583408e-01]\n",
      "  [1.90974572e-04 3.76621229e-01 5.95002986e-01 1.03474106e-01\n",
      "   8.08924049e-06 3.77102636e-01]\n",
      "  [1.87376672e-04 5.41126453e-01 5.32965956e-01 1.07989095e-01\n",
      "   8.91230749e-06 3.45612134e-01]\n",
      "  [1.98108235e-04 5.94641971e-01 4.62294969e-01 1.07011904e-01\n",
      "   9.54052343e-06 1.77511449e-01]]\n",
      "\n",
      " [[5.03149640e-05 4.65206266e-02 1.19829772e+00 1.18208534e-01\n",
      "   1.23143483e-06 7.82440880e-01]\n",
      "  [5.99966819e-05 2.61057076e-02 1.11104692e+00 1.05829154e-01\n",
      "   1.53890344e-06 7.20976714e-01]\n",
      "  [6.40890251e-05 6.22789870e-02 1.03106843e+00 1.06035501e-01\n",
      "   1.63515996e-06 6.33531984e-01]\n",
      "  [7.85706826e-05 8.00000000e-01 9.60000000e-01 1.00000000e-01\n",
      "   4.93338880e-07 1.00000000e+00]\n",
      "  [8.44397757e-05 1.68123811e-01 8.85340677e-01 9.96827043e-02\n",
      "   2.69731735e-06 5.79093393e-01]\n",
      "  [9.23904394e-05 1.11448409e-01 8.18479868e-01 9.14515108e-02\n",
      "   2.52957414e-06 4.95961840e-01]\n",
      "  [1.10292060e-04 8.00000000e-01 7.60000000e-01 1.00000000e-01\n",
      "   6.81414838e-07 1.00000000e+00]\n",
      "  [1.06549612e-04 2.54303897e-01 7.00768559e-01 9.63252209e-02\n",
      "   5.08160969e-06 4.43514216e-01]\n",
      "  [1.17299363e-04 3.10293792e-01 6.47898367e-01 9.31621689e-02\n",
      "   4.93984224e-06 3.85393630e-01]\n",
      "  [1.25156186e-04 4.45597128e-01 5.91048435e-01 8.48830625e-02\n",
      "   4.01995742e-06 4.24746897e-01]]\n",
      "\n",
      " [[3.69636257e-05 7.73189357e-02 1.22100535e+00 1.19783280e-01\n",
      "   8.91361634e-07 6.05604493e-01]\n",
      "  [4.34203889e-05 4.40723476e-02 1.13611167e+00 1.09041529e-01\n",
      "   1.13645490e-06 7.46878540e-01]\n",
      "  [5.02717537e-05 3.20690742e-02 1.06200868e+00 9.95434443e-02\n",
      "   1.19783521e-06 6.41026965e-01]\n",
      "  [6.07767100e-05 8.00000000e-01 1.00000000e+00 1.00000000e-01\n",
      "   4.02605113e-07 1.00000000e+00]\n",
      "  [5.69968568e-05 2.22801461e-01 9.26230364e-01 1.08598074e-01\n",
      "   2.08111406e-06 5.98155567e-01]\n",
      "  [7.09160303e-05 8.00000000e-01 8.80000000e-01 1.00000000e-01\n",
      "   4.47647508e-07 1.00000000e+00]\n",
      "  [7.47965186e-05 1.91876336e-01 8.14719116e-01 9.18022216e-02\n",
      "   1.54739421e-06 6.75521583e-01]\n",
      "  [7.89353389e-05 2.88494297e-01 7.66481204e-01 9.58449127e-02\n",
      "   3.47542748e-06 5.13715605e-01]\n",
      "  [1.04369737e-04 1.19038432e-01 7.22584085e-01 8.05068380e-02\n",
      "   2.32318110e-06 5.49877321e-01]\n",
      "  [1.07430366e-04 2.50142989e-01 6.73757527e-01 7.44845649e-02\n",
      "   2.13692738e-06 5.02233208e-01]]\n",
      "\n",
      " [[2.62645198e-05 3.00163950e-02 1.24558836e+00 1.20361233e-01\n",
      "   7.16537304e-07 7.10445424e-01]\n",
      "  [3.04664562e-05 9.58999260e-02 1.17234673e+00 1.14135863e-01\n",
      "   7.47762191e-07 7.67739928e-01]\n",
      "  [3.60592098e-05 8.74372861e-02 1.12099578e+00 1.03355325e-01\n",
      "   7.37178620e-07 7.14487888e-01]\n",
      "  [4.34177602e-05 8.00000000e-01 1.08000000e+00 1.00000000e-01\n",
      "   3.35079104e-07 1.00000000e+00]\n",
      "  [5.37235216e-05 8.00000000e-01 1.04000000e+00 1.00000000e-01\n",
      "   3.81108964e-07 1.00000000e+00]\n",
      "  [4.87528951e-05 1.98742404e-01 1.00349783e+00 9.27335756e-02\n",
      "   9.79721973e-07 6.61310214e-01]\n",
      "  [5.57223340e-05 1.15194682e-01 9.70799950e-01 8.41571412e-02\n",
      "   8.66224472e-07 5.88170558e-01]\n",
      "  [6.42296352e-05 1.19959149e-01 9.39962057e-01 7.49166053e-02\n",
      "   9.25568028e-07 5.36935127e-01]\n",
      "  [6.52502898e-05 8.00000000e-01 9.20000000e-01 1.00000000e-01\n",
      "   5.02915297e-07 1.00000000e+00]\n",
      "  [7.42235942e-05 2.27672313e-01 8.84039895e-01 6.22634811e-02\n",
      "   6.75365003e-07 5.34722842e-01]]]\n",
      "zenith\n",
      "[50 55 60 65 70 75 80 85 87 89]\n",
      "decay\n",
      "[0 1 2 3 4 5 6 7 8 9]\n"
     ]
    }
   ],
   "source": [
    "data = np.load(\"anita_generic_parameterization.npz\")\n",
    "for item in data:\n",
    "    print item\n",
    "    print data[item]\n",
    "    "
   ]
  },
  {
   "cell_type": "code",
   "execution_count": 142,
   "metadata": {},
   "outputs": [
    {
     "data": {
      "text/plain": [
       "2.5989587230693698e-06"
      ]
     },
     "execution_count": 142,
     "metadata": {},
     "output_type": "execute_result"
    }
   ],
   "source": [
    "((8.0 *10**-6)*(3 * 10**(8)) / (300* 10**6))*np.sqrt((50 * 10)/(377*4*np.pi))\n"
   ]
  },
  {
   "cell_type": "code",
   "execution_count": null,
   "metadata": {},
   "outputs": [],
   "source": []
  }
 ],
 "metadata": {
  "kernelspec": {
   "display_name": "Python 2",
   "language": "python",
   "name": "python2"
  },
  "language_info": {
   "codemirror_mode": {
    "name": "ipython",
    "version": 2
   },
   "file_extension": ".py",
   "mimetype": "text/x-python",
   "name": "python",
   "nbconvert_exporter": "python",
   "pygments_lexer": "ipython2",
   "version": "2.7.16"
  }
 },
 "nbformat": 4,
 "nbformat_minor": 2
}
