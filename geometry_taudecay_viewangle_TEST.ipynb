{
 "cells": [
  {
   "cell_type": "markdown",
   "metadata": {},
   "source": [
    "# Setup"
   ]
  },
  {
   "cell_type": "code",
   "execution_count": 96,
   "metadata": {},
   "outputs": [
    {
     "data": {
      "text/plain": [
       "<module 'decay_properties' from 'decay_properties.py'>"
      ]
     },
     "execution_count": 96,
     "metadata": {},
     "output_type": "execute_result"
    }
   ],
   "source": [
    "%matplotlib inline\n",
    "from pylab import *\n",
    "\n",
    "import detectorgeometry_trap as geom_trap\n",
    "reload(geom_trap)\n",
    "\n",
    "import decay_properties as decay\n",
    "reload(decay)"
   ]
  },
  {
   "cell_type": "code",
   "execution_count": 97,
   "metadata": {
    "scrolled": true
   },
   "outputs": [
    {
     "name": "stdout",
     "output_type": "stream",
     "text": [
      "98.90090463197012\n"
     ]
    }
   ],
   "source": [
    "# example data input to class to determine effective area\n",
    "theta_src = radians(80) #radians\n",
    "h = 35.5 #km\n",
    "R = 6356. # km\n",
    "ice =4\n",
    "theta_view = radians(1) #degrees\n",
    "N = 500 # number of samples\n",
    "E_nu = 19 #log energy in eV of incident neutrino \n",
    "E_cut = 14\n",
    "\n",
    "geom_area = geom_trap.Area(theta_src,h,R,theta_view, N)\n",
    "A_deg, phi_e, theta_e, view_angle, exit_angle, norm, e_dot = geom_area.event_retention()\n",
    "print A_deg"
   ]
  },
  {
   "cell_type": "code",
   "execution_count": 98,
   "metadata": {},
   "outputs": [],
   "source": [
    "# Assign to each event a tau energy, tau decay point, a decay probability, calculated view angle\n",
    "# inputs : theta_src, ice, E_cut, e_dot, phi_e, t_e, rho, E_nu,h,R,view_cut, exit_angles\n",
    "decay1 = decay.tau_event(theta_src, ice, E_cut, e_dot, phi_e, theta_e, norm,E_nu, h, R, theta_view, exit_angle)\n",
    "                        "
   ]
  },
  {
   "cell_type": "code",
   "execution_count": 99,
   "metadata": {},
   "outputs": [
    {
     "name": "stdout",
     "output_type": "stream",
     "text": [
      "[16.6371037  17.41331162 17.1100909 ]\n"
     ]
    }
   ],
   "source": [
    "print decay1.E_tau()"
   ]
  },
  {
   "cell_type": "code",
   "execution_count": 100,
   "metadata": {},
   "outputs": [
    {
     "name": "stdout",
     "output_type": "stream",
     "text": [
      "[2.54776725 6.11304655 5.54453938]\n"
     ]
    }
   ],
   "source": [
    "print decay1.decay_distance_det(decay1.E_tau())"
   ]
  },
  {
   "cell_type": "code",
   "execution_count": 103,
   "metadata": {},
   "outputs": [
    {
     "name": "stdout",
     "output_type": "stream",
     "text": [
      "[0.1406367  0.13816364 0.13773719]\n",
      "[0.01481228 6.2677978  6.27880228]\n",
      "[0.0334321  0.03593013 0.03635681]\n",
      "[16.38532803 17.10635191 17.60428307]\n",
      "[ 0.34205755  2.50538125 21.30390663]\n",
      "[2.784971   2.79497023 2.79661129]\n",
      "[0.7509997553948285, 0.25747651545430994, 0.6713808177988847]\n",
      "['h', 'h', 'h']\n"
     ]
    }
   ],
   "source": [
    "ret_e_dot, ret_phi_e, ret_t_e, ret_tau_energy, ret_decay_dist, ret_view_angle, ret_fractions,ret_types = decay1.event_retention()\n",
    "print ret_e_dot\n",
    "print ret_phi_e\n",
    "print ret_t_e\n",
    "print ret_tau_energy\n",
    "print ret_decay_dist\n",
    "print ret_view_angle\n",
    "print ret_fractions\n",
    "print ret_types"
   ]
  },
  {
   "cell_type": "code",
   "execution_count": 105,
   "metadata": {},
   "outputs": [],
   "source": [
    "import sys\n",
    "sys.path.append('Detector_03')\n",
    "import tau_Shower_Efield_ANITA_Sim_lib  as RF"
   ]
  },
  {
   "cell_type": "code",
   "execution_count": null,
   "metadata": {},
   "outputs": [],
   "source": [
    "# need probability of trigger"
   ]
  }
 ],
 "metadata": {
  "kernelspec": {
   "display_name": "Python 2",
   "language": "python",
   "name": "python2"
  },
  "language_info": {
   "codemirror_mode": {
    "name": "ipython",
    "version": 2
   },
   "file_extension": ".py",
   "mimetype": "text/x-python",
   "name": "python",
   "nbconvert_exporter": "python",
   "pygments_lexer": "ipython2",
   "version": "2.7.16"
  }
 },
 "nbformat": 4,
 "nbformat_minor": 2
}
