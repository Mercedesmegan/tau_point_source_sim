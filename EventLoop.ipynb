{
 "cells": [
  {
   "cell_type": "code",
   "execution_count": 1,
   "metadata": {},
   "outputs": [
    {
     "data": {
      "text/plain": [
       "<module 'trigger_properties' from 'trigger_properties.pyc'>"
      ]
     },
     "execution_count": 1,
     "metadata": {},
     "output_type": "execute_result"
    }
   ],
   "source": [
    "%matplotlib inline\n",
    "from pylab import *\n",
    "import math\n",
    "import numpy as np\n",
    "\n",
    "import detectorgeometry_trap as geom_trap\n",
    "reload(geom_trap)\n",
    "\n",
    "import decay_properties as decay\n",
    "reload(decay)\n",
    "\n",
    "import trigger_properties as RF\n",
    "reload(RF)"
   ]
  },
  {
   "cell_type": "code",
   "execution_count": 14,
   "metadata": {},
   "outputs": [],
   "source": [
    "phi_src = radians(180)\n",
    "h = 35.5 #km\n",
    "R = 6356. # km\n",
    "ice =4\n",
    "E_nu = 18 #log energy in eV of incident neutrino \n",
    "E_cut = 14\n",
    "f_lo = 180\n",
    "f_high = 1200\n",
    "Gain_dB = 10\n",
    "Nphased = 1"
   ]
  },
  {
   "cell_type": "code",
   "execution_count": 33,
   "metadata": {},
   "outputs": [
    {
     "name": "stdout",
     "output_type": "stream",
     "text": [
      "0\n",
      "263901 263901\n",
      "0.00011241117654158255\n"
     ]
    }
   ],
   "source": [
    "theta_src = np.radians(83.6)\n",
    "E_nu = 18\n",
    "N = 50000000\n",
    "Epk_to_pk_threshold3 = 248e-6\n",
    "Epk_to_pk_threshold1 = 446e-6\n",
    "view_angle_cut = radians(1.5)\n",
    "\n",
    "tot_ret_shower_eng=[]\n",
    "tot_ret_tau_energy=[]\n",
    "tot_Peak_V_t=[]\n",
    "tot_decay_view_angle_t=[]\n",
    "tot_Peak_V_s=[]\n",
    "tot_decay_view_angle_s=[]\n",
    "\n",
    "detections=0\n",
    "rounds = 0\n",
    "while detections == 0:\n",
    "    print rounds\n",
    "    rounds = rounds+1\n",
    "    geom_area = geom_trap.Area(theta_src, h,R,view_angle_cut, N)\n",
    "    A_deg, phi_e, theta_e, view_angle, exit_angle, emg_angle, norm, e_dot, A0, N0 = geom_area.event_retention()\n",
    "\n",
    "    decay_cuts = decay.tau_event(theta_src, ice, E_cut, e_dot, phi_e, theta_e, \\\n",
    "                             norm,E_nu, h, R, view_angle_cut, exit_angle, emg_angle, view_angle, A_deg, A0, N0,1)\n",
    "    \n",
    "    A_decay,ret_e_dot, ret_phi_e, ret_t_e, ret_tau_energy, ret_exit_obs, ret_exit_decay, ret_decay_obs, \\\n",
    "    ret_exit, ret_emg, ret_view, ret_decay_alt, ret_decay_angle, ret_shower_eng,ret_types, ret_p_exit, A0, N0 = decay_cuts.degree_eff_area()\n",
    "\n",
    "    trigger_result_t = RF.event_detection(A_decay, f_lo, f_high, Gain_dB, Nphased, \\\n",
    "                                        ret_exit,ret_emg,ret_view, ret_decay_angle, ret_decay_alt, \\\n",
    "                                        view_angle_cut, ret_exit_obs,ret_exit_decay, ret_decay_obs, ret_p_exit, ret_e_dot,\\\n",
    "                                        ret_tau_energy, R, ice, h, ret_t_e, ret_phi_e,theta_src, Epk_to_pk_threshold1, A0,N0)\n",
    "\n",
    "    decay_alt, Peak_V_t, delta_decay_view_angle, decay_view_angle_t, trigger, threshhold = trigger_result_t.RF_voltage()\n",
    "\n",
    "    trigger_result_s = RF.event_detection(A_decay, f_lo, f_high, Gain_dB, Nphased, \\\n",
    "                                        ret_exit,ret_emg,ret_view, ret_decay_angle, ret_decay_alt, \\\n",
    "                                        theta_view, ret_exit_obs,ret_exit_decay, ret_decay_obs, ret_p_exit, ret_e_dot,\\\n",
    "                                        ret_shower_eng, R, ice, h, ret_t_e, ret_phi_e,theta_src, Epk_to_pk_threshold1, A0,N0)\n",
    "\n",
    "    \n",
    "    print len(ret_tau_energy), len(ret_shower_eng)\n",
    "    decay_alt, Peak_V_s, delta_decay_view_angle, decay_view_angle_s, trigger, threshhold = trigger_result_s.RF_voltage()\n",
    "    tot_ret_shower_eng.append(ret_shower_eng)\n",
    "    tot_ret_tau_energy.append(ret_tau_energy)\n",
    "    tot_Peak_V_t.append(Peak_V_t)\n",
    "    tot_decay_view_angle_t.append(decay_view_angle_t)\n",
    "    tot_Peak_V_s.append(Peak_V_s)\n",
    "    tot_decay_view_angle_s.append(decay_view_angle_s)\n",
    "    \n",
    "    if sum(Peak_V_s >threshhold) !=0:\n",
    "        detections = 1\n",
    "        A = trigger_result_s.RF_eff_area()\n",
    "        print A\n"
   ]
  },
  {
   "cell_type": "code",
   "execution_count": 34,
   "metadata": {},
   "outputs": [
    {
     "name": "stdout",
     "output_type": "stream",
     "text": [
      "[array([17.10040563, 17.21372589, 17.56358535, ..., 17.44950983,\n",
      "       17.50836023, 17.09203324])]\n",
      "[3.38325072e-07 6.31022059e-06 1.69272263e-06 ... 1.89892915e-06\n",
      " 2.31937532e-06 5.71615883e-07]\n",
      "0\n"
     ]
    }
   ],
   "source": [
    "list_ret_shower_eng=[]\n",
    "list_ret_tau_energy=[]\n",
    "list_Peak_V_t=[]\n",
    "list_decay_view_angle_t=[]\n",
    "list_Peak_V_s=[]\n",
    "list_decay_view_angle_s=[]\n",
    "\n",
    "print tot_ret_shower_eng\n",
    "print Peak_V_t\n",
    "for k in range(len(tot_ret_shower_eng)):\n",
    "    print k\n",
    "    for i in range(len(tot_ret_shower_eng[k])):\n",
    "        list_ret_shower_eng.append(tot_ret_shower_eng[k][i])\n",
    "        list_ret_tau_energy.append(tot_ret_tau_energy[k][i])\n",
    "        list_Peak_V_t.append(tot_Peak_V_t[k][i] )\n",
    "        list_decay_view_angle_t.append(tot_decay_view_angle_t[k][i] )\n",
    "        list_Peak_V_s.append(tot_Peak_V_s[k][i] )\n",
    "        list_decay_view_angle_s.append(tot_decay_view_angle_s[k][i] )"
   ]
  },
  {
   "cell_type": "code",
   "execution_count": 18,
   "metadata": {},
   "outputs": [
    {
     "name": "stdout",
     "output_type": "stream",
     "text": [
      "0.00010641390185008879 1\n"
     ]
    },
    {
     "data": {
      "text/plain": [
       "Text(0.5,1,'A1 Tau Showers')"
      ]
     },
     "execution_count": 18,
     "metadata": {},
     "output_type": "execute_result"
    },
    {
     "data": {
      "image/png": "[encoded data removed]",
      "text/plain": [
       "<Figure size 360x360 with 1 Axes>"
      ]
     },
     "metadata": {
      "needs_background": "light"
     },
     "output_type": "display_data"
    }
   ],
   "source": [
    "fig, ax = plt.subplots(num=1,figsize=(5,5))\n",
    "        \n",
    "plt.xlabel('Shower Energy Fraction', fontsize=14)\n",
    "plt.ylabel('Count', fontsize=14)\n",
    "energy_fractions = [(10**ret_shower_eng[i])/(10**ret_tau_energy[i])  for i in range(len(ret_tau_energy))]\n",
    "min_bin = min(energy_fractions)\n",
    "max_bin = 1 #max(energy_fractions)\n",
    "print min_bin ,max_bin\n",
    "n, bins, patches = plt.hist(x=energy_fractions, bins=arange(min_bin,max_bin,0.05), color='#0504aa',\n",
    "                   rwidth=0.85)\n",
    "\n",
    "\n",
    "plt.title(\"A1 Tau Showers\", fontsize=16)\n",
    "\n"
   ]
  },
  {
   "cell_type": "code",
   "execution_count": null,
   "metadata": {},
   "outputs": [],
   "source": []
  },
  {
   "cell_type": "code",
   "execution_count": 35,
   "metadata": {},
   "outputs": [],
   "source": [
    "trigger_t = (list_Peak_V_t >threshhold)\n",
    "ret_decay_view_angle_t=[]\n",
    "ret_Peak_V_t =[]\n",
    "\n",
    "for k in range(len(trigger_t)):\n",
    "    if trigger_t[k]==True:\n",
    "        ret_decay_view_angle_t.append(list_decay_view_angle_t[k])\n",
    "        ret_Peak_V_t.append(list_Peak_V_t[k])\n",
    "        \n",
    "trigger_s = (list_Peak_V_s >threshhold)\n",
    "ret_decay_view_angle_s=[]\n",
    "ret_Peak_V_s =[]\n",
    "\n",
    "for k in range(len(trigger_s)):\n",
    "    if trigger_s[k]==True:\n",
    "        ret_decay_view_angle_s.append(list_decay_view_angle_s[k])\n",
    "        ret_Peak_V_s.append(list_Peak_V_s[k])"
   ]
  },
  {
   "cell_type": "code",
   "execution_count": 12,
   "metadata": {},
   "outputs": [
    {
     "data": {
      "text/plain": [
       "Text(0.5,1,'Before Shower Fraction NH')"
      ]
     },
     "execution_count": 12,
     "metadata": {},
     "output_type": "execute_result"
    },
    {
     "data": {
      "image/png": "[encoded data removed]",
      "text/plain": [
       "<Figure size 360x360 with 1 Axes>"
      ]
     },
     "metadata": {
      "needs_background": "light"
     },
     "output_type": "display_data"
    }
   ],
   "source": [
    "from matplotlib import ticker\n",
    "\n",
    "fig, ax = plt.subplots(num=1,figsize=(5,5))\n",
    "#plt.xlim([1,10])\n",
    "plt.ylabel('Voltage (mV)', fontsize=14)\n",
    "plt.xlabel(' Decay View Angle (deg)', fontsize=14)\n",
    "plt.scatter(list_decay_view_angle_t, [1000*list_Peak_V_t[k] for k in range(len(list_Peak_V_t))], color='#0504aa', s=10)\n",
    "plt.scatter(ret_decay_view_angle_t, [1000*ret_Peak_V_t[k] for k in range(len(ret_Peak_V_t))],\n",
    "            c=\"red\", s=10)\n",
    "\n",
    "plt.axhline(y=threshhold*1000,color=\"black\")\n",
    "plt.title(\"Before Shower Fraction NH\", fontsize=16)\n",
    "\n",
    "#plt.xticks([5])\n",
    "#plt.semilogx()\n"
   ]
  },
  {
   "cell_type": "code",
   "execution_count": null,
   "metadata": {},
   "outputs": [],
   "source": []
  },
  {
   "cell_type": "code",
   "execution_count": 37,
   "metadata": {},
   "outputs": [
    {
     "data": {
      "text/plain": [
       "Text(0.5,1,'After Shower Fraction NH, $\\\\theta_{ele}=1.5^{\\\\circ}$')"
      ]
     },
     "execution_count": 37,
     "metadata": {},
     "output_type": "execute_result"
    },
    {
     "data": {
      "image/png": "[encoded data removed]",
      "text/plain": [
       "<Figure size 360x360 with 1 Axes>"
      ]
     },
     "metadata": {
      "needs_background": "light"
     },
     "output_type": "display_data"
    }
   ],
   "source": [
    "fig, ax = plt.subplots(num=1,figsize=(5,5))\n",
    "        \n",
    "plt.ylabel('Voltage (mV)', fontsize=14)\n",
    "plt.xlabel(' Decay View Angle (deg)', fontsize=14)\n",
    "plt.scatter(list_decay_view_angle_s, [1000*list_Peak_V_s[k] for k in range(len(list_Peak_V_s))], color='#0504aa', s=10)\n",
    "plt.scatter(ret_decay_view_angle_s, [1000*ret_Peak_V_s[k] for k in range(len(ret_Peak_V_s))],\n",
    "            c=\"red\", s=10)\n",
    "plt.xlim(0,5)\n",
    "\n",
    "plt.axhline(y=threshhold*1000,color=\"black\")\n",
    "plt.title(\"After Shower Fraction NH, \"+r'$\\theta_{ele}=1.5^{\\circ}$', fontsize=16)"
   ]
  },
  {
   "cell_type": "code",
   "execution_count": null,
   "metadata": {},
   "outputs": [],
   "source": [
    "fig, ax = plt.subplots(num=1,figsize=(5,5))\n",
    "        \n",
    "plt.xlabel('Voltage (mV)', fontsize=14)\n",
    "plt.ylabel('Count', fontsize=14)\n",
    "Peak_V_mv_t = [1000*list_Peak_V_t[k] for k in range(len(list_Peak_V_t))]\n",
    "ret_Peak_V_mv_t = [1000*ret_Peak_V_t[k] for k in range(len(ret_Peak_V_t))]\n",
    "min_bin = 1000*min(Peak_V_t)\n",
    "max_bin = 1000*max(Peak_V_t)\n",
    "\n",
    "\n",
    "n, bins, patches = plt.hist(x=Peak_V_mv_t, bins=np.arange(min_bin,max_bin,0.0015), color='#0504aa',rwidth=0.85)\n",
    "n, bins, patches = plt.hist(x=ret_Peak_V_mv_t, bins=np.arange(min_bin,max_bin,0.0015), color='red',\n",
    "                   rwidth=0.85)\n",
    "plt.axvline(x=threshhold*1000,color=\"black\")\n",
    "\n",
    "# from matplotlib.ticker import FormatStrFormatter\n",
    "\n",
    "ax.xaxis.set_major_formatter(FormatStrFormatter('%.3f'))\n",
    "\n",
    "\n",
    "plt.title(\"Before Shower Fraction NH RF Voltages\", fontsize=16)\n",
    "plt.semilogy()"
   ]
  },
  {
   "cell_type": "code",
   "execution_count": null,
   "metadata": {},
   "outputs": [],
   "source": [
    "fig, ax = plt.subplots(num=1,figsize=(5,5))\n",
    "        \n",
    "plt.xlabel('Voltage (mV)', fontsize=14)\n",
    "plt.ylabel('Count', fontsize=14)\n",
    "Peak_V_mv_s = [1000*list_Peak_V_s[k] for k in range(len(list_Peak_V_s))]\n",
    "ret_Peak_V_mv_s = [1000*ret_Peak_V_s[k] for k in range(len(ret_Peak_V_s))]\n",
    "min_bin = 1000*min(Peak_V_s)\n",
    "max_bin = 1000*max(Peak_V_t)\n",
    "\n",
    "\n",
    "n, bins, patches = plt.hist(x=Peak_V_mv_s, bins=np.arange(min_bin,max_bin,0.001), color='#0504aa',rwidth=0.85)\n",
    "n, bins, patches = plt.hist(x=ret_Peak_V_mv_s, bins=np.arange(min_bin,max_bin,0.001), color='red',\n",
    "                   rwidth=0.85)\n",
    "\n",
    "ax.xaxis.set_major_formatter(FormatStrFormatter('%.3f'))\n",
    "plt.axvline(x=threshhold*1000,color=\"black\")\n",
    "plt.title(\"After Shower Fraction NH RF Voltages\", fontsize=16)\n",
    "plt.semilogy()"
   ]
  },
  {
   "cell_type": "code",
   "execution_count": null,
   "metadata": {},
   "outputs": [],
   "source": [
    "# METERS SQUARED \n",
    "val = 5.1731059586696745e-05\n",
    "print val * (1000)**2\n",
    "print val * (1000)**2 * (100)**2 * 3600 * 24 * 22"
   ]
  },
  {
   "cell_type": "code",
   "execution_count": null,
   "metadata": {},
   "outputs": [],
   "source": []
  }
 ],
 "metadata": {
  "kernelspec": {
   "display_name": "Python 2",
   "language": "python",
   "name": "python2"
  },
  "language_info": {
   "codemirror_mode": {
    "name": "ipython",
    "version": 2
   },
   "file_extension": ".py",
   "mimetype": "text/x-python",
   "name": "python",
   "nbconvert_exporter": "python",
   "pygments_lexer": "ipython2",
   "version": "2.7.16"
  }
 },
 "nbformat": 4,
 "nbformat_minor": 2
}
