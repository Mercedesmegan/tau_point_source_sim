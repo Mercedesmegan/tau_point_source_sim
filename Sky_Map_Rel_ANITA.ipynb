{
 "cells": [
  {
   "cell_type": "code",
   "execution_count": 2,
   "metadata": {},
   "outputs": [],
   "source": [
    "%matplotlib inline\n",
    "from pylab import *\n",
    "import numpy as np\n",
    "\n",
    "import detectorgeometry as geom"
   ]
  },
  {
   "cell_type": "code",
   "execution_count": 3,
   "metadata": {},
   "outputs": [],
   "source": [
    "# Earth information\n",
    "R = 6356 #km\n",
    "\n",
    "# event information\n",
    "elev = np.asarray([[-27.4,-35.0],[0.3,0.3]]) #degrees\n",
    "azi = np.asarray([[159.6,61.9],[0.7,0.7]]) #degrees\n",
    "alt = np.asarray([35.029,35.861]) #km\n",
    "ice = np.asarray([3.53,3.22]) #km\n"
   ]
  },
  {
   "cell_type": "code",
   "execution_count": 4,
   "metadata": {},
   "outputs": [
    {
     "name": "stdout",
     "output_type": "stream",
     "text": [
      "[62.6 55. ] [76.91403384 62.8856896 ] [159.6  61.9] [26.78443296 34.53563461]\n"
     ]
    }
   ],
   "source": [
    "# determine coordinates in system where observatory is at phi = 0, theta = 0\n",
    "nadir = radians(90 + elev[0])\n",
    "obs_theta_src = degrees(nadir)\n",
    "# h = alt + ice\n",
    "h = alt\n",
    "rho = (2*(R+h)*np.cos(nadir) - np.sqrt(4 * (R+h)**2 * np.cos(nadir)**2 - 4 * (2*R*h+h**2)))/2\n",
    "theta_E = np.arcsin(rho * np.sin(nadir) / R)\n",
    "psi = pi - nadir - theta_E\n",
    "theta_emg = degrees(psi - pi/2)\n",
    "\n",
    "obs_phi_src = azi[0]\n",
    "\n",
    "print obs_theta_src, rho, obs_phi_src, theta_emg"
   ]
  },
  {
   "cell_type": "code",
   "execution_count": 27,
   "metadata": {
    "scrolled": true
   },
   "outputs": [
    {
     "name": "stdout",
     "output_type": "stream",
     "text": [
      "[-47.0, -73.4, -51.8, -78.8, -70.0, -50.2, -18.599999999999994, -24.400000000000006, -47.7, -67.3, -69.9, -84.3]\n"
     ]
    }
   ],
   "source": [
    "# ICE CUBE NUMBERS\n",
    "icecube_src = [43.0,16.6,38.2,11.2,20.0,39.8,71.4,65.6,42.3,22.7,20.1,5.7]\n",
    "icecube_elev = -(90 - np.asarray(icecube_src))\n",
    "print list(icecube_elev)"
   ]
  },
  {
   "cell_type": "code",
   "execution_count": 34,
   "metadata": {},
   "outputs": [
    {
     "name": "stdout",
     "output_type": "stream",
     "text": [
      "367.33474719729037\n",
      "1.9467933124704852e-34\n",
      "1.592830892021306e-34\n"
     ]
    }
   ],
   "source": [
    "# A_peak numbers\n",
    "theta_emg = radians(3.9)\n",
    "psi = theta_emg + pi/2\n",
    "rho_2 = (2*R*np.cos(psi) + np.sqrt(4* R**2 * np.cos(psi)**2 - 4 * (-2*R*h - h**2)))/2\n",
    "\n",
    "print rho_2\n",
    "\n",
    "TA1 = 200*(1000**2) * (3.5*10**(-3))*(5*10**(-2))*18*(24*3600)\n",
    "TA3 = 200*(1000**2) * (3.5*10**(-3))*(5*10**(-2))*22*(24*3600)\n",
    "\n",
    "def F(E,timeA): #eV, seconds times cm^2\n",
    "    F = 2.44/(np.log(10) * timeA * E)\n",
    "    return F\n",
    "\n",
    "print F(10**(19), TA1*(100**2))\n",
    "print F(10**(19), TA3*(100**2))"
   ]
  }
 ],
 "metadata": {
  "kernelspec": {
   "display_name": "Python 2",
   "language": "python",
   "name": "python2"
  },
  "language_info": {
   "codemirror_mode": {
    "name": "ipython",
    "version": 2
   },
   "file_extension": ".py",
   "mimetype": "text/x-python",
   "name": "python",
   "nbconvert_exporter": "python",
   "pygments_lexer": "ipython2",
   "version": "2.7.16"
  }
 },
 "nbformat": 4,
 "nbformat_minor": 2
}
