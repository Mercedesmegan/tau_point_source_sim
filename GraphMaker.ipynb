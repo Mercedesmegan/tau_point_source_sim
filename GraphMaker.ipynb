{
 "cells": [
  {
   "cell_type": "code",
   "execution_count": 1,
   "metadata": {
    "scrolled": true
   },
   "outputs": [
    {
     "data": {
      "text/plain": [
       "<module 'trigger_properties' from 'trigger_properties.pyc'>"
      ]
     },
     "execution_count": 1,
     "metadata": {},
     "output_type": "execute_result"
    }
   ],
   "source": [
    "%matplotlib inline\n",
    "from pylab import *\n",
    "import math\n",
    "import numpy as np\n",
    "from scipy import interpolate\n",
    "\n",
    "import detectorgeometry_trap as geom_trap\n",
    "reload(geom_trap)\n",
    "\n",
    "import decay_properties as decay\n",
    "reload(decay)\n",
    "\n",
    "import trigger_properties as RF\n",
    "reload(RF)\n"
   ]
  },
  {
   "cell_type": "code",
   "execution_count": 2,
   "metadata": {},
   "outputs": [],
   "source": [
    "phi_src = radians(180)\n",
    "h = 35.5 #km\n",
    "R = 6356. # km\n",
    "ice =4\n",
    "theta_view = radians(1) #degrees\n",
    "N = 10000000 # number of samples 1000000\n",
    "E_nu = 18 #log energy in eV of incident neutrino \n",
    "E_cut = 14\n",
    "f_lo = 180\n",
    "f_high = 1200\n",
    "Gain_dB = 10\n",
    "Nphased = 1\n",
    "Epk_to_pk_threshold = 284e-6"
   ]
  },
  {
   "cell_type": "markdown",
   "metadata": {},
   "source": [
    "## MAKING GRAPHS"
   ]
  },
  {
   "cell_type": "markdown",
   "metadata": {},
   "source": [
    "### Make Graph of P_exit by elevation angle (at 10**18 eV)"
   ]
  },
  {
   "cell_type": "code",
   "execution_count": null,
   "metadata": {
    "scrolled": true
   },
   "outputs": [],
   "source": [
    "\n",
    "P_exit=[]\n",
    "\n",
    "# start = 50 # minimum source declination in degrees\n",
    "# end = 80 # maximum source declination in degrees\n",
    "# steps=60 # divisions indeclination used to generate plot\n",
    "# x1 = np.linspace(-(90-start),-(90-end),steps)\n",
    "\n",
    "# for j in range(0,steps):\n",
    "#     theta_src = radians(start+(end-start)*float(j)/steps)\n",
    "#     geom_area = geom_trap.Area(theta_src, h,R,theta_view, N)\n",
    "#     A_deg, phi_e, theta_e, view_angle, exit_angle, emg_angle, norm, e_dot, A0, N0 = geom_area.event_retention()\n",
    "#     decay_cuts = decay.tau_event(theta_src, ice, E_cut, e_dot, phi_e, theta_e, \\\n",
    "#                              norm,E_nu, h, R, theta_view, exit_angle, emg_angle, view_angle, A_deg, A0, N0,0,0)\n",
    "#     A_decay,ret_e_dot, ret_phi_e, ret_t_e, ret_tau_energy, ret_exit_obs, ret_exit_decay, ret_decay_obs, \\\n",
    "# ret_exit, ret_emg, ret_view, ret_decay_alt, ret_decay_angle, ret_fractions,ret_types, ret_p_exit, A0, N0 = decay_cuts.degree_eff_area()\n",
    "#     if A_deg !=0:\n",
    "#         prob_exit = float(A_decay)/float(A_deg)\n",
    "#     else:\n",
    "#         prob_exit =0\n",
    "#     print prob_exit\n",
    "#     P_exit.append(prob_exit)\n",
    "    \n",
    "    \n",
    "start = 50 # minimum source declination in degrees\n",
    "end = 90 # maximum source declination in degrees\n",
    "steps=160 # divisions indeclination used to generate plot\n",
    "x2 = np.linspace(-(90-start),-(90-end),steps)\n",
    "\n",
    "for j in range(0,steps):\n",
    "    theta_src = radians(start+(end-start)*float(j)/steps)\n",
    "    geom_area = geom_trap.Area(theta_src, h,R,theta_view, N)\n",
    "    A_deg, phi_e, theta_e, view_angle, exit_angle, emg_angle, norm, e_dot, A0, N0 = geom_area.event_retention()\n",
    "    decay_cuts = decay.tau_event(theta_src, ice, E_cut, e_dot, phi_e, theta_e, \\\n",
    "                             norm,E_nu, h, R, theta_view, exit_angle, emg_angle, view_angle, A_deg, A0, N0,0,0)\n",
    "    A_decay,ret_e_dot, ret_phi_e, ret_t_e, ret_tau_energy, ret_exit_obs, ret_exit_decay, ret_decay_obs, \\\n",
    "ret_exit, ret_emg, ret_view, ret_decay_alt, ret_decay_angle, ret_fractions,ret_types, ret_p_exit, A0, N0 = decay_cuts.degree_eff_area()\n",
    "    if A_deg !=0:\n",
    "        prob_exit = float(A_decay)/float(A_deg)\n",
    "    else:\n",
    "        prob_exit =0\n",
    "    print prob_exit\n",
    "    P_exit.append(prob_exit)\n",
    "\n"
   ]
  },
  {
   "cell_type": "code",
   "execution_count": null,
   "metadata": {
    "scrolled": true
   },
   "outputs": [],
   "source": [
    "fig = plt.figure(figsize=(7,7))\n",
    "ax = plt.axes(yscale='log')\n",
    "x_full = x2 # np.concatenate((x1,x2))\n",
    "\n",
    "ax.plot(x_full, P_exit)\n",
    "\n",
    "horizon = degrees(np.arcsin(R / (R+h)))-90\n",
    "#plt.xlim(-40,0)  \n",
    "plt.xlabel(\"Payload Elevation Angle of Source \"+r'$\\theta_{ele}$'+\" (degrees)\", fontsize=18)\n",
    "plt.ylabel(r'$P_{exit}$', fontsize=18)\n",
    "plt.title(\"ANITA \"+r'$10^{18}$'+\" eV Exit Probability\", fontsize=20)\n",
    "\n",
    "plt.text(-7.5,8*10**-4,'horizon',rotation=90,fontsize=12)\n",
    "plt.text(-29,3*10**-4,'A1',rotation=90,fontsize=12)\n",
    "plt.text(-36.5,3*10**-4,'A3',rotation=90,fontsize=12)\n",
    "plt.text(-5,1.5*10**-7,'Ice: 4.0 km',fontsize=12)\n",
    "horizon = degrees(np.arcsin(R / (R+h)))-90\n",
    "A1 = -27.4\n",
    "A3 = -35\n",
    "plt.axvline(x=horizon,color='r')\n",
    "plt.axvline(x=A1,color='k')\n",
    "plt.axvline(x=A3,color='k')\n",
    "\n",
    "ax.tick_params(axis = 'both', which = 'major', labelsize = 16)\n",
    "\n",
    "# y_min =min(A_g)\n",
    "# y_max = max(A_g)\n",
    "# print y_min, y_max\n",
    "# y_ticks = [10**x for x in range(int(round(math.log10(10**-10))),int(round(math.log10(y_max)))+1)]\n",
    "# plt.yticks(y_ticks)\n",
    "ax.grid(True,which='both')\n",
    "#plt.semilogy()\n",
    "plt.show()"
   ]
  },
  {
   "cell_type": "markdown",
   "metadata": {},
   "source": [
    "### Make Graph of median decay distance, distance to ANITA by elevation angle (at 10**18 eV)\n",
    "### Make Graph of median tau energy by elevation angle (at 10**18 eV)\n",
    "### Make Graph fraction that exceed ANITA by elevation angle (at 10**18 eV)"
   ]
  },
  {
   "cell_type": "code",
   "execution_count": 31,
   "metadata": {
    "scrolled": true
   },
   "outputs": [
    {
     "name": "stdout",
     "output_type": "stream",
     "text": [
      "50.0 100.0\n",
      "50.5 100.0\n",
      "51.0 100.0\n",
      "51.5 100.0\n",
      "52.0 100.0\n",
      "52.50000000000001 100.0\n",
      "53.0 100.0\n",
      "53.5 100.0\n",
      "54.0 100.0\n",
      "54.5 100.0\n",
      "55.0 100.0\n",
      "55.5 100.0\n",
      "56.0 100.0\n",
      "56.5 100.0\n",
      "57.00000000000001 100.0\n",
      "57.5 100.0\n",
      "58.00000000000001 100.0\n",
      "58.5 100.0\n",
      "59.00000000000001 100.0\n",
      "59.5 100.0\n",
      "59.99999999999999 100.0\n",
      "60.5 100.0\n",
      "61.0 100.0\n",
      "61.50000000000001 100.0\n",
      "62.0 100.0\n",
      "62.50000000000001 100.0\n",
      "63.0 100.0\n",
      "63.50000000000001 100.0\n",
      "64.0 100.0\n",
      "64.5 100.0\n",
      "65.0 100.0\n",
      "65.5 100.0\n",
      "66.0 100.0\n",
      "66.5 100.0\n",
      "67.0 100.0\n",
      "67.5 100.0\n",
      "68.0 100.0\n",
      "68.5 100.0\n",
      "69.0 100.0\n",
      "69.5 100.0\n",
      "70.0 100.0\n",
      "70.5 100.0\n",
      "71.0 100.0\n",
      "71.5 100.0\n",
      "72.0 100.0\n",
      "72.5 100.0\n",
      "73.0 100.0\n",
      "73.5 100.0\n",
      "74.0 100.0\n",
      "74.5 100.0\n",
      "75.0 100.0\n",
      "75.5 100.0\n",
      "76.0 100.0\n",
      "76.5 100.0\n",
      "77.0 100.0\n",
      "77.5 100.0\n",
      "78.0 100.0\n",
      "78.5 100.0\n",
      "79.0 100.0\n",
      "79.5 100.0\n",
      "80.0 100.0\n",
      "80.5 100.0\n",
      "81.0 100.0\n",
      "81.5 99.99999999999768\n",
      "82.0 99.99998961968453\n",
      "82.5 99.97513065918302\n",
      "83.0 99.89862442048657\n",
      "83.5 99.7890696742291\n",
      "84.0 99.68183606494605\n",
      "84.5 99.41664586218724\n",
      "85.0 99.41664586218724\n",
      "85.5 99.41664586218724\n",
      "86.0 99.41664586218724\n",
      "86.5 99.41664586218724\n",
      "87.0 99.41664586218724\n",
      "87.5 99.41664586218724\n",
      "88.0 99.41664586218724\n",
      "88.5 99.41664586218724\n",
      "89.0 99.41664586218724\n",
      "89.5 99.41664586218724\n"
     ]
    }
   ],
   "source": [
    "N=1000000\n",
    "E_nu = 19.5\n",
    "decay_med=[]\n",
    "dist_med = []\n",
    "eng_med=[]\n",
    "frac=[]\n",
    "\n",
    "eng_hi=[]\n",
    "eng_low=[]\n",
    "\n",
    "start = 50 # minimum source declination in degrees\n",
    "end = 90 # maximum source declination in degrees\n",
    "steps=80 # divisions indeclination used to generate plot\n",
    "x2 = np.linspace(-(90-start),-(90-end),steps)\n",
    "\n",
    "for j in range(0,steps):\n",
    "    theta_src = radians(start+(end-start)*float(j)/steps)\n",
    "    geom_area = geom_trap.Area(theta_src, h,R,theta_view, N)\n",
    "    A_deg, phi_e, theta_e, view_angle, exit_angle, emg_angle, norm, e_dot, A0, N0 = geom_area.event_retention()\n",
    "    \n",
    "    if len(exit_angle)!=0:\n",
    "        \n",
    "        decay_cuts = decay.tau_event(theta_src, ice, E_cut, e_dot, phi_e, theta_e, \\\n",
    "                             norm,E_nu, h, R, theta_view, exit_angle, emg_angle, view_angle, A_deg, A0, N0,1)\n",
    "        A_decay,ret_e_dot, ret_phi_e, ret_t_e, ret_tau_energy, ret_exit_obs, ret_exit_decay, ret_decay_obs, \\\n",
    "ret_exit, ret_emg, ret_view, ret_decay_alt, ret_decay_angle, ret_fractions,ret_types, ret_p_exit, A0, N0 = decay_cuts.degree_eff_area()\n",
    "\n",
    "        if len(ret_exit_decay)!=0:\n",
    "            median_decay = np.median(ret_exit_decay)\n",
    "            median_energy=np.median(ret_tau_energy)\n",
    "            median_dist = np.median(ret_exit_obs)\n",
    "\n",
    "            ratio = (10**median_energy) /(10**17)\n",
    "            lamb = 4.9 * ratio\n",
    "            fraction = 100*(1-exp(-median_dist/lamb))  \n",
    "            decay_med.append(median_decay)\n",
    "            dist_med.append(np.median(ret_exit_obs))\n",
    "            eng_med.append(median_energy)\n",
    "            frac.append(fraction)\n",
    "\n",
    "            eng_hi.append(max(ret_tau_energy))\n",
    "            eng_low.append(min(ret_tau_energy))\n",
    "    else:\n",
    "        decay_med.append(0)\n",
    "        dist_med.append(0)\n",
    "        eng_med.append(0)\n",
    "        frac.append(0)\n",
    "        eng_hi.append(0)\n",
    "        eng_low.append(0)\n",
    "    print degrees(theta_src), fraction\n",
    "\n"
   ]
  },
  {
   "cell_type": "code",
   "execution_count": 10,
   "metadata": {},
   "outputs": [
    {
     "name": "stdout",
     "output_type": "stream",
     "text": [
      "1e+19\n"
     ]
    }
   ],
   "source": [
    "print decay_cuts.TEScall"
   ]
  },
  {
   "cell_type": "code",
   "execution_count": 7,
   "metadata": {},
   "outputs": [
    {
     "data": {
      "image/png": "[encoded data removed]",
      "text/plain": [
       "<Figure size 504x504 with 1 Axes>"
      ]
     },
     "metadata": {
      "needs_background": "light"
     },
     "output_type": "display_data"
    }
   ],
   "source": [
    "fig = plt.figure(figsize=(7,7))\n",
    "ax = plt.axes()\n",
    "#x_full = np.concatenate((x1,x2))\n",
    "x_full = x2\n",
    "\n",
    "ax.plot(x_full, decay_med)\n",
    "ax.plot(x_full, dist_med)\n",
    "\n",
    "horizon = degrees(np.arcsin(R / (R+h)))-90\n",
    "plt.xlim(-40,0)  \n",
    "plt.xlabel(\"Payload Elevation Angle of Source \"+r'$\\theta_{ele}$'+\" (degrees)\", fontsize=18)\n",
    "plt.ylabel(r'$[km]$', fontsize=18)\n",
    "plt.title(\"ANITA \"+r'$10^{18}$'+\" eV Flight Path\", fontsize=20)\n",
    "\n",
    "plt.text(-7.5,2,'horizon',rotation=90,fontsize=12)\n",
    "plt.text(-29,2,'A1',rotation=90,fontsize=12)\n",
    "plt.text(-36.5,2,'A3',rotation=90,fontsize=12)\n",
    "plt.text(-20,0.01,'Ice: 4.0 km',fontsize=12)\n",
    "horizon = degrees(np.arcsin(R / (R+h)))-90\n",
    "A1 = -27.4\n",
    "A3 = -35\n",
    "plt.axvline(x=horizon,color='r')\n",
    "plt.axvline(x=A1,color='k')\n",
    "plt.axvline(x=A3,color='k')\n",
    "plt.legend([\"Median Decay Distance\", \"Median Distance Exit-ANITA\"],bbox_to_anchor=[0.5,-0.15])\n",
    "\n",
    "ax.tick_params(axis = 'both', which = 'major', labelsize = 16)\n",
    "\n",
    "# y_min =min(A_g)\n",
    "# y_max = max(A_g)\n",
    "# print y_min, y_max\n",
    "# y_ticks = [10**x for x in range(int(round(math.log10(10**-10))),int(round(math.log10(y_max)))+1)]\n",
    "# plt.yticks(y_ticks)\n",
    "ax.grid(True,which='both')\n",
    "plt.semilogy()\n",
    "plt.show()"
   ]
  },
  {
   "cell_type": "markdown",
   "metadata": {},
   "source": [
    "### Make Graph of median tau energy by elevation angle (at 10**18 eV)\n"
   ]
  },
  {
   "cell_type": "code",
   "execution_count": null,
   "metadata": {},
   "outputs": [],
   "source": [
    "for k in range(len(eng_low)):\n",
    "    print eng_low[k], eng_med[k], eng_hi[k]"
   ]
  },
  {
   "cell_type": "code",
   "execution_count": null,
   "metadata": {
    "scrolled": true
   },
   "outputs": [],
   "source": [
    "fig = plt.figure(figsize=(7,7))\n",
    "ax = plt.axes(yscale='log')\n",
    "# start = 50 \n",
    "# end = 90 # maximum source declination in degrees\n",
    "# steps=40 # divisions indeclination used to generate plot\n",
    "# x = np.linspace(-(90-start),-(90-end),steps)\n",
    "\n",
    "eng_med =np.nan_to_num(eng_med)\n",
    "eng_med_log = [10**eng_med[j] for j in range(len(eng_med))]\n",
    "eng_low_log = [10**eng_low[j] for j in range(len(eng_med))]\n",
    "eng_hi_log = [10**eng_hi[j] for j in range(len(eng_med))]\n",
    "ax.plot(x2, eng_med_log)\n",
    "\n",
    "# ax.plot(x, eng_low_)\n",
    "# ax.plot(x, eng_hi)\n",
    "plt.fill_between(x2, eng_low_log,eng_hi_log,color='lightgray')\n",
    "horizon = degrees(np.arcsin(R / (R+h)))-90\n",
    "plt.xlim(-40,0)  \n",
    "plt.ylim(10**14,10**18)\n",
    "plt.xlabel(\"Payload Elevation Angle of Source \"+r'$\\theta_{ele}$'+\" (degrees)\", fontsize=18)\n",
    "plt.ylabel(\"Median \"+r'$\\tau}$'+\" Energy \"+r'$[eV]$', fontsize=18)\n",
    "plt.title(\"ANITA \"+r'$10^{18}$'+\" eV \"+r'$\\tau}$'+\" Energy\", fontsize=20)\n",
    "\n",
    "plt.text(-7.5,2*10**16,'horizon',rotation=90,fontsize=12)\n",
    "plt.text(-29,2*10**15,'A1',rotation=90,fontsize=12)\n",
    "plt.text(-36.5,2*10**15,'A3',rotation=90,fontsize=12)\n",
    "#plt.text(-10,2*10**13,'Ice: 4.0 km',fontsize=12)\n",
    "horizon = degrees(np.arcsin(R / (R+h)))-90\n",
    "A1 = -27.4\n",
    "A3 = -35\n",
    "plt.axvline(x=horizon,color='r')\n",
    "plt.axvline(x=A1,color='k')\n",
    "plt.axvline(x=A3,color='k')\n",
    "#plt.legend([\"Median Decay Distance\", \"Median Distance Exit-ANITA\"])\n",
    "\n",
    "ax.tick_params(axis = 'both', which = 'major', labelsize = 16)\n",
    "\n",
    "# y_min =min(eng_med_log)\n",
    "# y_max = max(eng_med_log)\n",
    "# print y_min, y_max\n",
    "# y_ticks = [10**x for x in range(int(round(math.log10(10**0))),int(round(math.log10(y_max)))+1)]\n",
    "# plt.yticks(y_ticks)\n",
    "ax.grid(True,which='both')\n",
    "#plt.semilogy()\n",
    "plt.show()"
   ]
  },
  {
   "cell_type": "markdown",
   "metadata": {},
   "source": [
    "### Make Graph fraction that exceed ANITA by elevation angle (at 10**18 eV)"
   ]
  },
  {
   "cell_type": "code",
   "execution_count": null,
   "metadata": {},
   "outputs": [],
   "source": [
    "frac = np.nan_to_num(frac)\n",
    "print frac"
   ]
  },
  {
   "cell_type": "code",
   "execution_count": 32,
   "metadata": {},
   "outputs": [
    {
     "data": {
      "text/plain": [
       "(-40, 0)"
      ]
     },
     "execution_count": 32,
     "metadata": {},
     "output_type": "execute_result"
    },
    {
     "data": {
      "image/png": "[encoded data removed]",
      "text/plain": [
       "<Figure size 504x504 with 1 Axes>"
      ]
     },
     "metadata": {
      "needs_background": "light"
     },
     "output_type": "display_data"
    }
   ],
   "source": [
    "fig = plt.figure(figsize=(7,7))\n",
    "ax = plt.axes()\n",
    "\n",
    "# frac_plot0 = [100*(1-frac[k]) for k in range(len(frac))]\n",
    "# frac_plot1 = [100*(1-frac[k]) for k in range(len(frac))]\n",
    "# frac_plot1[109:]= ['nan' for x in range(len(frac_plot1[109:]))]\n",
    "ax.plot(x2, frac )\n",
    "\n",
    "horizon = degrees(np.arcsin(R / (R+h)))-90\n",
    "#plt.xlim(-40,0)\n",
    "plt.ylim(99,100.5)\n",
    "plt.xlabel(\"Payload Elevation Angle of Source \"+r'$\\theta_{ele}$'+\" (degrees)\", fontsize=18)\n",
    "plt.ylabel('[%]', fontsize=18)\n",
    "plt.title(\"ANITA \"+r'$10^{19.5}$'+\" eV Decay Flights\", fontsize=20, y=1.04)\n",
    "\n",
    "plt.text(-5.5,100.2,'horizon',rotation=90,fontsize=12)\n",
    "plt.text(-29,100.1,'A1',rotation=90,fontsize=12)\n",
    "plt.text(-36.5,100.1,'A3',rotation=90,fontsize=12)\n",
    "# plt.text(-10,10**-18,'Ice: 4.0 km',fontsize=12)\n",
    "horizon = degrees(np.arcsin(R / (R+h)))-90\n",
    "A1 = -27.4\n",
    "A3 = -35\n",
    "plt.axvline(x=horizon,color='r')\n",
    "plt.axvline(x=A1,color='k')\n",
    "plt.axvline(x=A3,color='k')\n",
    "#plt.legend([\"Median Decay Distance\", \"Median Distance Exit-ANITA\"])\n",
    "\n",
    "ax.tick_params(axis = 'both', labelsize = 16)\n",
    "\n",
    "# y_ticks = [10**x for x in range(0,3)]\n",
    "# print y_ticks\n",
    "# plt.yticks(y_ticks)\n",
    "ax.grid(True,which='both')\n",
    "plt.xlim(-40,0)\n",
    "#plt.semilogy()"
   ]
  },
  {
   "cell_type": "markdown",
   "metadata": {},
   "source": [
    "### Trigger Graphs"
   ]
  },
  {
   "cell_type": "code",
   "execution_count": null,
   "metadata": {},
   "outputs": [],
   "source": [
    "theta_src = np.radians(83.6)\n",
    "E_nu = 18\n",
    "N = 50000000\n",
    "Epk_to_pk_threshold3 = 248e-6\n",
    "Epk_to_pk_threshold1 = 446e-6\n",
    "view_angle = radians(1)\n",
    "\n",
    "geom_area = geom_trap.Area(theta_src, h,R,view_angle, N)\n",
    "A_deg, phi_e, theta_e, view_angle, exit_angle, emg_angle, norm, e_dot, A0, N0 = geom_area.event_retention()\n",
    "\n",
    "decay_cuts = decay.tau_event(theta_src, ice, E_cut, e_dot, phi_e, theta_e, \\\n",
    "                         norm,E_nu, h, R, theta_view, exit_angle, emg_angle, view_angle, A_deg, A0, N0,1)\n",
    "A_decay,ret_e_dot, ret_phi_e, ret_t_e, ret_tau_energy, ret_exit_obs, ret_exit_decay, ret_decay_obs, \\\n",
    "ret_exit, ret_emg, ret_view, ret_decay_alt, ret_decay_angle, ret_shower_eng,ret_types, ret_p_exit, A0, N0 = decay_cuts.degree_eff_area()\n",
    "\n",
    "trigger_result = RF.event_detection(A_decay, f_lo, f_high, Gain_dB, Nphased, \\\n",
    "                                    ret_exit,ret_emg,ret_view, ret_decay_angle, ret_decay_alt, \\\n",
    "                                    theta_view, ret_exit_obs,ret_exit_decay, ret_decay_obs, ret_p_exit, ret_e_dot,\\\n",
    "                                    ret_shower_eng, R, ice, h, ret_t_e, ret_phi_e,theta_src, Epk_to_pk_threshold3, A0,N0)\n",
    "\n",
    "\n",
    "A = trigger_result.RF_eff_area()\n",
    "\n",
    "decay_alt, Peak_V, delta_decay_view_angle, decay_view_angle, trigger, threshhold = trigger_result.RF_voltage()\n",
    "print A*(1000)**2"
   ]
  },
  {
   "cell_type": "code",
   "execution_count": null,
   "metadata": {},
   "outputs": [],
   "source": [
    "trigger2 = (Peak_V >threshhold)\n",
    "ret_decay_alt=[]\n",
    "ret_decay_view_angle=[]\n",
    "ret_delta_decay_view_angle =[]\n",
    "ret_Peak_V =[]\n",
    "\n",
    "for k in range(len(trigger2)):\n",
    "    if trigger2[k]==True:\n",
    "        ret_decay_alt.append(decay_alt[k])\n",
    "        ret_decay_view_angle.append(decay_view_angle[k])\n",
    "        ret_delta_decay_view_angle.append(delta_decay_view_angle[k])\n",
    "        ret_Peak_V.append(Peak_V[k])\n",
    "                           "
   ]
  },
  {
   "cell_type": "code",
   "execution_count": null,
   "metadata": {},
   "outputs": [],
   "source": [
    "print len(decay_view_angle), len(ret_decay_view_angle)"
   ]
  },
  {
   "cell_type": "markdown",
   "metadata": {},
   "source": [
    "### Make Histogram of detected decay view angles (for A1, A3, Peak)"
   ]
  },
  {
   "cell_type": "code",
   "execution_count": null,
   "metadata": {},
   "outputs": [],
   "source": [
    "fig, ax = plt.subplots(num=1,figsize=(5,5))\n",
    "        \n",
    "plt.xlabel('Decay View Angle (deg)', fontsize=14)\n",
    "plt.ylabel('Count', fontsize=14)\n",
    "plt.xlim(0,17.5)\n",
    "plt.ylim(0.5,10**5)\n",
    "min_bin = int(round(min(decay_view_angle)))\n",
    "max_bin = int(round(max(decay_view_angle)+1) + 1)\n",
    "n, bins, patches = plt.hist(x=decay_view_angle, bins=arange(min_bin,max_bin,0.25), color='#0504aa',\n",
    "                   rwidth=0.85)\n",
    "n, bins, patches = plt.hist(x=ret_decay_view_angle, bins=arange(min_bin,max_bin,0.25), color='red',\n",
    "                   rwidth=0.85)\n",
    "\n",
    "plt.title(\"Near Horizon Decay View Angles\", fontsize=16)\n",
    "#ax.get_xaxis().set_major_formatter(mpl.ticker.StrMethodFormatter('{:.3g}'))\n",
    "#plt.figtext(.5,-0.1,\"Voltage Cutoff \"+'{:.3g}'.format(cutoff), fontsize=12, ha='center')\n",
    "#plt.figtext(.5,-0.1,\"Voltage Cutoff \"+str(round(cutoff,6)), fontsize=12, ha='center')\n",
    "#plt.text(0.02, 0.02, \"View Angle Cut: \"+str(threshhold), fontsize=14, transform=plt.gcf().transFigure)\n",
    "plt.semilogy()\n",
    "#plt.semilogx()\n",
    "\n",
    "print max(ret_decay_view_angle)"
   ]
  },
  {
   "cell_type": "markdown",
   "metadata": {},
   "source": [
    "### Make Histogram of detected decay altitudes (for A1, A3, Peak)"
   ]
  },
  {
   "cell_type": "code",
   "execution_count": null,
   "metadata": {},
   "outputs": [],
   "source": [
    "fig, ax = plt.subplots(num=1,figsize=(5,5))\n",
    "        \n",
    "plt.xlabel('Decay Altitude (km)', fontsize=14)\n",
    "plt.ylabel('Count', fontsize=14)\n",
    "min_bin = int(round(min(decay_alt)))\n",
    "max_bin = int(round(max(decay_alt)+1) + 1)\n",
    "n, bins, patches = plt.hist(x=decay_alt, bins=arange(min_bin,max_bin,1), color='#0504aa',\n",
    "                   rwidth=0.85)\n",
    "n, bins, patches = plt.hist(x=ret_decay_alt, bins=arange(min_bin,max_bin,1), color='red',\n",
    "                   rwidth=0.85)\n",
    "#plt.axvline(x=threshhold)\n",
    "plt.title(\"Near Horizon Decay Altitudes\", fontsize=16)\n",
    "#ax.get_xaxis().set_major_formatter(mpl.ticker.StrMethodFormatter('{:.3g}'))\n",
    "#plt.figtext(.5,-0.1,\"Voltage Cutoff \"+'{:.3g}'.format(cutoff), fontsize=12, ha='center')\n",
    "#plt.figtext(.5,-0.1,\"Voltage Cutoff \"+str(round(cutoff,6)), fontsize=12, ha='center')\n",
    "#plt.text(0.02, 0.02, \"View Angle Cut: \"+str(threshhold), fontsize=14, transform=plt.gcf().transFigure)\n",
    "plt.semilogy()\n",
    "\n",
    "print max(ret_decay_alt)"
   ]
  },
  {
   "cell_type": "markdown",
   "metadata": {},
   "source": [
    "### Make Histogram of Decay Voltages"
   ]
  },
  {
   "cell_type": "code",
   "execution_count": null,
   "metadata": {},
   "outputs": [],
   "source": [
    "fig, ax = plt.subplots(num=1,figsize=(5,5))\n",
    "        \n",
    "plt.xlabel('Voltage (mV)', fontsize=14)\n",
    "plt.ylabel('Count', fontsize=14)\n",
    "Peak_V_mv = [1000*Peak_V[k] for k in range(len(Peak_V))]\n",
    "ret_Peak_V_mv = [1000*ret_Peak_V[k] for k in range(len(ret_Peak_V))]\n",
    "min_bin = 1000*min(Peak_V)\n",
    "max_bin = 1000*max(Peak_V)\n",
    "\n",
    "\n",
    "n, bins, patches = plt.hist(x=Peak_V_mv, bins=np.arange(min_bin,max_bin,0.0005), color='#0504aa',rwidth=0.85)\n",
    "n, bins, patches = plt.hist(x=ret_Peak_V_mv, bins=np.arange(min_bin,max_bin,0.0005), color='red',\n",
    "                   rwidth=0.85)\n",
    "plt.axvline(x=threshhold*1000,color=\"black\")\n",
    "plt.title(\"Near Horizon RF Voltages\", fontsize=16)\n",
    "#ax.get_xaxis().set_major_formatter(mpl.ticker.StrMethodFormatter('{:.3g}'))\n",
    "#plt.figtext(.5,-0.1,\"Voltage Cutoff \"+'{:.3g}'.format(cutoff), fontsize=12, ha='center')\n",
    "#plt.figtext(.5,-0.1,\"Voltage Cutoff \"+str(round(cutoff,6)), fontsize=12, ha='center')\n",
    "#plt.text(0.02, 0.02, \"View Angle Cut: \"+str(threshhold), fontsize=14, transform=plt.gcf().transFigure)\n",
    "plt.semilogy()\n"
   ]
  },
  {
   "cell_type": "markdown",
   "metadata": {},
   "source": [
    "### Scatter View Angle Voltage"
   ]
  },
  {
   "cell_type": "code",
   "execution_count": null,
   "metadata": {},
   "outputs": [],
   "source": [
    "fig, ax = plt.subplots(num=1,figsize=(5,5))\n",
    "        \n",
    "plt.ylabel('Voltage (mV)', fontsize=14)\n",
    "plt.xlabel('Decay View Angle (deg)', fontsize=14)\n",
    "plt.scatter(decay_view_angle, [1000*Peak_V[k] for k in range(len(Peak_V))], color='#0504aa', s=10)\n",
    "plt.scatter(ret_decay_view_angle, [1000*ret_Peak_V[k] for k in range(len(ret_Peak_V))],\n",
    "            c=\"red\", s=10)\n",
    "\n",
    "plt.axhline(y=threshhold*1000,color=\"black\")\n",
    "plt.title(\"A1 RF Signal Parameters\", fontsize=16)"
   ]
  },
  {
   "cell_type": "markdown",
   "metadata": {},
   "source": [
    "### INVESTING LUT"
   ]
  },
  {
   "cell_type": "code",
   "execution_count": null,
   "metadata": {},
   "outputs": [],
   "source": [
    "start = 80 # minimum source declination in degrees\n",
    "end = 85 # maximum source declination in degrees\n",
    "steps=40 # divisions indeclination used to generate plot\n",
    "x2 = np.linspace(-(90-start),-(90-end),steps)\n",
    "\n",
    "import Tau_Exit_Simulator_2 as TauExitSimulator\n",
    "reload(TauExitSimulator)\n",
    "\n",
    "for j in range(0,1):\n",
    "    theta_src = radians(start+(end-start)*float(j)/steps)\n",
    "    geom_area = geom_trap.Area(theta_src, h,R,theta_view, N)\n",
    "    earth_t = geom_area.thetaE_nadir(theta_src)\n",
    "    earth_t_min, earth_t_max, phi_E_min, phi_E_max = geom_area.earth_patch(theta_src,phi_src, theta_view)\n",
    "    r_x, r_y, r_z = geom_area.coords(theta_src,phi_src + np.pi) \n",
    "    t_e,phi_e = geom_area.earth_locs(earth_t_min, earth_t_max, phi_E_min, phi_E_max)\n",
    "    e_x,e_y,e_z = geom_area.coords(t_e,phi_e)\n",
    "    view_angle, exit_angle,emg_angle, flight_path = geom_area.view_angle_dist_det(e_x,e_y,e_z,r_x, r_y,r_z)\n",
    "    mean_exit = np.mean(exit_angle)\n",
    "    \n",
    "    \n",
    "    \n",
    "    print np.round(degrees(theta_src),3), round(mean_exit,3) #, TES.data_array[]\n",
    "    "
   ]
  },
  {
   "cell_type": "code",
   "execution_count": null,
   "metadata": {},
   "outputs": [],
   "source": [
    "import Tau_Exit_Simulator_2 as TauExitSimulator\n",
    "reload(TauExitSimulator)\n",
    "\n",
    "TES=TauExitSimulator.Tau_Exit_Simulator('./high_statistics/4.0km_ice_midCS_stdEL/LUT_1e+18_eV.npz')\n",
    "\n",
    "for i in range(len(TES.data_array)-1):\n",
    "    int_val = (TES.th_exit[i]+TES.th_exit[i+1])/2\n",
    "    if len(TES.data_array[i])!=0:\n",
    "        print len(TES.data_array[i])\n",
    "        print TES.th_exit[i], min(energy_arr), TES.sample_energies_th_exit(int_val)\n",
    "    else:\n",
    "        print i, TES.th_exit[i], \"N/A\", TES.sample_energies_th_exit(int_val)\n",
    "    print \"  \""
   ]
  },
  {
   "cell_type": "code",
   "execution_count": null,
   "metadata": {},
   "outputs": [],
   "source": [
    "print len(TES.data_array[28])"
   ]
  },
  {
   "cell_type": "code",
   "execution_count": null,
   "metadata": {},
   "outputs": [],
   "source": [
    "6.2 * 10**-5 * 24 * 18 * 3600 *100**2"
   ]
  },
  {
   "cell_type": "markdown",
   "metadata": {},
   "source": [
    "## Plotting the difference in trigger probability for tau enery or shower energy"
   ]
  },
  {
   "cell_type": "code",
   "execution_count": null,
   "metadata": {
    "scrolled": true
   },
   "outputs": [],
   "source": [
    "A_rf_t = []\n",
    "A_rf_s = []\n",
    "\n",
    "N=1000000\n",
    "\n",
    "start = 50 # minimum source declination in degrees\n",
    "end = 90 # maximum source declination in degrees\n",
    "steps=80 # divisions indeclination used to generate plot\n",
    "x2 = np.linspace(-(90-start),-(90-end),steps)\n",
    "\n",
    "for j in range(0,steps):\n",
    "    theta_src = radians(start+(end-start)*float(j)/steps)  \n",
    "    geom_area = geom_trap.Area(theta_src, h,R,theta_view, N)\n",
    "    A_deg, phi_e, theta_e, view_angle, exit_angle, emg_angle, norm, e_dot, A0, N0 = geom_area.event_retention()\n",
    " \n",
    "    decay_prop = decay.tau_event(theta_src, ice, E_cut, e_dot, phi_e, theta_e, \\\n",
    "                             norm,E_nu, h, R, theta_view, exit_angle, emg_angle, view_angle, A_deg, A0, N0,1)\n",
    "\n",
    "    A_decay,ret_e_dot, ret_phi_e, ret_t_e, ret_tau_energy, ret_exit_obs, ret_exit_decay, ret_decay_obs, \\\n",
    "    ret_exit, ret_emg, ret_view, ret_decay_alt, ret_decay_angle, ret_shower_eng,ret_types, ret_p_exit, A0, N0 = decay_prop.degree_eff_area()\n",
    "    \n",
    "    A_trigger_t =0\n",
    "    A_trigger_s =0\n",
    "    if len(ret_e_dot) != 0:\n",
    "        trigger_result_t = RF.event_detection(A_decay, f_lo, f_high, Gain_dB, Nphased, \\\n",
    "                                        ret_exit,ret_emg,ret_view, ret_decay_angle, ret_decay_alt, \\\n",
    "                                        theta_view, ret_exit_obs,ret_exit_decay, ret_decay_obs, ret_p_exit, ret_e_dot,\\\n",
    "                                        ret_tau_energy, R, ice, h, ret_t_e, ret_phi_e,theta_src, Epk_to_pk_threshold, A0,N0)\n",
    "        A_trigger_t = trigger_result_t.RF_eff_area()\n",
    "        \n",
    "        trigger_result_s = RF.event_detection(A_decay, f_lo, f_high, Gain_dB, Nphased, \\\n",
    "                                        ret_exit,ret_emg,ret_view, ret_decay_angle, ret_decay_alt, \\\n",
    "                                        theta_view, ret_exit_obs,ret_exit_decay, ret_decay_obs, ret_p_exit, ret_e_dot,\\\n",
    "                                        ret_shower_eng, R, ice, h, ret_t_e, ret_phi_e,theta_src, Epk_to_pk_threshold, A0,N0)\n",
    "        A_trigger_s = trigger_result_s.RF_eff_area()\n",
    "\n",
    "    A_rf_t.append(A_trigger_t)\n",
    "    A_rf_s.append(A_trigger_s)\n",
    "    print round(degrees(theta_src),4)"
   ]
  },
  {
   "cell_type": "code",
   "execution_count": null,
   "metadata": {},
   "outputs": [],
   "source": [
    "arrays = [ret_exit,ret_emg,ret_view, ret_decay_angle, ret_decay_alt, \\\n",
    "                                         ret_exit_obs,ret_exit_decay, ret_decay_obs, ret_p_exit, ret_e_dot,\\\n",
    "                                        ret_shower_eng, ret_tau_energy,  ret_t_e, ret_phi_e]\n",
    "for i in range(len(arrays)):\n",
    "    print i, len(arrays[i])"
   ]
  },
  {
   "cell_type": "code",
   "execution_count": null,
   "metadata": {
    "scrolled": true
   },
   "outputs": [],
   "source": [
    "# Creating a plot for the full range of possible source declinations \n",
    "fig = plt.figure(figsize=(7,7))\n",
    "ax = plt.axes()\n",
    "x_full = x2 #np.concatenate((x1,x2))\n",
    "\n",
    "ax.plot(x_full, A_rf_t)\n",
    "ax.plot(x_full, A_rf_s)\n",
    "    \n",
    "horizon = degrees(np.arcsin(R / (R+h)))-90\n",
    "plt.text(-7.5,10**-7,'horizon',rotation=90,fontsize=12)\n",
    "plt.text(-29,10**-4,'A1',rotation=90,fontsize=12)\n",
    "plt.text(-36.5,10**-4,'A3',rotation=90,fontsize=12)\n",
    "horizon = degrees(np.arcsin(R / (R+h)))-90\n",
    "A1 = -27.4\n",
    "A3 = -35\n",
    "plt.axvline(x=horizon,color='r')\n",
    "plt.axvline(x=A1,color='k')\n",
    "plt.axvline(x=A3,color='k')\n",
    "legend = ax.legend([\"Tau Energy\", \"Shower Energy\"], fontsize=14)\n",
    "plt.xlabel(\"Payload Elevation Angle of Source \"+r'$\\theta_{ele}$'+\" (degrees)\", fontsize=18)\n",
    "plt.ylabel(r'$\\langle A \\rangle$'+\" \"+r'$[km^2]$', fontsize=18)\n",
    "plt.title(\"Geometric Effective Area\", fontsize=20)\n",
    "plt.setp(legend.get_title(),fontsize='x-large')\n",
    "ax.tick_params(axis = 'both', which = 'major', labelsize = 16)\n",
    "plt.grid(True,which='both')\n",
    "plt.semilogy()"
   ]
  },
  {
   "cell_type": "code",
   "execution_count": null,
   "metadata": {},
   "outputs": [],
   "source": [
    "## Plotting the two thresholds"
   ]
  },
  {
   "cell_type": "code",
   "execution_count": null,
   "metadata": {},
   "outputs": [],
   "source": [
    "#Graph for different cutoffs\n",
    "Epk_to_pk_threshold3 = 248e-6\n",
    "Epk_to_pk_threshold1 = 446e-6\n",
    "\n",
    "A_rf_1 = []\n",
    "A_rf_3 = []\n",
    "\n",
    "N=10000000\n",
    "\n",
    "start = 50 # minimum source declination in degrees\n",
    "end = 90 # maximum source declination in degrees\n",
    "steps=80 # divisions indeclination used to generate plot\n",
    "x2 = np.linspace(-(90-start),-(90-end),steps)\n",
    "\n",
    "for j in range(0,steps):\n",
    "    theta_src = radians(start+(end-start)*float(j)/steps)  \n",
    "    print start+(end-start)*float(j)/steps\n",
    "    geom_area = geom_trap.Area(theta_src, h,R,theta_view, N)\n",
    "    A_deg, phi_e, theta_e, view_angle, exit_angle, emg_angle, norm, e_dot, A0, N0 = geom_area.event_retention()\n",
    " \n",
    "    decay_prop = decay.tau_event(theta_src, ice, E_cut, e_dot, phi_e, theta_e, \\\n",
    "                             norm,E_nu, h, R, theta_view, exit_angle, emg_angle, view_angle, A_deg, A0, N0,1)\n",
    "\n",
    "    A_decay,ret_e_dot, ret_phi_e, ret_t_e, ret_tau_energy, ret_exit_obs, ret_exit_decay, ret_decay_obs, \\\n",
    "    ret_exit, ret_emg, ret_view, ret_decay_alt, ret_decay_angle, ret_shower_eng,ret_types, ret_p_exit, A0, N0 = decay_prop.degree_eff_area()\n",
    "    A_trigger1 =0\n",
    "    A_trigger3 =0\n",
    "    if len(ret_e_dot) != 0:\n",
    "        trigger_result1 = RF.event_detection(A_decay, f_lo, f_high, Gain_dB, Nphased, \\\n",
    "                                        ret_exit,ret_emg,ret_view, ret_decay_angle, ret_decay_alt, \\\n",
    "                                        theta_view, ret_exit_obs,ret_exit_decay, ret_decay_obs, ret_p_exit, ret_e_dot,\\\n",
    "                                        ret_shower_eng, R, ice, h, ret_t_e, ret_phi_e,theta_src, Epk_to_pk_threshold1, A0,N0)\n",
    "        A_trigger1 = trigger_result1.RF_eff_area()\n",
    "        \n",
    "        trigger_result3 = RF.event_detection(A_decay, f_lo, f_high, Gain_dB, Nphased, \\\n",
    "                                        ret_exit,ret_emg,ret_view, ret_decay_angle, ret_decay_alt, \\\n",
    "                                        theta_view, ret_exit_obs,ret_exit_decay, ret_decay_obs, ret_p_exit, ret_e_dot,\\\n",
    "                                        ret_shower_eng, R, ice, h, ret_t_e, ret_phi_e,theta_src, Epk_to_pk_threshold3, A0,N0)\n",
    "        A_trigger3 = trigger_result3.RF_eff_area()\n",
    "\n",
    "    A_rf_1.append(A_trigger1)\n",
    "    A_rf_3.append(A_trigger3)\n",
    "    print round(degrees(theta_src),4)"
   ]
  },
  {
   "cell_type": "code",
   "execution_count": null,
   "metadata": {},
   "outputs": [],
   "source": [
    "# Creating a plot for the full range of possible source declinations \n",
    "fig = plt.figure(figsize=(7,7))\n",
    "ax = plt.axes()\n",
    "x_full = x2 #np.concatenate((x1,x2))\n",
    "\n",
    "ax.plot(x_full, A_rf_1)\n",
    "ax.plot(x_full, A_rf_3)\n",
    "    \n",
    "horizon = degrees(np.arcsin(R / (R+h)))-90\n",
    "plt.text(-5.5,10**-4,'horizon',rotation=90,fontsize=12)\n",
    "plt.text(-29,10**-4,'A1',rotation=90,fontsize=12)\n",
    "plt.text(-36.5,10**-4,'A3',rotation=90,fontsize=12)\n",
    "horizon = degrees(np.arcsin(R / (R+h)))-90\n",
    "A1 = -27.4\n",
    "A3 = -35\n",
    "plt.axvline(x=horizon,color='r')\n",
    "plt.axvline(x=A1,color='k')\n",
    "plt.axvline(x=A3,color='k')\n",
    "legend = ax.legend([\"ANITA 1\",\"ANITA 3\"], fontsize=14,bbox_to_anchor=(0.8, -0.15))\n",
    "plt.xlabel(\"Payload Elevation Angle of Source \"+r'$\\theta_{ele}$'+\" (degrees)\", fontsize=18)\n",
    "plt.ylabel(r'$\\langle A \\rangle$'+\" \"+r'$[km^2]$', fontsize=18)\n",
    "plt.title(\"Geometric Effective Area\", fontsize=20)\n",
    "plt.setp(legend.get_title(),fontsize='x-large')\n",
    "ax.tick_params(axis = 'both', which = 'major', labelsize = 16)\n",
    "plt.grid(True,which='both')\n",
    "plt.semilogy()"
   ]
  },
  {
   "cell_type": "code",
   "execution_count": null,
   "metadata": {},
   "outputs": [],
   "source": []
  }
 ],
 "metadata": {
  "kernelspec": {
   "display_name": "Python 2",
   "language": "python",
   "name": "python2"
  },
  "language_info": {
   "codemirror_mode": {
    "name": "ipython",
    "version": 2
   },
   "file_extension": ".py",
   "mimetype": "text/x-python",
   "name": "python",
   "nbconvert_exporter": "python",
   "pygments_lexer": "ipython2",
   "version": "2.7.16"
  }
 },
 "nbformat": 4,
 "nbformat_minor": 2
}
